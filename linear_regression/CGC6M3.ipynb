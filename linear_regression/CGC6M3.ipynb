{
  "nbformat": 4,
  "nbformat_minor": 0,
  "metadata": {
    "colab": {
      "provenance": []
    },
    "kernelspec": {
      "name": "python3",
      "display_name": "Python 3"
    },
    "language_info": {
      "name": "python"
    }
  },
  "cells": [
    {
      "cell_type": "markdown",
      "source": [
        "## Module 3: Statistical Inference for Linear Regression"
      ],
      "metadata": {
        "id": "Mh8D_4MML3ws"
      }
    },
    {
      "cell_type": "markdown",
      "source": [
        "### Step 0"
      ],
      "metadata": {
        "id": "z2FR3HKBL9p1"
      }
    },
    {
      "cell_type": "markdown",
      "source": [
        "Load the appropriate libraries and bring in the data. Note that we have to run a script to get the [California Housing dataset](https://scikit-learn.org/stable/modules/generated/sklearn.datasets.fetch_california_housing.html) to match as it is in scikit-learn. We cannot pull it directly from scikit-learn since CodeGrade cannot access the internet."
      ],
      "metadata": {
        "id": "NNwf833ZMAvZ"
      }
    },
    {
      "cell_type": "code",
      "execution_count": 2,
      "metadata": {
        "id": "09VaPgNdpoS9"
      },
      "outputs": [],
      "source": [
        "# CodeGrade step0\n",
        "\n",
        "from sklearn.datasets import fetch_california_housing\n",
        "import pandas as pd\n",
        "import numpy as np\n",
        "import matplotlib.pyplot as plt\n",
        "from sklearn.linear_model import LinearRegression\n",
        "from scipy.stats import pearsonr\n",
        "import os\n",
        "import tarfile\n",
        "import joblib # Import joblib directly\n",
        "from sklearn.datasets._base import _pkl_filepath, get_data_home\n",
        "import statsmodels.api as sm\n",
        "\n",
        "\n",
        "archive_path = \"cal_housing.tgz\" # change the path if it's not in the current directory\n",
        "data_home = get_data_home(data_home=None) # change data_home if you are not using ~/scikit_learn_data\n",
        "if not os.path.exists(data_home):\n",
        "    os.makedirs(data_home)\n",
        "filepath = _pkl_filepath(data_home, 'cal_housing.pkz')\n",
        "\n",
        "with tarfile.open(mode=\"r:gz\", name=archive_path) as f:\n",
        "    cal_housing = np.loadtxt(\n",
        "        f.extractfile('CaliforniaHousing/cal_housing.data'),\n",
        "        delimiter=',')\n",
        "    # Columns are not in the same order compared to the previous\n",
        "    # URL resource on lib.stat.cmu.edu\n",
        "    columns_index = [8, 7, 2, 3, 4, 5, 6, 1, 0]\n",
        "    cal_housing = cal_housing[:, columns_index]\n",
        "\n",
        "    joblib.dump(cal_housing, filepath, compress=6) # Now using the directly imported joblib\n",
        "\n",
        "# Load the dataset\n",
        "california = fetch_california_housing(as_frame=True)\n",
        "data = california.data\n",
        "target = california.target"
      ]
    },
    {
      "cell_type": "markdown",
      "source": [
        "### Step 1\n",
        "\n",
        "*   Create a copy of the data and call it `df`\n",
        "*   Select the `X` variable to be `MedInc` and the `y` be `MedianHouseValue`\n",
        "*   Add the constant term and call it `X_const`\n",
        "\n",
        "Verify this by returning the shape of `X_const`"
      ],
      "metadata": {
        "id": "_zNYMtPVMFFu"
      }
    },
    {
      "cell_type": "code",
      "source": [
        "# CodeGrade step1\n",
        "\n",
        "# create copy of data\n",
        "df = data.copy()\n",
        "\n",
        "# display dataset info\n",
        "print(df.info())\n",
        "\n",
        "# X = MedInc, y = median house value\n",
        "X = df[['MedInc']]\n",
        "y = target\n",
        "\n",
        "print(X.describe())\n",
        "print(y.describe())\n",
        "\n",
        "# add constant term\n",
        "X_const = sm.add_constant(df['MedInc'])\n",
        "\n",
        "# ensure X and y have consistent dimensions\n",
        "print(f\"X shape: {X.shape}, y shape: {y.shape}\")"
      ],
      "metadata": {
        "id": "dKaeGftlb_vW",
        "colab": {
          "base_uri": "https://localhost:8080/"
        },
        "outputId": "287ea426-a582-4b30-ad3f-a114e9a5b00f"
      },
      "execution_count": 26,
      "outputs": [
        {
          "output_type": "stream",
          "name": "stdout",
          "text": [
            "<class 'pandas.core.frame.DataFrame'>\n",
            "RangeIndex: 20640 entries, 0 to 20639\n",
            "Data columns (total 8 columns):\n",
            " #   Column      Non-Null Count  Dtype  \n",
            "---  ------      --------------  -----  \n",
            " 0   MedInc      20640 non-null  float64\n",
            " 1   HouseAge    20640 non-null  float64\n",
            " 2   AveRooms    20640 non-null  float64\n",
            " 3   AveBedrms   20640 non-null  float64\n",
            " 4   Population  20640 non-null  float64\n",
            " 5   AveOccup    20640 non-null  float64\n",
            " 6   Latitude    20640 non-null  float64\n",
            " 7   Longitude   20640 non-null  float64\n",
            "dtypes: float64(8)\n",
            "memory usage: 1.3 MB\n",
            "None\n",
            "             MedInc\n",
            "count  20640.000000\n",
            "mean       3.870671\n",
            "std        1.899822\n",
            "min        0.499900\n",
            "25%        2.563400\n",
            "50%        3.534800\n",
            "75%        4.743250\n",
            "max       15.000100\n",
            "count    20640.000000\n",
            "mean         2.068558\n",
            "std          1.153956\n",
            "min          0.149990\n",
            "25%          1.196000\n",
            "50%          1.797000\n",
            "75%          2.647250\n",
            "max          5.000010\n",
            "Name: MedHouseVal, dtype: float64\n",
            "X shape: (20640, 1), y shape: (20640,)\n"
          ]
        }
      ]
    },
    {
      "cell_type": "markdown",
      "source": [
        "### Step 2\n",
        "\n",
        "*   fit the OLS model and call it `model`\n",
        "\n",
        "Then return the rounded model $r^2$ value to four decimal places."
      ],
      "metadata": {
        "id": "U8rG44WSMsGA"
      }
    },
    {
      "cell_type": "code",
      "source": [
        "# CodeGrade step2\n",
        "\n",
        "# fit the regression model\n",
        "model = sm.OLS(y, X_const).fit()\n",
        "\n",
        "# calculate r squared value\n",
        "r_squared = model.rsquared\n",
        "print(f\"R-squared: {r_squared:.4f}\")"
      ],
      "metadata": {
        "id": "0z-coAkjcsfK",
        "colab": {
          "base_uri": "https://localhost:8080/"
        },
        "outputId": "c1beaa20-2921-4ce4-b3a4-84680971f0ac"
      },
      "execution_count": 14,
      "outputs": [
        {
          "output_type": "stream",
          "name": "stdout",
          "text": [
            "R-squared: 0.4734\n"
          ]
        }
      ]
    },
    {
      "cell_type": "markdown",
      "source": [
        "Print the model summary"
      ],
      "metadata": {
        "id": "HyTQh0PhPb2I"
      }
    },
    {
      "cell_type": "code",
      "source": [
        "# Display the summary\n",
        "print(model.summary())"
      ],
      "metadata": {
        "id": "Fu8rCwDIc_Xs",
        "colab": {
          "base_uri": "https://localhost:8080/"
        },
        "outputId": "f35a5019-e686-4e05-ea05-4dbf53e62c6f"
      },
      "execution_count": 11,
      "outputs": [
        {
          "output_type": "stream",
          "name": "stdout",
          "text": [
            "                            OLS Regression Results                            \n",
            "==============================================================================\n",
            "Dep. Variable:            MedHouseVal   R-squared:                       0.473\n",
            "Model:                            OLS   Adj. R-squared:                  0.473\n",
            "Method:                 Least Squares   F-statistic:                 1.856e+04\n",
            "Date:                Tue, 20 May 2025   Prob (F-statistic):               0.00\n",
            "Time:                        18:09:28   Log-Likelihood:                -25623.\n",
            "No. Observations:               20640   AIC:                         5.125e+04\n",
            "Df Residuals:                   20638   BIC:                         5.127e+04\n",
            "Df Model:                           1                                         \n",
            "Covariance Type:            nonrobust                                         \n",
            "==============================================================================\n",
            "                 coef    std err          t      P>|t|      [0.025      0.975]\n",
            "------------------------------------------------------------------------------\n",
            "const          0.4509      0.013     34.082      0.000       0.425       0.477\n",
            "MedInc         0.4179      0.003    136.223      0.000       0.412       0.424\n",
            "==============================================================================\n",
            "Omnibus:                     4245.795   Durbin-Watson:                   0.655\n",
            "Prob(Omnibus):                  0.000   Jarque-Bera (JB):             9273.446\n",
            "Skew:                           1.191   Prob(JB):                         0.00\n",
            "Kurtosis:                       5.260   Cond. No.                         10.2\n",
            "==============================================================================\n",
            "\n",
            "Notes:\n",
            "[1] Standard Errors assume that the covariance matrix of the errors is correctly specified.\n"
          ]
        }
      ]
    },
    {
      "cell_type": "markdown",
      "source": [
        "### Step 3\n",
        "\n",
        "Extract the slope and the related statistics for `MedInc`, calling them, respetively, `slope`, `std_error`, `t_statistic`, and `p_value`.\n",
        "\n",
        "Return the following (do not round) to verify: `slope, std_error, t_statistic, p_value`.\n"
      ],
      "metadata": {
        "id": "mbj7yujsPd5j"
      }
    },
    {
      "cell_type": "code",
      "source": [
        "# CodeGrade step3\n",
        "slope = model.params['MedInc']\n",
        "std_error = model.bse['MedInc']\n",
        "t_statistic = model.tvalues['MedInc']\n",
        "p_value = model.pvalues['MedInc']\n",
        "\n",
        "# return slope and stats\n",
        "slope, std_error, t_statistic, p_value\n"
      ],
      "metadata": {
        "id": "6ofr7RmBew16",
        "colab": {
          "base_uri": "https://localhost:8080/"
        },
        "outputId": "372e8f9c-8fec-4189-ae09-f1c192b2a404"
      },
      "execution_count": 16,
      "outputs": [
        {
          "output_type": "execute_result",
          "data": {
            "text/plain": [
              "(np.float64(0.4179384920189623),\n",
              " np.float64(0.003068057538867836),\n",
              " np.float64(136.22250779989886),\n",
              " np.float64(0.0))"
            ]
          },
          "metadata": {},
          "execution_count": 16
        }
      ]
    },
    {
      "cell_type": "markdown",
      "source": [
        "### Step 4\n",
        "\n",
        "Calculuate the confidence interval of `MedInc` at a 95% level of confidence, and call this `conf_int`.\n",
        "\n",
        "Return the confidence interval rounded to four decimals places."
      ],
      "metadata": {
        "id": "OIecobYwPw2b"
      }
    },
    {
      "cell_type": "code",
      "source": [
        "# CodeGrade step4\n",
        "\n",
        "# calc confidence interval of medinc at 95% level of confidence\n",
        "conf_int = round(model.conf_int(alpha=0.05).loc['MedInc'], 4)\n",
        "conf_int"
      ],
      "metadata": {
        "id": "h4xYMJRefoHH",
        "colab": {
          "base_uri": "https://localhost:8080/",
          "height": 147
        },
        "outputId": "518e44bb-48eb-45c8-c1b0-1ec5393b69ba"
      },
      "execution_count": 21,
      "outputs": [
        {
          "output_type": "execute_result",
          "data": {
            "text/plain": [
              "0    0.4119\n",
              "1    0.4240\n",
              "Name: MedInc, dtype: float64"
            ],
            "text/html": [
              "<div>\n",
              "<style scoped>\n",
              "    .dataframe tbody tr th:only-of-type {\n",
              "        vertical-align: middle;\n",
              "    }\n",
              "\n",
              "    .dataframe tbody tr th {\n",
              "        vertical-align: top;\n",
              "    }\n",
              "\n",
              "    .dataframe thead th {\n",
              "        text-align: right;\n",
              "    }\n",
              "</style>\n",
              "<table border=\"1\" class=\"dataframe\">\n",
              "  <thead>\n",
              "    <tr style=\"text-align: right;\">\n",
              "      <th></th>\n",
              "      <th>MedInc</th>\n",
              "    </tr>\n",
              "  </thead>\n",
              "  <tbody>\n",
              "    <tr>\n",
              "      <th>0</th>\n",
              "      <td>0.4119</td>\n",
              "    </tr>\n",
              "    <tr>\n",
              "      <th>1</th>\n",
              "      <td>0.4240</td>\n",
              "    </tr>\n",
              "  </tbody>\n",
              "</table>\n",
              "</div><br><label><b>dtype:</b> float64</label>"
            ]
          },
          "metadata": {},
          "execution_count": 21
        }
      ]
    },
    {
      "cell_type": "markdown",
      "source": [
        "### Step 5\n",
        "\n",
        "Find the model predictions, call them `y_pred`.\n",
        "\n",
        "Return `y_pred.shape` to verify."
      ],
      "metadata": {
        "id": "TWFmsXWcQX1U"
      }
    },
    {
      "cell_type": "code",
      "source": [
        "# CodeGrade step5\n",
        "# find model predictions\n",
        "y_pred = model.predict(X_const)\n",
        "y_pred.shape"
      ],
      "metadata": {
        "id": "bWAFYgBFghZm",
        "colab": {
          "base_uri": "https://localhost:8080/"
        },
        "outputId": "d8749778-d86c-4c7d-f1ed-e92f5e0d1ec7"
      },
      "execution_count": 22,
      "outputs": [
        {
          "output_type": "execute_result",
          "data": {
            "text/plain": [
              "(20640,)"
            ]
          },
          "metadata": {},
          "execution_count": 22
        }
      ]
    },
    {
      "cell_type": "markdown",
      "source": [
        "Plot the scatterplot with the regression line."
      ],
      "metadata": {
        "id": "2c3dBaPpQpn-"
      }
    },
    {
      "cell_type": "code",
      "source": [
        "# Plot the scatterplot with regression line\n",
        "plt.scatter(df['MedInc'], target, label = 'Data')\n",
        "plt.plot(df['MedInc'], y_pred, color ='red', label=f'Regression Line (Slope = {slope:.2f})')\n",
        "plt.title('Regression Analysis: MedInc vs. Medican House Value')\n",
        "plt.xlabel('MedInc')\n",
        "plt.ylabel('Median House Value')\n",
        "plt.legend()\n",
        "plt.show()"
      ],
      "metadata": {
        "id": "sg0yxccwgnMT",
        "colab": {
          "base_uri": "https://localhost:8080/",
          "height": 472
        },
        "outputId": "bd36e3ba-d53c-43d1-c2a3-7aee2f146e7c"
      },
      "execution_count": 23,
      "outputs": [
        {
          "output_type": "display_data",
          "data": {
            "text/plain": [
              "<Figure size 640x480 with 1 Axes>"
            ],
            "image/png": "[encoded data removed]"
          },
          "metadata": {}
        }
      ]
    },
    {
      "cell_type": "code",
      "source": [],
      "metadata": {
        "id": "MdBlxou_7Q62"
      },
      "execution_count": null,
      "outputs": []
    }
  ]
}