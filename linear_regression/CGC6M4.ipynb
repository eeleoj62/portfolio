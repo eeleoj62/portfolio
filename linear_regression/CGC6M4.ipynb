{
  "nbformat": 4,
  "nbformat_minor": 0,
  "metadata": {
    "colab": {
      "provenance": [],
      "gpuType": "T4"
    },
    "kernelspec": {
      "name": "python3",
      "display_name": "Python 3"
    },
    "language_info": {
      "name": "python"
    },
    "accelerator": "GPU"
  },
  "cells": [
    {
      "cell_type": "markdown",
      "source": [
        "## Module 4: General Linear Regression: Multiple Linear Regression and other regression models"
      ],
      "metadata": {
        "id": "A9V8HTW5YrQL"
      }
    },
    {
      "cell_type": "markdown",
      "source": [
        "### Step 0\n",
        "\n",
        "Load the appropriate libraries and bring in the data. Note that we have to run a script to get the [California Housing dataset](https://scikit-learn.org/stable/modules/generated/sklearn.datasets.fetch_california_housing.html) to match as it is in scikit-learn. We cannot pull it directly from scikit-learn since CodeGrade cannot access the internet."
      ],
      "metadata": {
        "id": "fTl7v_zmYt1T"
      }
    },
    {
      "cell_type": "code",
      "execution_count": 1,
      "metadata": {
        "id": "CeErSvQKin7j"
      },
      "outputs": [],
      "source": [
        "# CodeGrade step0\n",
        "\n",
        "from sklearn.datasets import fetch_california_housing\n",
        "import pandas as pd\n",
        "import numpy as np\n",
        "import matplotlib.pyplot as plt\n",
        "from sklearn.linear_model import LinearRegression\n",
        "from scipy.stats import pearsonr\n",
        "import os\n",
        "import tarfile\n",
        "import joblib # Import joblib directly\n",
        "from sklearn.datasets._base import _pkl_filepath, get_data_home\n",
        "import statsmodels.api as sm\n",
        "import statsmodels.formula.api as smf\n",
        "import seaborn as sns\n",
        "\n",
        "archive_path = \"cal_housing.tgz\" # change the path if it's not in the current directory\n",
        "data_home = get_data_home(data_home=None) # change data_home if you are not using ~/scikit_learn_data\n",
        "if not os.path.exists(data_home):\n",
        "    os.makedirs(data_home)\n",
        "filepath = _pkl_filepath(data_home, 'cal_housing.pkz')\n",
        "\n",
        "with tarfile.open(mode=\"r:gz\", name=archive_path) as f:\n",
        "    cal_housing = np.loadtxt(\n",
        "        f.extractfile('CaliforniaHousing/cal_housing.data'),\n",
        "        delimiter=',')\n",
        "    # Columns are not in the same order compared to the previous\n",
        "    # URL resource on lib.stat.cmu.edu\n",
        "    columns_index = [8, 7, 2, 3, 4, 5, 6, 1, 0]\n",
        "    cal_housing = cal_housing[:, columns_index]\n",
        "\n",
        "    joblib.dump(cal_housing, filepath, compress=6) # Now using the directly imported joblib\n",
        "\n",
        "# Load the dataset\n",
        "california = fetch_california_housing(as_frame=True)\n",
        "data = california.data\n",
        "data['MedianHouseValue'] = california.target"
      ]
    },
    {
      "cell_type": "markdown",
      "source": [
        "Look at the data using `.info()` and `.describe()`."
      ],
      "metadata": {
        "id": "xQgqYV_Aja7V"
      }
    },
    {
      "cell_type": "code",
      "source": [
        "# Display basic information\n",
        "print(data.info())\n",
        "print(data.describe())"
      ],
      "metadata": {
        "id": "TjKuy5w7lfIC",
        "colab": {
          "base_uri": "https://localhost:8080/"
        },
        "outputId": "251a705c-78a9-4ee0-a9bf-915b5d671275"
      },
      "execution_count": 2,
      "outputs": [
        {
          "output_type": "stream",
          "name": "stdout",
          "text": [
            "<class 'pandas.core.frame.DataFrame'>\n",
            "RangeIndex: 20640 entries, 0 to 20639\n",
            "Data columns (total 9 columns):\n",
            " #   Column            Non-Null Count  Dtype  \n",
            "---  ------            --------------  -----  \n",
            " 0   MedInc            20640 non-null  float64\n",
            " 1   HouseAge          20640 non-null  float64\n",
            " 2   AveRooms          20640 non-null  float64\n",
            " 3   AveBedrms         20640 non-null  float64\n",
            " 4   Population        20640 non-null  float64\n",
            " 5   AveOccup          20640 non-null  float64\n",
            " 6   Latitude          20640 non-null  float64\n",
            " 7   Longitude         20640 non-null  float64\n",
            " 8   MedianHouseValue  20640 non-null  float64\n",
            "dtypes: float64(9)\n",
            "memory usage: 1.4 MB\n",
            "None\n",
            "             MedInc      HouseAge      AveRooms     AveBedrms    Population  \\\n",
            "count  20640.000000  20640.000000  20640.000000  20640.000000  20640.000000   \n",
            "mean       3.870671     28.639486      5.429000      1.096675   1425.476744   \n",
            "std        1.899822     12.585558      2.474173      0.473911   1132.462122   \n",
            "min        0.499900      1.000000      0.846154      0.333333      3.000000   \n",
            "25%        2.563400     18.000000      4.440716      1.006079    787.000000   \n",
            "50%        3.534800     29.000000      5.229129      1.048780   1166.000000   \n",
            "75%        4.743250     37.000000      6.052381      1.099526   1725.000000   \n",
            "max       15.000100     52.000000    141.909091     34.066667  35682.000000   \n",
            "\n",
            "           AveOccup      Latitude     Longitude  MedianHouseValue  \n",
            "count  20640.000000  20640.000000  20640.000000      20640.000000  \n",
            "mean       3.070655     35.631861   -119.569704          2.068558  \n",
            "std       10.386050      2.135952      2.003532          1.153956  \n",
            "min        0.692308     32.540000   -124.350000          0.149990  \n",
            "25%        2.429741     33.930000   -121.800000          1.196000  \n",
            "50%        2.818116     34.260000   -118.490000          1.797000  \n",
            "75%        3.282261     37.710000   -118.010000          2.647250  \n",
            "max     1243.333333     41.950000   -114.310000          5.000010  \n"
          ]
        }
      ]
    },
    {
      "cell_type": "markdown",
      "source": [
        "### Step 1\n",
        "\n",
        "Let the `X` variable be `MedInc`, `AveRooms`, and `HouseAge` and `y` be `MedianHouseValue`.\n",
        "\n",
        "Then add the constant for the intercept.\n",
        "\n",
        "Next, create the baseline model, called `baseline_model` using `smf.ols` for the above variables, and fit the model.\n",
        "\n",
        "To verify the mdoel, return the $r^2$ value rounded to four decimal places."
      ],
      "metadata": {
        "id": "HtCPL_p9ji2V"
      }
    },
    {
      "cell_type": "code",
      "source": [
        "# CodeGrade step1\n",
        "#\n",
        "X = data[['MedInc', 'AveRooms', 'HouseAge']]\n",
        "y = data['MedianHouseValue']\n",
        "\n",
        "# add constant for intercept\n",
        "X = sm.add_constant(X)\n",
        "\n",
        "# verify shapes of X and y\n",
        "print(X.shape, y.shape)\n",
        "\n",
        "# fit the basic multiple linear regression model\n",
        "baseline_model = smf.ols(formula = 'MedianHouseValue ~ MedInc + AveRooms + HouseAge', data=data).fit()\n",
        "\n",
        "# return r2 value to 4 decimal places\n",
        "r2 = round(baseline_model.rsquared, 4)\n",
        "print(r2)"
      ],
      "metadata": {
        "id": "eBXooh-Ri0pb",
        "colab": {
          "base_uri": "https://localhost:8080/"
        },
        "outputId": "67a36c6e-5376-43b4-bcab-69eec8a6563e"
      },
      "execution_count": 3,
      "outputs": [
        {
          "output_type": "stream",
          "name": "stdout",
          "text": [
            "(20640, 4) (20640,)\n",
            "0.5121\n"
          ]
        }
      ]
    },
    {
      "cell_type": "markdown",
      "source": [
        "Now print the model summary."
      ],
      "metadata": {
        "id": "4AzJNnpJmU86"
      }
    },
    {
      "cell_type": "code",
      "source": [
        "# Print model summary\n",
        "print(baseline_model.summary())"
      ],
      "metadata": {
        "id": "OG2NFClilna-",
        "colab": {
          "base_uri": "https://localhost:8080/"
        },
        "outputId": "841de3de-d0cc-45d3-ffd8-5295bfe58706"
      },
      "execution_count": 4,
      "outputs": [
        {
          "output_type": "stream",
          "name": "stdout",
          "text": [
            "                            OLS Regression Results                            \n",
            "==============================================================================\n",
            "Dep. Variable:       MedianHouseValue   R-squared:                       0.512\n",
            "Model:                            OLS   Adj. R-squared:                  0.512\n",
            "Method:                 Least Squares   F-statistic:                     7220.\n",
            "Date:                Wed, 21 May 2025   Prob (F-statistic):               0.00\n",
            "Time:                        18:34:04   Log-Likelihood:                -24836.\n",
            "No. Observations:               20640   AIC:                         4.968e+04\n",
            "Df Residuals:                   20636   BIC:                         4.971e+04\n",
            "Df Model:                           3                                         \n",
            "Covariance Type:            nonrobust                                         \n",
            "==============================================================================\n",
            "                 coef    std err          t      P>|t|      [0.025      0.975]\n",
            "------------------------------------------------------------------------------\n",
            "Intercept      0.0204      0.022      0.928      0.353      -0.023       0.063\n",
            "MedInc         0.4428      0.003    141.292      0.000       0.437       0.449\n",
            "AveRooms      -0.0272      0.002    -11.231      0.000      -0.032      -0.022\n",
            "HouseAge       0.0168      0.000     37.185      0.000       0.016       0.018\n",
            "==============================================================================\n",
            "Omnibus:                     4387.129   Durbin-Watson:                   0.805\n",
            "Prob(Omnibus):                  0.000   Jarque-Bera (JB):            11558.910\n",
            "Skew:                           1.150   Prob(JB):                         0.00\n",
            "Kurtosis:                       5.855   Cond. No.                         125.\n",
            "==============================================================================\n",
            "\n",
            "Notes:\n",
            "[1] Standard Errors assume that the covariance matrix of the errors is correctly specified.\n"
          ]
        }
      ]
    },
    {
      "cell_type": "markdown",
      "source": [
        "### Step 2\n",
        "\n",
        "\n",
        "Add a quadratic term to the data called `MedInc_squared`, which is what it sounds like.\n",
        "\n",
        "Now fit the model using `smf.ols` with the quadratic term, calling this model, `nonlinear_model`. Make sure to incluce the variables  `MedInc`, `AveRooms`, and `HouseAge` as well.\n",
        "\n",
        "To verify the model, return the $r^2$ value rounded to six decimal places.\n",
        "\n"
      ],
      "metadata": {
        "id": "OPPVzKuvmW_D"
      }
    },
    {
      "cell_type": "code",
      "source": [
        "# CodeGrade step2\n",
        "# add quadratic term\n",
        "data['MedInc_squared'] = data['MedInc'] ** 2\n",
        "\n",
        "# fit quadratic model\n",
        "nonlinear_model = smf.ols(formula = 'MedianHouseValue ~ MedInc + AveRooms + HouseAge + MedInc_squared', data=data).fit()\n",
        "\n",
        "# return r2 value to 6 decimal places\n",
        "nonlinear_r2 = round(nonlinear_model.rsquared, 6)\n",
        "print(nonlinear_r2)"
      ],
      "metadata": {
        "id": "8jQ3PCKZmQc-",
        "colab": {
          "base_uri": "https://localhost:8080/"
        },
        "outputId": "18faef7b-bc5e-46c6-9beb-39ded8161505"
      },
      "execution_count": 5,
      "outputs": [
        {
          "output_type": "stream",
          "name": "stdout",
          "text": [
            "0.52017\n"
          ]
        }
      ]
    },
    {
      "cell_type": "markdown",
      "source": [
        "Now print the model summary."
      ],
      "metadata": {
        "id": "7V-18v53nFcm"
      }
    },
    {
      "cell_type": "code",
      "source": [
        "# Print the summary\n",
        "print(nonlinear_model.summary())"
      ],
      "metadata": {
        "id": "G22p6jX_myLt",
        "colab": {
          "base_uri": "https://localhost:8080/"
        },
        "outputId": "0b5fc086-52b7-4f94-920f-75a66e01e02b"
      },
      "execution_count": 6,
      "outputs": [
        {
          "output_type": "stream",
          "name": "stdout",
          "text": [
            "                            OLS Regression Results                            \n",
            "==============================================================================\n",
            "Dep. Variable:       MedianHouseValue   R-squared:                       0.520\n",
            "Model:                            OLS   Adj. R-squared:                  0.520\n",
            "Method:                 Least Squares   F-statistic:                     5592.\n",
            "Date:                Wed, 21 May 2025   Prob (F-statistic):               0.00\n",
            "Time:                        18:34:04   Log-Likelihood:                -24664.\n",
            "No. Observations:               20640   AIC:                         4.934e+04\n",
            "Df Residuals:                   20635   BIC:                         4.938e+04\n",
            "Df Model:                           4                                         \n",
            "Covariance Type:            nonrobust                                         \n",
            "==================================================================================\n",
            "                     coef    std err          t      P>|t|      [0.025      0.975]\n",
            "----------------------------------------------------------------------------------\n",
            "Intercept         -0.3310      0.029    -11.482      0.000      -0.388      -0.275\n",
            "MedInc             0.5965      0.009     67.630      0.000       0.579       0.614\n",
            "AveRooms          -0.0285      0.002    -11.878      0.000      -0.033      -0.024\n",
            "HouseAge           0.0177      0.000     39.193      0.000       0.017       0.019\n",
            "MedInc_squared    -0.0140      0.001    -18.627      0.000      -0.016      -0.013\n",
            "==============================================================================\n",
            "Omnibus:                     4548.331   Durbin-Watson:                   0.822\n",
            "Prob(Omnibus):                  0.000   Jarque-Bera (JB):            11933.196\n",
            "Skew:                           1.192   Prob(JB):                         0.00\n",
            "Kurtosis:                       5.862   Cond. No.                         203.\n",
            "==============================================================================\n",
            "\n",
            "Notes:\n",
            "[1] Standard Errors assume that the covariance matrix of the errors is correctly specified.\n"
          ]
        }
      ]
    },
    {
      "cell_type": "markdown",
      "source": [
        "### Step 3\n",
        "\n",
        "Add (again) the same quadratic term, but now also add an interaction term that represents the interaction between `MedInc` and `AveRooms`.\n",
        "\n",
        "Now fit the model using `smf.ols` with the quadratic term, calling this model, `interaction_model`.  Make sure to incluce the variables  `MedInc`, `AveRooms`, and `HouseAge` as well.\n",
        "\n",
        "To verify the model, return the $r^2$ value rounded to six decimal places."
      ],
      "metadata": {
        "id": "yEb3W_55nGrR"
      }
    },
    {
      "cell_type": "code",
      "source": [
        "# CodeGrade step3\n",
        "# interaction model between Medinc and averooms\n",
        "interaction_model = smf.ols(formula = 'MedianHouseValue ~ MedInc + AveRooms + HouseAge + MedInc_squared + MedInc * AveRooms', data=data).fit()\n",
        "\n",
        "# return r2 value to 6 decimal places\n",
        "interaction_r2 = round(interaction_model.rsquared, 6)\n",
        "print(interaction_r2)"
      ],
      "metadata": {
        "id": "uceKXX3InJKG",
        "colab": {
          "base_uri": "https://localhost:8080/"
        },
        "outputId": "96cb5adb-841e-490b-8ec9-9bad1bdd5c72"
      },
      "execution_count": 7,
      "outputs": [
        {
          "output_type": "stream",
          "name": "stdout",
          "text": [
            "0.520213\n"
          ]
        }
      ]
    },
    {
      "cell_type": "markdown",
      "source": [
        "Now print the model summary."
      ],
      "metadata": {
        "id": "OTMeVrconnNa"
      }
    },
    {
      "cell_type": "code",
      "source": [
        "# Print the summary\n",
        "print(interaction_model.summary())"
      ],
      "metadata": {
        "id": "tCYSpsBAnPLj",
        "colab": {
          "base_uri": "https://localhost:8080/"
        },
        "outputId": "3e41848c-bf53-43b3-c04e-af9decca2905"
      },
      "execution_count": 8,
      "outputs": [
        {
          "output_type": "stream",
          "name": "stdout",
          "text": [
            "                            OLS Regression Results                            \n",
            "==============================================================================\n",
            "Dep. Variable:       MedianHouseValue   R-squared:                       0.520\n",
            "Model:                            OLS   Adj. R-squared:                  0.520\n",
            "Method:                 Least Squares   F-statistic:                     4475.\n",
            "Date:                Wed, 21 May 2025   Prob (F-statistic):               0.00\n",
            "Time:                        18:34:04   Log-Likelihood:                -24663.\n",
            "No. Observations:               20640   AIC:                         4.934e+04\n",
            "Df Residuals:                   20634   BIC:                         4.939e+04\n",
            "Df Model:                           5                                         \n",
            "Covariance Type:            nonrobust                                         \n",
            "===================================================================================\n",
            "                      coef    std err          t      P>|t|      [0.025      0.975]\n",
            "-----------------------------------------------------------------------------------\n",
            "Intercept          -0.3027      0.036     -8.503      0.000      -0.372      -0.233\n",
            "MedInc              0.5898      0.010     58.268      0.000       0.570       0.610\n",
            "AveRooms           -0.0353      0.006     -6.339      0.000      -0.046      -0.024\n",
            "HouseAge            0.0177      0.000     39.215      0.000       0.017       0.019\n",
            "MedInc_squared     -0.0147      0.001    -16.381      0.000      -0.016      -0.013\n",
            "MedInc:AveRooms     0.0021      0.002      1.359      0.174      -0.001       0.005\n",
            "==============================================================================\n",
            "Omnibus:                     4617.781   Durbin-Watson:                   0.822\n",
            "Prob(Omnibus):                  0.000   Jarque-Bera (JB):            12429.560\n",
            "Skew:                           1.200   Prob(JB):                         0.00\n",
            "Kurtosis:                       5.949   Cond. No.                         308.\n",
            "==============================================================================\n",
            "\n",
            "Notes:\n",
            "[1] Standard Errors assume that the covariance matrix of the errors is correctly specified.\n"
          ]
        }
      ]
    },
    {
      "cell_type": "markdown",
      "source": [
        "### Step 4\n",
        "\n",
        "Add (again) the same quadratic term as in the previous two steps.\n",
        "\n",
        "Create an indicator variable by\n",
        "1.   Find the median of `MedInc`, call this `median_income_threshold`\n",
        "2.   Adding a new variable to the data set callede `HighIncome` that assigns a 1 to any value strictly greater than the median, and otherwise it assigns a 0.\n",
        "\n",
        "Now fit the model using `smf.ols` with the quadratic term and indicator variable, calling this model, `indicator_model`.  Make sure to incluce the variables  `MedInc`, `AveRooms`, and `HouseAge` as well.\n",
        "\n",
        "To verify the model, return the $r^2$ value rounded to six decimal places."
      ],
      "metadata": {
        "id": "3iPgPY_onoGH"
      }
    },
    {
      "cell_type": "code",
      "source": [
        "# CodeGrade step4\n",
        "\n",
        "# indicator model\n",
        "median_income_threshold = data['MedInc'].median()\n",
        "data['HighIncome'] = np.where(data['MedInc'] > median_income_threshold, 1, 0)\n",
        "\n",
        "# fit model with quad and indicator variable\n",
        "indicator_model = smf.ols(formula = 'MedianHouseValue ~ MedInc + AveRooms + HouseAge + MedInc_squared + HighIncome', data=data).fit()\n",
        "\n",
        "# return r2 value to 6 decimal places\n",
        "indicator_r2 = round(indicator_model.rsquared, 6)\n",
        "print(indicator_r2)"
      ],
      "metadata": {
        "id": "7gy6DMoVnrHW",
        "colab": {
          "base_uri": "https://localhost:8080/"
        },
        "outputId": "003abf1d-6576-4bce-973f-48430d4e34fa"
      },
      "execution_count": 9,
      "outputs": [
        {
          "output_type": "stream",
          "name": "stdout",
          "text": [
            "0.520496\n"
          ]
        }
      ]
    },
    {
      "cell_type": "markdown",
      "source": [
        "Now print the model summary."
      ],
      "metadata": {
        "id": "FGe2K0VYnq1u"
      }
    },
    {
      "cell_type": "code",
      "source": [
        "# Print the summary\n",
        "print(indicator_model.summary())"
      ],
      "metadata": {
        "id": "oKmmBxoKn9Dt",
        "colab": {
          "base_uri": "https://localhost:8080/"
        },
        "outputId": "e53619f6-835f-4b70-8c26-1ee993a8d325"
      },
      "execution_count": 10,
      "outputs": [
        {
          "output_type": "stream",
          "name": "stdout",
          "text": [
            "                            OLS Regression Results                            \n",
            "==============================================================================\n",
            "Dep. Variable:       MedianHouseValue   R-squared:                       0.520\n",
            "Model:                            OLS   Adj. R-squared:                  0.520\n",
            "Method:                 Least Squares   F-statistic:                     4480.\n",
            "Date:                Wed, 21 May 2025   Prob (F-statistic):               0.00\n",
            "Time:                        18:34:04   Log-Likelihood:                -24657.\n",
            "No. Observations:               20640   AIC:                         4.933e+04\n",
            "Df Residuals:                   20634   BIC:                         4.937e+04\n",
            "Df Model:                           5                                         \n",
            "Covariance Type:            nonrobust                                         \n",
            "==================================================================================\n",
            "                     coef    std err          t      P>|t|      [0.025      0.975]\n",
            "----------------------------------------------------------------------------------\n",
            "Intercept         -0.3966      0.034    -11.760      0.000      -0.463      -0.330\n",
            "MedInc             0.6325      0.013     48.507      0.000       0.607       0.658\n",
            "AveRooms          -0.0284      0.002    -11.862      0.000      -0.033      -0.024\n",
            "HouseAge           0.0177      0.000     39.246      0.000       0.017       0.019\n",
            "MedInc_squared    -0.0160      0.001    -17.341      0.000      -0.018      -0.014\n",
            "HighIncome        -0.0741      0.020     -3.744      0.000      -0.113      -0.035\n",
            "==============================================================================\n",
            "Omnibus:                     4600.521   Durbin-Watson:                   0.824\n",
            "Prob(Omnibus):                  0.000   Jarque-Bera (JB):            12195.535\n",
            "Skew:                           1.201   Prob(JB):                         0.00\n",
            "Kurtosis:                       5.900   Cond. No.                         258.\n",
            "==============================================================================\n",
            "\n",
            "Notes:\n",
            "[1] Standard Errors assume that the covariance matrix of the errors is correctly specified.\n"
          ]
        }
      ]
    },
    {
      "cell_type": "markdown",
      "source": [
        "### Step 5\n",
        "\n",
        "Add (again) the same quadratic term, but now also add an log transformed term of `AveRooms` called `log_AveRooms`.\n",
        "\n",
        "Now fit the model using `smf.ols` with the quadratic term, calling this model, `log_model`.  Make sure to incluce the variables  `MedInc`, `AveRooms`, and `HouseAge` as well.\n",
        "\n",
        "To verify the model, return the $r^2$ value rounded to six decimal places."
      ],
      "metadata": {
        "id": "NgwsRwBkoBk3"
      }
    },
    {
      "cell_type": "code",
      "source": [
        "# CodeGrade step5\n",
        "# log transform averooms\n",
        "data['log_AveRooms'] = np.log(data['AveRooms'])\n",
        "\n",
        "# fit model with quad term\n",
        "log_model = smf.ols(formula = 'MedianHouseValue ~ MedInc + HouseAge + MedInc_squared + log_AveRooms', data=data).fit()\n",
        "\n",
        "# return r2 value\n",
        "log_r2 = round(log_model.rsquared, 6)\n",
        "print(log_r2)"
      ],
      "metadata": {
        "id": "-8h_k1dKt0bq",
        "colab": {
          "base_uri": "https://localhost:8080/"
        },
        "outputId": "79ad5a7d-edbc-4e7a-ebab-528db3d73d8e"
      },
      "execution_count": 11,
      "outputs": [
        {
          "output_type": "stream",
          "name": "stdout",
          "text": [
            "0.539497\n"
          ]
        }
      ]
    },
    {
      "cell_type": "markdown",
      "source": [
        "Now print the model summary."
      ],
      "metadata": {
        "id": "5jMX-K7mnsIV"
      }
    },
    {
      "cell_type": "code",
      "source": [
        "# Print the summary\n",
        "print(log_model.summary())"
      ],
      "metadata": {
        "id": "Dnk06R25t-Yx",
        "colab": {
          "base_uri": "https://localhost:8080/"
        },
        "outputId": "971626f3-654c-4834-8d2a-0774d507c275"
      },
      "execution_count": 12,
      "outputs": [
        {
          "output_type": "stream",
          "name": "stdout",
          "text": [
            "                            OLS Regression Results                            \n",
            "==============================================================================\n",
            "Dep. Variable:       MedianHouseValue   R-squared:                       0.539\n",
            "Model:                            OLS   Adj. R-squared:                  0.539\n",
            "Method:                 Least Squares   F-statistic:                     6044.\n",
            "Date:                Wed, 21 May 2025   Prob (F-statistic):               0.00\n",
            "Time:                        18:34:05   Log-Likelihood:                -24239.\n",
            "No. Observations:               20640   AIC:                         4.849e+04\n",
            "Df Residuals:                   20635   BIC:                         4.853e+04\n",
            "Df Model:                           4                                         \n",
            "Covariance Type:            nonrobust                                         \n",
            "==================================================================================\n",
            "                     coef    std err          t      P>|t|      [0.025      0.975]\n",
            "----------------------------------------------------------------------------------\n",
            "Intercept          0.5878      0.042     13.988      0.000       0.505       0.670\n",
            "MedInc             0.6786      0.009     74.737      0.000       0.661       0.696\n",
            "HouseAge           0.0159      0.000     35.754      0.000       0.015       0.017\n",
            "MedInc_squared    -0.0171      0.001    -22.940      0.000      -0.019      -0.016\n",
            "log_AveRooms      -0.7792      0.024    -31.828      0.000      -0.827      -0.731\n",
            "==============================================================================\n",
            "Omnibus:                     4406.607   Durbin-Watson:                   0.901\n",
            "Prob(Omnibus):                  0.000   Jarque-Bera (JB):            11438.450\n",
            "Skew:                           1.160   Prob(JB):                         0.00\n",
            "Kurtosis:                       5.813   Cond. No.                         325.\n",
            "==============================================================================\n",
            "\n",
            "Notes:\n",
            "[1] Standard Errors assume that the covariance matrix of the errors is correctly specified.\n"
          ]
        }
      ]
    },
    {
      "cell_type": "markdown",
      "source": [
        "### Step 6\n",
        "\n",
        "Return the shape of `log_model`'s residuals."
      ],
      "metadata": {
        "id": "AxlQtEaJn3r5"
      }
    },
    {
      "cell_type": "code",
      "source": [
        "# CodeGrade step6\n",
        "# shape of log_model residuals\n",
        "log_model.resid.shape"
      ],
      "metadata": {
        "id": "8KfmMoX7vA9i",
        "colab": {
          "base_uri": "https://localhost:8080/"
        },
        "outputId": "521dd0f2-fcfa-4345-89cb-d577c572c2ff"
      },
      "execution_count": 13,
      "outputs": [
        {
          "output_type": "execute_result",
          "data": {
            "text/plain": [
              "(20640,)"
            ]
          },
          "metadata": {},
          "execution_count": 13
        }
      ]
    },
    {
      "cell_type": "markdown",
      "source": [
        "Now for the log model, plot the resisuals vs. the fitted values and the Q-Q plot."
      ],
      "metadata": {
        "id": "AtnPoDrtnt4s"
      }
    },
    {
      "cell_type": "code",
      "source": [
        "# Create subplots\n",
        "fig, axes = plt.subplots(1, 2, figsize=(12, 5))\n",
        "\n",
        "# Histogram of residuals on axes[0]\n",
        "axes[0].hist(log_model.resid, bins='auto', color='skyblue', edgecolor='black')\n",
        "axes[0].set_xlabel('Residuals')\n",
        "axes[0].set_ylabel('Frequency')\n",
        "axes[0].set_title('Histogram of Residuals')\n",
        "\n",
        "# Q-Q plot on axes[1]\n",
        "sm.qqplot(log_model.resid, line='s', ax=axes[1])\n",
        "axes[1].set_title('Q-Q Plot')\n",
        "\n",
        "plt.tight_layout()\n",
        "plt.show()\n",
        "\n",
        "# Residuals vs Fitted plot (on a separate figure)\n",
        "plt.figure(figsize=(6, 5))\n",
        "sns.residplot(x=log_model.fittedvalues, y=log_model.resid, lowess=True, line_kws={'color': 'red'})\n",
        "plt.xlabel('Fitted Values')\n",
        "plt.ylabel('Residuals')\n",
        "plt.title('Residuals vs. Fitted Plot')\n",
        "plt.tight_layout()\n",
        "plt.show()"
      ],
      "metadata": {
        "colab": {
          "base_uri": "https://localhost:8080/",
          "height": 997
        },
        "id": "2S9uYM0LKi8E",
        "outputId": "961cced6-5eaf-428f-f53c-5e62b1092465"
      },
      "execution_count": 14,
      "outputs": [
        {
          "output_type": "display_data",
          "data": {
            "text/plain": [
              "<Figure size 1200x500 with 2 Axes>"
            ],
            "image/png": "[encoded data removed]"
          },
          "metadata": {}
        },
        {
          "output_type": "display_data",
          "data": {
            "text/plain": [
              "<Figure size 600x500 with 1 Axes>"
            ],
            "image/png": "[encoded data removed]"
          },
          "metadata": {}
        }
      ]
    },
    {
      "cell_type": "code",
      "source": [],
      "metadata": {
        "id": "2japhQcP5m1p"
      },
      "execution_count": 14,
      "outputs": []
    }
  ]
}