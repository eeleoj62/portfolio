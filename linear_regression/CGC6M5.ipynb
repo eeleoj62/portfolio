{
  "nbformat": 4,
  "nbformat_minor": 0,
  "metadata": {
    "colab": {
      "provenance": []
    },
    "kernelspec": {
      "name": "python3",
      "display_name": "Python 3"
    },
    "language_info": {
      "name": "python"
    }
  },
  "cells": [
    {
      "cell_type": "markdown",
      "source": [
        "## Module 5: General Linear Regression and Statistical Inference"
      ],
      "metadata": {
        "id": "-iHUT5vDAZgK"
      }
    },
    {
      "cell_type": "markdown",
      "source": [
        "### Step 0\n",
        "\n",
        "Load the appropriate libraries and bring in the data. Note that we have to run a script to get the [California Housing dataset](https://scikit-learn.org/stable/modules/generated/sklearn.datasets.fetch_california_housing.html) to match as it is in scikit-learn. We cannot pull it directly from scikit-learn since CodeGrade cannot access the internet."
      ],
      "metadata": {
        "id": "vHnXvUURAeto"
      }
    },
    {
      "cell_type": "code",
      "execution_count": 1,
      "metadata": {
        "id": "99AfKmqPyD4V"
      },
      "outputs": [],
      "source": [
        "# CodeGrade step0\n",
        "\n",
        "from sklearn.datasets import fetch_california_housing\n",
        "import pandas as pd\n",
        "import numpy as np\n",
        "import matplotlib.pyplot as plt\n",
        "from sklearn.linear_model import LinearRegression\n",
        "from scipy.stats import pearsonr\n",
        "import os\n",
        "import tarfile\n",
        "import joblib # Import joblib directly\n",
        "from sklearn.datasets._base import _pkl_filepath, get_data_home\n",
        "import statsmodels.api as sm\n",
        "import statsmodels.formula.api as smf\n",
        "import seaborn as sns\n",
        "\n",
        "archive_path = \"cal_housing.tgz\" # change the path if it's not in the current directory\n",
        "data_home = get_data_home(data_home=None) # change data_home if you are not using ~/scikit_learn_data\n",
        "if not os.path.exists(data_home):\n",
        "    os.makedirs(data_home)\n",
        "filepath = _pkl_filepath(data_home, 'cal_housing.pkz')\n",
        "\n",
        "with tarfile.open(mode=\"r:gz\", name=archive_path) as f:\n",
        "    cal_housing = np.loadtxt(\n",
        "        f.extractfile('CaliforniaHousing/cal_housing.data'),\n",
        "        delimiter=',')\n",
        "    # Columns are not in the same order compared to the previous\n",
        "    # URL resource on lib.stat.cmu.edu\n",
        "    columns_index = [8, 7, 2, 3, 4, 5, 6, 1, 0]\n",
        "    cal_housing = cal_housing[:, columns_index]\n",
        "\n",
        "    joblib.dump(cal_housing, filepath, compress=6) # Now using the directly imported joblib\n",
        "\n",
        "\n",
        "# Load the dataset\n",
        "california = fetch_california_housing(as_frame=True)\n",
        "data = california.data\n",
        "data['MedianHouseValue'] = california.target"
      ]
    },
    {
      "cell_type": "markdown",
      "source": [
        "Print the basic information of the data using `.info()` and `.describe`."
      ],
      "metadata": {
        "id": "giqgu5WUAgjw"
      }
    },
    {
      "cell_type": "code",
      "source": [
        "# Display basic information\n",
        "print(data.head())\n",
        "print(data.info())\n",
        "print(data.describe())"
      ],
      "metadata": {
        "id": "jt8ei2mGydmu",
        "colab": {
          "base_uri": "https://localhost:8080/"
        },
        "outputId": "cdf2fb63-edb7-45fc-e423-1bdfa27d1a4b"
      },
      "execution_count": 2,
      "outputs": [
        {
          "output_type": "stream",
          "name": "stdout",
          "text": [
            "   MedInc  HouseAge  AveRooms  AveBedrms  Population  AveOccup  Latitude  \\\n",
            "0  8.3252      41.0  6.984127   1.023810       322.0  2.555556     37.88   \n",
            "1  8.3014      21.0  6.238137   0.971880      2401.0  2.109842     37.86   \n",
            "2  7.2574      52.0  8.288136   1.073446       496.0  2.802260     37.85   \n",
            "3  5.6431      52.0  5.817352   1.073059       558.0  2.547945     37.85   \n",
            "4  3.8462      52.0  6.281853   1.081081       565.0  2.181467     37.85   \n",
            "\n",
            "   Longitude  MedianHouseValue  \n",
            "0    -122.23             4.526  \n",
            "1    -122.22             3.585  \n",
            "2    -122.24             3.521  \n",
            "3    -122.25             3.413  \n",
            "4    -122.25             3.422  \n",
            "<class 'pandas.core.frame.DataFrame'>\n",
            "RangeIndex: 20640 entries, 0 to 20639\n",
            "Data columns (total 9 columns):\n",
            " #   Column            Non-Null Count  Dtype  \n",
            "---  ------            --------------  -----  \n",
            " 0   MedInc            20640 non-null  float64\n",
            " 1   HouseAge          20640 non-null  float64\n",
            " 2   AveRooms          20640 non-null  float64\n",
            " 3   AveBedrms         20640 non-null  float64\n",
            " 4   Population        20640 non-null  float64\n",
            " 5   AveOccup          20640 non-null  float64\n",
            " 6   Latitude          20640 non-null  float64\n",
            " 7   Longitude         20640 non-null  float64\n",
            " 8   MedianHouseValue  20640 non-null  float64\n",
            "dtypes: float64(9)\n",
            "memory usage: 1.4 MB\n",
            "None\n",
            "             MedInc      HouseAge      AveRooms     AveBedrms    Population  \\\n",
            "count  20640.000000  20640.000000  20640.000000  20640.000000  20640.000000   \n",
            "mean       3.870671     28.639486      5.429000      1.096675   1425.476744   \n",
            "std        1.899822     12.585558      2.474173      0.473911   1132.462122   \n",
            "min        0.499900      1.000000      0.846154      0.333333      3.000000   \n",
            "25%        2.563400     18.000000      4.440716      1.006079    787.000000   \n",
            "50%        3.534800     29.000000      5.229129      1.048780   1166.000000   \n",
            "75%        4.743250     37.000000      6.052381      1.099526   1725.000000   \n",
            "max       15.000100     52.000000    141.909091     34.066667  35682.000000   \n",
            "\n",
            "           AveOccup      Latitude     Longitude  MedianHouseValue  \n",
            "count  20640.000000  20640.000000  20640.000000      20640.000000  \n",
            "mean       3.070655     35.631861   -119.569704          2.068558  \n",
            "std       10.386050      2.135952      2.003532          1.153956  \n",
            "min        0.692308     32.540000   -124.350000          0.149990  \n",
            "25%        2.429741     33.930000   -121.800000          1.196000  \n",
            "50%        2.818116     34.260000   -118.490000          1.797000  \n",
            "75%        3.282261     37.710000   -118.010000          2.647250  \n",
            "max     1243.333333     41.950000   -114.310000          5.000010  \n"
          ]
        }
      ]
    },
    {
      "cell_type": "markdown",
      "source": [
        "### Step 1\n",
        "\n",
        "Let `X` be the variables `MedInc`, `AveRooms`, and `AveOccup` and add the constant for the intercept. Let `y` be the `MedianHouseValue`.\n",
        "\n",
        "Now fit the regreson model calling it `mlr_model`.\n",
        "\n",
        "Finally, return the $r^2$ value of the model rounding to four decimal places."
      ],
      "metadata": {
        "id": "LPgA030kAoI2"
      }
    },
    {
      "cell_type": "code",
      "source": [
        "# CodeGrade step1\n",
        "\n",
        "# define predictors (X) and response variables (y)\n",
        "X = data[['MedInc', 'AveRooms', 'AveOccup']]\n",
        "X = sm.add_constant(X)\n",
        "\n",
        "y = data['MedianHouseValue']\n",
        "\n",
        "# verify shapes of X and y\n",
        "print(f\"Shape of X: {X.shape}\")\n",
        "print(f\"Shape of y: {y.shape}\")\n",
        "\n",
        "# initialize and fit multiple linear regression model\n",
        "mlr_model = sm.OLS(y, X).fit()\n",
        "\n",
        "# find r-squared\n",
        "r2 = mlr_model.rsquared\n",
        "print(f\"R-squared value: {r2:.4f}\")\n",
        "\n",
        "# check for multicollinearity among predictors to ensure they are not highly correlated\n",
        "\n",
        "# calculate the correlation matrix\n",
        "correlation_matrix = data[['MedInc', 'AveRooms', 'AveOccup']].corr()\n",
        "\n",
        "# print the correlation matrix\n",
        "print(correlation_matrix)\n",
        "\n",
        "# residuals vs fitted plot to assess homoscedasticity (constant variance of residuals)\n",
        "# histogram of residuals to assess normality of residuals\n",
        "\n",
        "# get the residuals\n",
        "residuals = mlr_model.resid\n",
        "\n",
        "fig, axes = plt.subplots(1, 2, figsize=(12, 4))\n",
        "\n",
        "# Plot 1: Residuals vs Fitted Values\n",
        "axes[0].scatter(mlr_model.fittedvalues, residuals, color='blue')\n",
        "axes[0].axhline(0, color='red', linestyle='--')\n",
        "axes[0].set_title('Residuals vs Fitted Values')\n",
        "axes[0].set_xlabel('Fitted Values')\n",
        "axes[0].set_ylabel('Residuals')\n",
        "\n",
        "# Plot 2: Histogram of Residuals\n",
        "axes[1].hist(residuals, bins=10, edgecolor='black')\n",
        "axes[1].set_title('Histogram of Residuals')\n",
        "axes[1].set_xlabel('Residuals')\n",
        "axes[1].set_ylabel('Frequency')\n",
        "# Adjust layout\n",
        "plt.tight_layout()\n",
        "\n",
        "# Show the plots\n",
        "plt.show()"
      ],
      "metadata": {
        "id": "UiWsfxWsyfG4",
        "colab": {
          "base_uri": "https://localhost:8080/",
          "height": 529
        },
        "outputId": "d9ca9217-f59b-464d-a6b9-c46d0dc89f42"
      },
      "execution_count": 39,
      "outputs": [
        {
          "output_type": "stream",
          "name": "stdout",
          "text": [
            "Shape of X: (20640, 4)\n",
            "Shape of y: (20640,)\n",
            "R-squared value: 0.4808\n",
            "            MedInc  AveRooms  AveOccup\n",
            "MedInc    1.000000  0.326895  0.018766\n",
            "AveRooms  0.326895  1.000000 -0.004852\n",
            "AveOccup  0.018766 -0.004852  1.000000\n"
          ]
        },
        {
          "output_type": "display_data",
          "data": {
            "text/plain": [
              "<Figure size 1200x400 with 2 Axes>"
            ],
            "image/png": "[encoded data removed]"
          },
          "metadata": {}
        }
      ]
    },
    {
      "cell_type": "markdown",
      "source": [
        "Print the model summary."
      ],
      "metadata": {
        "id": "EwHukQYxBChE"
      }
    },
    {
      "cell_type": "code",
      "source": [
        "# Print the model summary\n",
        "print(mlr_model.summary())"
      ],
      "metadata": {
        "id": "BVMO2EcHzCt6",
        "colab": {
          "base_uri": "https://localhost:8080/"
        },
        "outputId": "96ce293d-17d9-43ff-9c2a-7fff18f0a4a5"
      },
      "execution_count": 14,
      "outputs": [
        {
          "output_type": "stream",
          "name": "stdout",
          "text": [
            "                            OLS Regression Results                            \n",
            "==============================================================================\n",
            "Dep. Variable:       MedianHouseValue   R-squared:                       0.481\n",
            "Model:                            OLS   Adj. R-squared:                  0.481\n",
            "Method:                 Least Squares   F-statistic:                     6370.\n",
            "Date:                Wed, 21 May 2025   Prob (F-statistic):               0.00\n",
            "Time:                        21:11:47   Log-Likelihood:                -25477.\n",
            "No. Observations:               20640   AIC:                         5.096e+04\n",
            "Df Residuals:                   20636   BIC:                         5.099e+04\n",
            "Df Model:                           3                                         \n",
            "Covariance Type:            nonrobust                                         \n",
            "==============================================================================\n",
            "                 coef    std err          t      P>|t|      [0.025      0.975]\n",
            "------------------------------------------------------------------------------\n",
            "const          0.6069      0.016     37.444      0.000       0.575       0.639\n",
            "MedInc         0.4347      0.003    134.806      0.000       0.428       0.441\n",
            "AveRooms      -0.0383      0.002    -15.482      0.000      -0.043      -0.033\n",
            "AveOccup      -0.0042      0.001     -7.488      0.000      -0.005      -0.003\n",
            "==============================================================================\n",
            "Omnibus:                     4836.746   Durbin-Watson:                   0.693\n",
            "Prob(Omnibus):                  0.000   Jarque-Bera (JB):            12992.753\n",
            "Skew:                           1.256   Prob(JB):                         0.00\n",
            "Kurtosis:                       5.965   Cond. No.                         31.4\n",
            "==============================================================================\n",
            "\n",
            "Notes:\n",
            "[1] Standard Errors assume that the covariance matrix of the errors is correctly specified.\n"
          ]
        }
      ]
    },
    {
      "cell_type": "markdown",
      "source": [
        "### Step 2\n",
        "\n",
        "Let `p_values` be the models' p-values.\n",
        "\n",
        "Return the four p-values using `.iloc[]` from the first value to the fourth, in order and separated by commas. Make sure to round each to 5 decimal places."
      ],
      "metadata": {
        "id": "P5akEN0BBEhH"
      }
    },
    {
      "cell_type": "code",
      "source": [
        "# CodeGrade step2\n",
        "\n",
        "p_values = mlr_model.pvalues.iloc[0:].round(5)\n",
        "for p in p_values:\n",
        "  print(f\"{p:.5f}, \")"
      ],
      "metadata": {
        "id": "wIngVeY4zSZT",
        "colab": {
          "base_uri": "https://localhost:8080/"
        },
        "outputId": "186cc55c-d420-4ec0-f906-c1cbc20d1b89"
      },
      "execution_count": 18,
      "outputs": [
        {
          "output_type": "stream",
          "name": "stdout",
          "text": [
            "0.00000, \n",
            "0.00000, \n",
            "0.00000, \n",
            "0.00000, \n"
          ]
        }
      ]
    },
    {
      "cell_type": "markdown",
      "source": [
        "### Step 3\n",
        "\n",
        "Identify the significant predictors (strictly less than $\\alpha=0.05$) calling this `significant_predictors`.\n",
        "\n",
        "Reutn the shape of `significant_predictors`."
      ],
      "metadata": {
        "id": "NCrUTHoIBm6W"
      }
    },
    {
      "cell_type": "code",
      "source": [
        "# CodeGrade step3\n",
        "# Filter for significant predictors (p < 0.05)\n",
        "significant_predictors = mlr_model.pvalues[mlr_model.pvalues < 0.05]\n",
        "\n",
        "# Print each p-value rounded to 5 decimals\n",
        "for p in significant_predictors:\n",
        "    print(f\"{p:.5f}, \")\n",
        "\n",
        "# Print shape\n",
        "print(\"Shape:\", significant_predictors.shape)"
      ],
      "metadata": {
        "id": "4kJT99avzwD_",
        "colab": {
          "base_uri": "https://localhost:8080/"
        },
        "outputId": "6e0698e1-8aa6-4238-bf37-ce80c0a1542a"
      },
      "execution_count": 21,
      "outputs": [
        {
          "output_type": "stream",
          "name": "stdout",
          "text": [
            "0.00000, \n",
            "0.00000, \n",
            "0.00000, \n",
            "0.00000, \n",
            "Shape: (4,)\n"
          ]
        }
      ]
    },
    {
      "cell_type": "markdown",
      "source": [
        "### Step 4\n",
        "\n",
        "Find the confidence intervals of the model (at a 95% level of confidence) and calling this `conf_intervals`.\n",
        "\n",
        "Using `.iloc[,]` and rounding to 2 decimal places return the four confidence intervals in order of (separated by commas)\n",
        "\n",
        "> first row and first column, first row and second column, second row and first column, second row and second column\n",
        "\n",
        "\n",
        "\n"
      ],
      "metadata": {
        "id": "aAmhEckbB9AH"
      }
    },
    {
      "cell_type": "code",
      "source": [
        "# CodeGrade step4\n",
        "print(\"Confidence Intervals:\")\n",
        "\n",
        "conf_intervals = mlr_model.conf_int(alpha=0.05).round(2)\n",
        "\n",
        "# Extract specific values using .iloc\n",
        "vals = [\n",
        "    conf_intervals.iloc[0, 0],  # const lower\n",
        "    conf_intervals.iloc[0, 1],  # const upper\n",
        "    conf_intervals.iloc[1, 0],  # MedInc lower\n",
        "    conf_intervals.iloc[1, 1],  # MedInc upper\n",
        "    conf_intervals.iloc[2, 0],  # AveRooms lower\n",
        "    conf_intervals.iloc[2, 1],  # AveRooms upper\n",
        "    conf_intervals.iloc[3, 0],  # AveOccup lower\n",
        "    conf_intervals.iloc[3, 1],  # AveOccup upper\n",
        "]\n",
        "\n",
        "print(\", \".join(map(str, vals)))"
      ],
      "metadata": {
        "id": "vXIdrhhnz2VA",
        "colab": {
          "base_uri": "https://localhost:8080/"
        },
        "outputId": "0dfd0dfe-e514-427e-e112-90e23b3e79dc"
      },
      "execution_count": 30,
      "outputs": [
        {
          "output_type": "stream",
          "name": "stdout",
          "text": [
            "Confidence Intervals:\n",
            "0.58, 0.64, 0.43, 0.44, -0.04, -0.03, -0.01, -0.0\n"
          ]
        }
      ]
    },
    {
      "cell_type": "markdown",
      "source": [
        "Now to see how the intervals looks \"nicely\" return `conf_intervals`."
      ],
      "metadata": {
        "id": "OgK1kFgACm95"
      }
    },
    {
      "cell_type": "code",
      "source": [
        "#Pretty CIs\n",
        "conf_intervals"
      ],
      "metadata": {
        "id": "TYIhEIxY0Cf1",
        "colab": {
          "base_uri": "https://localhost:8080/",
          "height": 175
        },
        "outputId": "5cda57c7-accc-4136-a6f3-cbdc62a4c8f2"
      },
      "execution_count": 31,
      "outputs": [
        {
          "output_type": "execute_result",
          "data": {
            "text/plain": [
              "             0     1\n",
              "const     0.58  0.64\n",
              "MedInc    0.43  0.44\n",
              "AveRooms -0.04 -0.03\n",
              "AveOccup -0.01 -0.00"
            ],
            "text/html": [
              "\n",
              "  <div id=\"df-6d5aa465-ca77-4a7f-b4de-79fcddcfc812\" class=\"colab-df-container\">\n",
              "    <div>\n",
              "<style scoped>\n",
              "    .dataframe tbody tr th:only-of-type {\n",
              "        vertical-align: middle;\n",
              "    }\n",
              "\n",
              "    .dataframe tbody tr th {\n",
              "        vertical-align: top;\n",
              "    }\n",
              "\n",
              "    .dataframe thead th {\n",
              "        text-align: right;\n",
              "    }\n",
              "</style>\n",
              "<table border=\"1\" class=\"dataframe\">\n",
              "  <thead>\n",
              "    <tr style=\"text-align: right;\">\n",
              "      <th></th>\n",
              "      <th>0</th>\n",
              "      <th>1</th>\n",
              "    </tr>\n",
              "  </thead>\n",
              "  <tbody>\n",
              "    <tr>\n",
              "      <th>const</th>\n",
              "      <td>0.58</td>\n",
              "      <td>0.64</td>\n",
              "    </tr>\n",
              "    <tr>\n",
              "      <th>MedInc</th>\n",
              "      <td>0.43</td>\n",
              "      <td>0.44</td>\n",
              "    </tr>\n",
              "    <tr>\n",
              "      <th>AveRooms</th>\n",
              "      <td>-0.04</td>\n",
              "      <td>-0.03</td>\n",
              "    </tr>\n",
              "    <tr>\n",
              "      <th>AveOccup</th>\n",
              "      <td>-0.01</td>\n",
              "      <td>-0.00</td>\n",
              "    </tr>\n",
              "  </tbody>\n",
              "</table>\n",
              "</div>\n",
              "    <div class=\"colab-df-buttons\">\n",
              "\n",
              "  <div class=\"colab-df-container\">\n",
              "    <button class=\"colab-df-convert\" onclick=\"convertToInteractive('df-6d5aa465-ca77-4a7f-b4de-79fcddcfc812')\"\n",
              "            title=\"Convert this dataframe to an interactive table.\"\n",
              "            style=\"display:none;\">\n",
              "\n",
              "  <svg xmlns=\"http://www.w3.org/2000/svg\" height=\"24px\" viewBox=\"0 -960 960 960\">\n",
              "    <path d=\"M120-120v-720h720v720H120Zm60-500h600v-160H180v160Zm220 220h160v-160H400v160Zm0 220h160v-160H400v160ZM180-400h160v-160H180v160Zm440 0h160v-160H620v160ZM180-180h160v-160H180v160Zm440 0h160v-160H620v160Z\"/>\n",
              "  </svg>\n",
              "    </button>\n",
              "\n",
              "  <style>\n",
              "    .colab-df-container {\n",
              "      display:flex;\n",
              "      gap: 12px;\n",
              "    }\n",
              "\n",
              "    .colab-df-convert {\n",
              "      background-color: #E8F0FE;\n",
              "      border: none;\n",
              "      border-radius: 50%;\n",
              "      cursor: pointer;\n",
              "      display: none;\n",
              "      fill: #1967D2;\n",
              "      height: 32px;\n",
              "      padding: 0 0 0 0;\n",
              "      width: 32px;\n",
              "    }\n",
              "\n",
              "    .colab-df-convert:hover {\n",
              "      background-color: #E2EBFA;\n",
              "      box-shadow: 0px 1px 2px rgba(60, 64, 67, 0.3), 0px 1px 3px 1px rgba(60, 64, 67, 0.15);\n",
              "      fill: #174EA6;\n",
              "    }\n",
              "\n",
              "    .colab-df-buttons div {\n",
              "      margin-bottom: 4px;\n",
              "    }\n",
              "\n",
              "    [theme=dark] .colab-df-convert {\n",
              "      background-color: #3B4455;\n",
              "      fill: #D2E3FC;\n",
              "    }\n",
              "\n",
              "    [theme=dark] .colab-df-convert:hover {\n",
              "      background-color: #434B5C;\n",
              "      box-shadow: 0px 1px 3px 1px rgba(0, 0, 0, 0.15);\n",
              "      filter: drop-shadow(0px 1px 2px rgba(0, 0, 0, 0.3));\n",
              "      fill: #FFFFFF;\n",
              "    }\n",
              "  </style>\n",
              "\n",
              "    <script>\n",
              "      const buttonEl =\n",
              "        document.querySelector('#df-6d5aa465-ca77-4a7f-b4de-79fcddcfc812 button.colab-df-convert');\n",
              "      buttonEl.style.display =\n",
              "        google.colab.kernel.accessAllowed ? 'block' : 'none';\n",
              "\n",
              "      async function convertToInteractive(key) {\n",
              "        const element = document.querySelector('#df-6d5aa465-ca77-4a7f-b4de-79fcddcfc812');\n",
              "        const dataTable =\n",
              "          await google.colab.kernel.invokeFunction('convertToInteractive',\n",
              "                                                    [key], {});\n",
              "        if (!dataTable) return;\n",
              "\n",
              "        const docLinkHtml = 'Like what you see? Visit the ' +\n",
              "          '<a target=\"_blank\" href=https://colab.research.google.com/notebooks/data_table.ipynb>data table notebook</a>'\n",
              "          + ' to learn more about interactive tables.';\n",
              "        element.innerHTML = '';\n",
              "        dataTable['output_type'] = 'display_data';\n",
              "        await google.colab.output.renderOutput(dataTable, element);\n",
              "        const docLink = document.createElement('div');\n",
              "        docLink.innerHTML = docLinkHtml;\n",
              "        element.appendChild(docLink);\n",
              "      }\n",
              "    </script>\n",
              "  </div>\n",
              "\n",
              "\n",
              "    <div id=\"df-b3ed5341-1495-449b-b477-3a7faddd576c\">\n",
              "      <button class=\"colab-df-quickchart\" onclick=\"quickchart('df-b3ed5341-1495-449b-b477-3a7faddd576c')\"\n",
              "                title=\"Suggest charts\"\n",
              "                style=\"display:none;\">\n",
              "\n",
              "<svg xmlns=\"http://www.w3.org/2000/svg\" height=\"24px\"viewBox=\"0 0 24 24\"\n",
              "     width=\"24px\">\n",
              "    <g>\n",
              "        <path d=\"M19 3H5c-1.1 0-2 .9-2 2v14c0 1.1.9 2 2 2h14c1.1 0 2-.9 2-2V5c0-1.1-.9-2-2-2zM9 17H7v-7h2v7zm4 0h-2V7h2v10zm4 0h-2v-4h2v4z\"/>\n",
              "    </g>\n",
              "</svg>\n",
              "      </button>\n",
              "\n",
              "<style>\n",
              "  .colab-df-quickchart {\n",
              "      --bg-color: #E8F0FE;\n",
              "      --fill-color: #1967D2;\n",
              "      --hover-bg-color: #E2EBFA;\n",
              "      --hover-fill-color: #174EA6;\n",
              "      --disabled-fill-color: #AAA;\n",
              "      --disabled-bg-color: #DDD;\n",
              "  }\n",
              "\n",
              "  [theme=dark] .colab-df-quickchart {\n",
              "      --bg-color: #3B4455;\n",
              "      --fill-color: #D2E3FC;\n",
              "      --hover-bg-color: #434B5C;\n",
              "      --hover-fill-color: #FFFFFF;\n",
              "      --disabled-bg-color: #3B4455;\n",
              "      --disabled-fill-color: #666;\n",
              "  }\n",
              "\n",
              "  .colab-df-quickchart {\n",
              "    background-color: var(--bg-color);\n",
              "    border: none;\n",
              "    border-radius: 50%;\n",
              "    cursor: pointer;\n",
              "    display: none;\n",
              "    fill: var(--fill-color);\n",
              "    height: 32px;\n",
              "    padding: 0;\n",
              "    width: 32px;\n",
              "  }\n",
              "\n",
              "  .colab-df-quickchart:hover {\n",
              "    background-color: var(--hover-bg-color);\n",
              "    box-shadow: 0 1px 2px rgba(60, 64, 67, 0.3), 0 1px 3px 1px rgba(60, 64, 67, 0.15);\n",
              "    fill: var(--button-hover-fill-color);\n",
              "  }\n",
              "\n",
              "  .colab-df-quickchart-complete:disabled,\n",
              "  .colab-df-quickchart-complete:disabled:hover {\n",
              "    background-color: var(--disabled-bg-color);\n",
              "    fill: var(--disabled-fill-color);\n",
              "    box-shadow: none;\n",
              "  }\n",
              "\n",
              "  .colab-df-spinner {\n",
              "    border: 2px solid var(--fill-color);\n",
              "    border-color: transparent;\n",
              "    border-bottom-color: var(--fill-color);\n",
              "    animation:\n",
              "      spin 1s steps(1) infinite;\n",
              "  }\n",
              "\n",
              "  @keyframes spin {\n",
              "    0% {\n",
              "      border-color: transparent;\n",
              "      border-bottom-color: var(--fill-color);\n",
              "      border-left-color: var(--fill-color);\n",
              "    }\n",
              "    20% {\n",
              "      border-color: transparent;\n",
              "      border-left-color: var(--fill-color);\n",
              "      border-top-color: var(--fill-color);\n",
              "    }\n",
              "    30% {\n",
              "      border-color: transparent;\n",
              "      border-left-color: var(--fill-color);\n",
              "      border-top-color: var(--fill-color);\n",
              "      border-right-color: var(--fill-color);\n",
              "    }\n",
              "    40% {\n",
              "      border-color: transparent;\n",
              "      border-right-color: var(--fill-color);\n",
              "      border-top-color: var(--fill-color);\n",
              "    }\n",
              "    60% {\n",
              "      border-color: transparent;\n",
              "      border-right-color: var(--fill-color);\n",
              "    }\n",
              "    80% {\n",
              "      border-color: transparent;\n",
              "      border-right-color: var(--fill-color);\n",
              "      border-bottom-color: var(--fill-color);\n",
              "    }\n",
              "    90% {\n",
              "      border-color: transparent;\n",
              "      border-bottom-color: var(--fill-color);\n",
              "    }\n",
              "  }\n",
              "</style>\n",
              "\n",
              "      <script>\n",
              "        async function quickchart(key) {\n",
              "          const quickchartButtonEl =\n",
              "            document.querySelector('#' + key + ' button');\n",
              "          quickchartButtonEl.disabled = true;  // To prevent multiple clicks.\n",
              "          quickchartButtonEl.classList.add('colab-df-spinner');\n",
              "          try {\n",
              "            const charts = await google.colab.kernel.invokeFunction(\n",
              "                'suggestCharts', [key], {});\n",
              "          } catch (error) {\n",
              "            console.error('Error during call to suggestCharts:', error);\n",
              "          }\n",
              "          quickchartButtonEl.classList.remove('colab-df-spinner');\n",
              "          quickchartButtonEl.classList.add('colab-df-quickchart-complete');\n",
              "        }\n",
              "        (() => {\n",
              "          let quickchartButtonEl =\n",
              "            document.querySelector('#df-b3ed5341-1495-449b-b477-3a7faddd576c button');\n",
              "          quickchartButtonEl.style.display =\n",
              "            google.colab.kernel.accessAllowed ? 'block' : 'none';\n",
              "        })();\n",
              "      </script>\n",
              "    </div>\n",
              "\n",
              "  <div id=\"id_3394ab8b-408d-4161-a344-b56839f03345\">\n",
              "    <style>\n",
              "      .colab-df-generate {\n",
              "        background-color: #E8F0FE;\n",
              "        border: none;\n",
              "        border-radius: 50%;\n",
              "        cursor: pointer;\n",
              "        display: none;\n",
              "        fill: #1967D2;\n",
              "        height: 32px;\n",
              "        padding: 0 0 0 0;\n",
              "        width: 32px;\n",
              "      }\n",
              "\n",
              "      .colab-df-generate:hover {\n",
              "        background-color: #E2EBFA;\n",
              "        box-shadow: 0px 1px 2px rgba(60, 64, 67, 0.3), 0px 1px 3px 1px rgba(60, 64, 67, 0.15);\n",
              "        fill: #174EA6;\n",
              "      }\n",
              "\n",
              "      [theme=dark] .colab-df-generate {\n",
              "        background-color: #3B4455;\n",
              "        fill: #D2E3FC;\n",
              "      }\n",
              "\n",
              "      [theme=dark] .colab-df-generate:hover {\n",
              "        background-color: #434B5C;\n",
              "        box-shadow: 0px 1px 3px 1px rgba(0, 0, 0, 0.15);\n",
              "        filter: drop-shadow(0px 1px 2px rgba(0, 0, 0, 0.3));\n",
              "        fill: #FFFFFF;\n",
              "      }\n",
              "    </style>\n",
              "    <button class=\"colab-df-generate\" onclick=\"generateWithVariable('conf_intervals')\"\n",
              "            title=\"Generate code using this dataframe.\"\n",
              "            style=\"display:none;\">\n",
              "\n",
              "  <svg xmlns=\"http://www.w3.org/2000/svg\" height=\"24px\"viewBox=\"0 0 24 24\"\n",
              "       width=\"24px\">\n",
              "    <path d=\"M7,19H8.4L18.45,9,17,7.55,7,17.6ZM5,21V16.75L18.45,3.32a2,2,0,0,1,2.83,0l1.4,1.43a1.91,1.91,0,0,1,.58,1.4,1.91,1.91,0,0,1-.58,1.4L9.25,21ZM18.45,9,17,7.55Zm-12,3A5.31,5.31,0,0,0,4.9,8.1,5.31,5.31,0,0,0,1,6.5,5.31,5.31,0,0,0,4.9,4.9,5.31,5.31,0,0,0,6.5,1,5.31,5.31,0,0,0,8.1,4.9,5.31,5.31,0,0,0,12,6.5,5.46,5.46,0,0,0,6.5,12Z\"/>\n",
              "  </svg>\n",
              "    </button>\n",
              "    <script>\n",
              "      (() => {\n",
              "      const buttonEl =\n",
              "        document.querySelector('#id_3394ab8b-408d-4161-a344-b56839f03345 button.colab-df-generate');\n",
              "      buttonEl.style.display =\n",
              "        google.colab.kernel.accessAllowed ? 'block' : 'none';\n",
              "\n",
              "      buttonEl.onclick = () => {\n",
              "        google.colab.notebook.generateWithVariable('conf_intervals');\n",
              "      }\n",
              "      })();\n",
              "    </script>\n",
              "  </div>\n",
              "\n",
              "    </div>\n",
              "  </div>\n"
            ],
            "application/vnd.google.colaboratory.intrinsic+json": {
              "type": "dataframe",
              "variable_name": "conf_intervals",
              "summary": "{\n  \"name\": \"conf_intervals\",\n  \"rows\": 4,\n  \"fields\": [\n    {\n      \"column\": 0,\n      \"properties\": {\n        \"dtype\": \"number\",\n        \"std\": 0.31230327140991226,\n        \"min\": -0.04,\n        \"max\": 0.58,\n        \"num_unique_values\": 4,\n        \"samples\": [\n          0.43,\n          -0.01,\n          0.58\n        ],\n        \"semantic_type\": \"\",\n        \"description\": \"\"\n      }\n    },\n    {\n      \"column\": 1,\n      \"properties\": {\n        \"dtype\": \"number\",\n        \"std\": 0.3308952502933015,\n        \"min\": -0.03,\n        \"max\": 0.64,\n        \"num_unique_values\": 4,\n        \"samples\": [\n          0.44,\n          -0.0,\n          0.64\n        ],\n        \"semantic_type\": \"\",\n        \"description\": \"\"\n      }\n    }\n  ]\n}"
            }
          },
          "metadata": {},
          "execution_count": 31
        }
      ]
    },
    {
      "cell_type": "markdown",
      "source": [
        "### Step 5\n",
        "\n",
        "Add a quadratic term to the model, calling the new model `quad_model` where a new term is added to the data, viz. `MedInc_squared`, which is the square of `MedInc`.\n",
        "\n",
        "Return $r^2$ of the quadratic model rounded to four decumal places."
      ],
      "metadata": {
        "id": "H3si3dfxCt0K"
      }
    },
    {
      "cell_type": "code",
      "source": [
        "# CodeGrade step5\n",
        "# add quadratic term\n",
        "data['MedInc_squared'] = data['MedInc'] ** 2\n",
        "\n",
        "# update predictors\n",
        "# X_quad = data[['MedInc', 'MedInc_squared']]\n",
        "X_quad = data[['MedInc', 'AveRooms', 'AveOccup', 'MedInc_squared']]\n",
        "X_quad = sm.add_constant(X_quad)\n",
        "\n",
        "# initialize and fit quadratic model\n",
        "quad_model = sm.OLS(y, X_quad).fit()\n",
        "\n",
        "# find r-squared\n",
        "r2_quad = quad_model.rsquared\n",
        "print(f\"R-squared value for quad model: {r2_quad:.4f}\")"
      ],
      "metadata": {
        "id": "9NAxhMdb1LQL",
        "colab": {
          "base_uri": "https://localhost:8080/"
        },
        "outputId": "dbf3b903-fd51-45c8-a50c-7c2f41883d8a"
      },
      "execution_count": 41,
      "outputs": [
        {
          "output_type": "stream",
          "name": "stdout",
          "text": [
            "R-squared value for quad model: 0.4858\n"
          ]
        }
      ]
    },
    {
      "cell_type": "markdown",
      "source": [
        "Now print the model summary."
      ],
      "metadata": {
        "id": "1yGQ9JyKDLYt"
      }
    },
    {
      "cell_type": "code",
      "source": [
        "# Print the model summary\n",
        "print(quad_model.summary())"
      ],
      "metadata": {
        "id": "aB8zNExq1P1a",
        "colab": {
          "base_uri": "https://localhost:8080/"
        },
        "outputId": "c1da355d-884c-4a43-cdf6-c8e574f134f1"
      },
      "execution_count": 42,
      "outputs": [
        {
          "output_type": "stream",
          "name": "stdout",
          "text": [
            "                            OLS Regression Results                            \n",
            "==============================================================================\n",
            "Dep. Variable:       MedianHouseValue   R-squared:                       0.486\n",
            "Model:                            OLS   Adj. R-squared:                  0.486\n",
            "Method:                 Least Squares   F-statistic:                     4874.\n",
            "Date:                Wed, 21 May 2025   Prob (F-statistic):               0.00\n",
            "Time:                        21:54:27   Log-Likelihood:                -25378.\n",
            "No. Observations:               20640   AIC:                         5.077e+04\n",
            "Df Residuals:                   20635   BIC:                         5.081e+04\n",
            "Df Model:                           4                                         \n",
            "Covariance Type:            nonrobust                                         \n",
            "==================================================================================\n",
            "                     coef    std err          t      P>|t|      [0.025      0.975]\n",
            "----------------------------------------------------------------------------------\n",
            "const              0.3551      0.024     14.760      0.000       0.308       0.402\n",
            "MedInc             0.5543      0.009     61.156      0.000       0.537       0.572\n",
            "AveRooms          -0.0398      0.002    -16.139      0.000      -0.045      -0.035\n",
            "AveOccup          -0.0041      0.001     -7.318      0.000      -0.005      -0.003\n",
            "MedInc_squared    -0.0110      0.001    -14.115      0.000      -0.012      -0.009\n",
            "==============================================================================\n",
            "Omnibus:                     4911.885   Durbin-Watson:                   0.696\n",
            "Prob(Omnibus):                  0.000   Jarque-Bera (JB):            13423.460\n",
            "Skew:                           1.269   Prob(JB):                         0.00\n",
            "Kurtosis:                       6.028   Cond. No.                         129.\n",
            "==============================================================================\n",
            "\n",
            "Notes:\n",
            "[1] Standard Errors assume that the covariance matrix of the errors is correctly specified.\n"
          ]
        }
      ]
    },
    {
      "cell_type": "markdown",
      "source": [
        "### Step 6\n",
        "\n",
        "Find the adjusted $r^2$ for both of the models and call them `adjusted_r2_base` and `adjusted_r2_quad`, respectively.\n",
        "\n",
        "Return these two adjusted $r^2$'s rounded to four decimal places, separated by a comma."
      ],
      "metadata": {
        "id": "Js07jw5fDNVq"
      }
    },
    {
      "cell_type": "code",
      "source": [
        "# CodeGrade step6\n",
        "adjusted_r2_base = mlr_model.rsquared_adj\n",
        "adjusted_r2_quad = quad_model.rsquared_adj\n",
        "\n",
        "adjusted_r2_base, adjusted_r2_quad"
      ],
      "metadata": {
        "id": "osyj44PQ1XFm",
        "colab": {
          "base_uri": "https://localhost:8080/"
        },
        "outputId": "cb53c7ab-e2a1-4a4f-8c2d-6e79344e67b0"
      },
      "execution_count": 44,
      "outputs": [
        {
          "output_type": "execute_result",
          "data": {
            "text/plain": [
              "(np.float64(0.48074591990192506), np.float64(0.4856862487881798))"
            ]
          },
          "metadata": {},
          "execution_count": 44
        }
      ]
    },
    {
      "cell_type": "markdown",
      "source": [
        "Print both these adjusted $r^2$'s."
      ],
      "metadata": {
        "id": "DBOHz2ijDlUN"
      }
    },
    {
      "cell_type": "code",
      "source": [
        "\n",
        "print(f\"Adjusted R-squared for base model: {adjusted_r2_base:.4f}\")\n",
        "print(f\"Adjusted R-squared for quadratic model: {adjusted_r2_quad:.4f}\")"
      ],
      "metadata": {
        "id": "RbEYbPxx1gbo",
        "colab": {
          "base_uri": "https://localhost:8080/"
        },
        "outputId": "a9b551b3-dd94-440d-a6dd-6744f6883da8"
      },
      "execution_count": 45,
      "outputs": [
        {
          "output_type": "stream",
          "name": "stdout",
          "text": [
            "Adjusted R-squared for base model: 0.4807\n",
            "Adjusted R-squared for quadratic model: 0.4857\n"
          ]
        }
      ]
    },
    {
      "cell_type": "code",
      "source": [],
      "metadata": {
        "id": "AkvGkamd2ehj"
      },
      "execution_count": null,
      "outputs": []
    }
  ]
}