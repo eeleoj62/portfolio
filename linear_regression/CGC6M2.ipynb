{
  "nbformat": 4,
  "nbformat_minor": 0,
  "metadata": {
    "colab": {
      "provenance": []
    },
    "kernelspec": {
      "name": "python3",
      "display_name": "Python 3"
    },
    "language_info": {
      "name": "python"
    }
  },
  "cells": [
    {
      "cell_type": "markdown",
      "source": [
        "## Module 2: Fitting the Linear Model"
      ],
      "metadata": {
        "id": "8b2fEhYjGUxm"
      }
    },
    {
      "cell_type": "markdown",
      "source": [
        "### Step 0\n",
        "\n",
        "Load the appropriate libraries and bring in the data. Note that we have to run a script to get the [California Housing dataset](https://scikit-learn.org/stable/modules/generated/sklearn.datasets.fetch_california_housing.html) to match as it is in scikit-learn. We cannot pull it directly from scikit-learn since CodeGrade cannot access the internet."
      ],
      "metadata": {
        "id": "rCQn1GXcHAkb"
      }
    },
    {
      "cell_type": "code",
      "execution_count": null,
      "metadata": {
        "id": "09VaPgNdpoS9"
      },
      "outputs": [],
      "source": [
        "# CodeGrade step0\n",
        "\n",
        "from sklearn.datasets import fetch_california_housing\n",
        "import pandas as pd\n",
        "import numpy as np\n",
        "import matplotlib.pyplot as plt\n",
        "from sklearn.linear_model import LinearRegression\n",
        "from scipy.stats import pearsonr\n",
        "import os\n",
        "import tarfile\n",
        "import joblib # Import joblib directly\n",
        "from sklearn.datasets._base import _pkl_filepath, get_data_home\n",
        "import statsmodels.api as sm\n",
        "\n",
        "\n",
        "archive_path = \"cal_housing.tgz\" # change the path if it's not in the current directory\n",
        "data_home = get_data_home(data_home=None) # change data_home if you are not using ~/scikit_learn_data\n",
        "if not os.path.exists(data_home):\n",
        "    os.makedirs(data_home)\n",
        "filepath = _pkl_filepath(data_home, 'cal_housing.pkz')\n",
        "\n",
        "with tarfile.open(mode=\"r:gz\", name=archive_path) as f:\n",
        "    cal_housing = np.loadtxt(\n",
        "        f.extractfile('CaliforniaHousing/cal_housing.data'),\n",
        "        delimiter=',')\n",
        "    # Columns are not in the same order compared to the previous\n",
        "    # URL resource on lib.stat.cmu.edu\n",
        "    columns_index = [8, 7, 2, 3, 4, 5, 6, 1, 0]\n",
        "    cal_housing = cal_housing[:, columns_index]\n",
        "\n",
        "    joblib.dump(cal_housing, filepath, compress=6) # Now using the directly imported joblib\n",
        "\n",
        "# Load the dataset\n",
        "california = fetch_california_housing(as_frame=True)\n",
        "data = california.data\n",
        "target = california.target"
      ]
    },
    {
      "cell_type": "markdown",
      "source": [
        "### Step 1\n",
        "\n",
        "*   Create a copy of the data and call it `df`\n",
        "*   Select the `X` variable to be `MedInc` and the `y` be `MedianHouseValue`\n",
        "\n",
        "Return `X.shape, y.shape` to verify."
      ],
      "metadata": {
        "id": "2kZngDhqHDfT"
      }
    },
    {
      "cell_type": "code",
      "source": [
        "# CodeGrade step1\n",
        "df = data.copy()\n",
        "X = df[['MedInc']]\n",
        "y = target\n",
        "print(X.shape, y.shape)"
      ],
      "metadata": {
        "id": "l4JzCRA7pr6i",
        "colab": {
          "base_uri": "https://localhost:8080/"
        },
        "outputId": "8c785aef-bbdc-43dd-d160-68f891efa8cd"
      },
      "execution_count": null,
      "outputs": [
        {
          "output_type": "stream",
          "name": "stdout",
          "text": [
            "(20640, 1) (20640,)\n"
          ]
        }
      ]
    },
    {
      "cell_type": "markdown",
      "source": [
        "### Step 2\n",
        "\n",
        "Using `statsmodels`\n",
        "\n",
        "\n",
        "*   Add the constant term and call it `X_const`\n",
        "*   fit the OLS model and call it `model`\n",
        "*   extract the residuals and call them `residuals`\n",
        "*   count the number of positive and negative residuals, calling them `positive_residuals` and `negative_residuals`, respectively\n",
        "\n",
        "Return `positive_residuals, negative_residuals` to verify."
      ],
      "metadata": {
        "id": "_3S_iMrGHHu1"
      }
    },
    {
      "cell_type": "code",
      "source": [
        "# CodeGrade step2\n",
        "X_const = sm.add_constant(df['MedInc'])\n",
        "\n",
        "model = sm.OLS(y, X_const).fit()\n",
        "\n",
        "residuals = model.resid\n",
        "\n",
        "positive_residuals = np.sum(residuals > 0)\n",
        "negative_residuals = np.sum(residuals < 0)\n",
        "\n",
        "print(positive_residuals, negative_residuals)\n"
      ],
      "metadata": {
        "id": "HdBCNwwvptcz",
        "colab": {
          "base_uri": "https://localhost:8080/"
        },
        "outputId": "1627bef8-5763-48be-af05-8fe5a3bf146b"
      },
      "execution_count": null,
      "outputs": [
        {
          "output_type": "stream",
          "name": "stdout",
          "text": [
            "8375 12265\n"
          ]
        }
      ]
    },
    {
      "cell_type": "markdown",
      "source": [
        "### Code\n",
        "\n",
        "Compute and return $r^2$, calling it `r_squared`."
      ],
      "metadata": {
        "id": "dd8SQazu2AR9"
      }
    },
    {
      "cell_type": "markdown",
      "source": [
        "### Code\n",
        "\n"
      ],
      "metadata": {
        "id": "SQgzfcAfIm0z"
      }
    },
    {
      "cell_type": "code",
      "source": [
        "# CodeGrade step3\n",
        "r_squared = model.rsquared\n",
        "print(r_squared)\n"
      ],
      "metadata": {
        "id": "KO1OH5Ba-7yP",
        "colab": {
          "base_uri": "https://localhost:8080/"
        },
        "outputId": "72a75ec6-28e2-4662-e989-db732526742a"
      },
      "execution_count": 31,
      "outputs": [
        {
          "output_type": "stream",
          "name": "stdout",
          "text": [
            "0.47344749180719903\n"
          ]
        }
      ]
    },
    {
      "cell_type": "code",
      "source": [
        "X_const.columns"
      ],
      "metadata": {
        "colab": {
          "base_uri": "https://localhost:8080/"
        },
        "id": "u_NbMq6m3eOj",
        "outputId": "327e0a6d-fa30-45ec-d1ea-3757a6d1381f"
      },
      "execution_count": 32,
      "outputs": [
        {
          "output_type": "execute_result",
          "data": {
            "text/plain": [
              "Index(['const', 'MedInc'], dtype='object')"
            ]
          },
          "metadata": {},
          "execution_count": 32
        }
      ]
    },
    {
      "cell_type": "code",
      "source": [
        "residuals.shape"
      ],
      "metadata": {
        "colab": {
          "base_uri": "https://localhost:8080/"
        },
        "id": "NnaiHGOt3hXa",
        "outputId": "5b2582d1-0184-4b5a-e029-55f959041584"
      },
      "execution_count": 33,
      "outputs": [
        {
          "output_type": "execute_result",
          "data": {
            "text/plain": [
              "(20640,)"
            ]
          },
          "metadata": {},
          "execution_count": 33
        }
      ]
    },
    {
      "cell_type": "markdown",
      "source": [
        "Plot the residual plot."
      ],
      "metadata": {
        "id": "ouP8wHciJD1U"
      }
    },
    {
      "cell_type": "code",
      "source": [
        "# Residual plot\n",
        "plt.scatter(X_const['MedInc'], residuals)\n",
        "plt.xlabel('MedInc')\n",
        "plt.ylabel('Residuals')\n",
        "plt.title('Residual Plot')"
      ],
      "metadata": {
        "id": "q6NVZTl8WG9k",
        "colab": {
          "base_uri": "https://localhost:8080/",
          "height": 489
        },
        "outputId": "92f2947d-aac0-4642-ea83-e5995f93c44a"
      },
      "execution_count": 34,
      "outputs": [
        {
          "output_type": "execute_result",
          "data": {
            "text/plain": [
              "Text(0.5, 1.0, 'Residual Plot')"
            ]
          },
          "metadata": {},
          "execution_count": 34
        },
        {
          "output_type": "display_data",
          "data": {
            "text/plain": [
              "<Figure size 640x480 with 1 Axes>"
            ],
            "image/png": "[encoded data removed]"
          },
          "metadata": {}
        }
      ]
    },
    {
      "cell_type": "markdown",
      "source": [
        "### Step 4\n",
        "\n",
        "Compute Cook's distance, where the model's `get_influence` is called `influence` and the Cook's distance from this is called `cooks_d`.\n",
        "\n",
        "Then identify the influential points, calling them `influential_points`. Verify this by returing `influential_points.shape`."
      ],
      "metadata": {
        "id": "Oq5XXj9NJHjq"
      }
    },
    {
      "cell_type": "code",
      "source": [
        "# CodeGrade step4\n",
        "influence = model.get_influence()\n",
        "cooks_d, _ = influence.cooks_distance\n",
        "influential_points = np.where(cooks_d > 1)[0]\n",
        "print(influential_points.shape)"
      ],
      "metadata": {
        "id": "JA1P_8cH-gxz",
        "colab": {
          "base_uri": "https://localhost:8080/"
        },
        "outputId": "9c375134-9b3e-4332-892e-d094ead2b12a"
      },
      "execution_count": 35,
      "outputs": [
        {
          "output_type": "stream",
          "name": "stdout",
          "text": [
            "(0,)\n"
          ]
        }
      ]
    },
    {
      "cell_type": "markdown",
      "source": [
        "Now plot Cook's Distance."
      ],
      "metadata": {
        "id": "clq93KFsJl4V"
      }
    },
    {
      "cell_type": "code",
      "source": [
        "# Plot Cook's Distance\n",
        "plt.scatter(np.arange(len(X_const)), cooks_d)\n",
        "plt.xlabel('Index')\n",
        "plt.ylabel('Cook\\'s Distance')\n",
        "plt.title('Cook\\'s Distance Plot')\n",
        "plt.show()\n",
        "\n",
        "#  0 points in cook's distance plot over 1, meaning no single point is overly influencing the model"
      ],
      "metadata": {
        "id": "7ZBJmiFdWUHw",
        "colab": {
          "base_uri": "https://localhost:8080/",
          "height": 472
        },
        "outputId": "52ab9417-bd4c-4e3e-daf2-981e0d2be016"
      },
      "execution_count": 36,
      "outputs": [
        {
          "output_type": "display_data",
          "data": {
            "text/plain": [
              "<Figure size 640x480 with 1 Axes>"
            ],
            "image/png": "[encoded data removed]"
          },
          "metadata": {}
        }
      ]
    },
    {
      "cell_type": "code",
      "source": [],
      "metadata": {
        "id": "G1wiUqa76dTi"
      },
      "execution_count": null,
      "outputs": []
    }
  ]
}