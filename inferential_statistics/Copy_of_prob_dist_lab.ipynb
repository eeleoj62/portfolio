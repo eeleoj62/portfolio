{
  "cells": [
    {
      "cell_type": "markdown",
      "metadata": {
        "id": "zcSVJO_d1F-c"
      },
      "source": [
        "# Probability and Distributions Lab:\n",
        "## Beverage Filling Process\n",
        "You're working as a junior quality analyst at a beverage company that produces 12-ounce soft drinks. The filling process naturally has some variation, and underfilled bottles lead to customer complaints while overfilled bottles waste product. Your supervisor has asked you to analyze the filling data. You will first address initial probability word problem questions using hypothetical data and the varying laws of probability. These scenarios represent potential uses of conditional probability and bayes theorem.\n",
        "\n",
        "Next you will move into conducting an analysis of fill data using properties of the normal distribution. Recent studies suggest that customers notice when bottles are underfilled by more than 0.3 ounces, while overfilling by more than 0.2 ounces impacts company profits. This information has been used to set quality control rejection limits of 11.7 and 12.2 oz. You'll need to analyze the fill amounts, determine if they follow a normal distribution, and establish if the company’s current fill process is within acceptable control limits. They would like to achieve a maximum rejection percentage of 5%.\n",
        "\n",
        "Your analysis needs to answer three key questions:\n",
        "- Does the filling process follow a normal distribution?\n",
        "- What are the probabilities of under-filling (less than 11.7 oz) or over-filling (more than 12.2 oz)?\n",
        "- Is the current fill process below the maximum rejection percentage of 5%?\n",
        "\n",
        "\n"
      ]
    },
    {
      "cell_type": "code",
      "execution_count": null,
      "metadata": {
        "id": "ew_4BHtV1F-e"
      },
      "outputs": [],
      "source": [
        "# CodeGrade step0\n",
        "# Run this cell without changes\n",
        "# Import required libraries\n",
        "import numpy as np\n",
        "import pandas as pd\n",
        "import matplotlib.pyplot as plt\n",
        "import scipy.stats as stats"
      ]
    },
    {
      "cell_type": "code",
      "source": [
        "bottle_data = pd.read_csv('bottle_fills.csv')\n",
        "bottle_data.head()"
      ],
      "metadata": {
        "id": "yf7ofKWQ3y5A",
        "outputId": "e9bd08cf-858d-4aae-f563-510eac9892cc",
        "colab": {
          "base_uri": "https://localhost:8080/",
          "height": 206
        }
      },
      "execution_count": null,
      "outputs": [
        {
          "output_type": "execute_result",
          "data": {
            "text/plain": [
              "             timestamp  fill_amount\n",
              "0  2024-01-15 08:00:00    12.049671\n",
              "1  2024-01-15 08:00:30    11.986224\n",
              "2  2024-01-15 08:01:00    12.064869\n",
              "3  2024-01-15 08:01:30    12.152453\n",
              "4  2024-01-15 08:02:00    11.976785"
            ],
            "text/html": [
              "\n",
              "  <div id=\"df-5f946a98-3aef-47b7-9795-5b737f2c9795\" class=\"colab-df-container\">\n",
              "    <div>\n",
              "<style scoped>\n",
              "    .dataframe tbody tr th:only-of-type {\n",
              "        vertical-align: middle;\n",
              "    }\n",
              "\n",
              "    .dataframe tbody tr th {\n",
              "        vertical-align: top;\n",
              "    }\n",
              "\n",
              "    .dataframe thead th {\n",
              "        text-align: right;\n",
              "    }\n",
              "</style>\n",
              "<table border=\"1\" class=\"dataframe\">\n",
              "  <thead>\n",
              "    <tr style=\"text-align: right;\">\n",
              "      <th></th>\n",
              "      <th>timestamp</th>\n",
              "      <th>fill_amount</th>\n",
              "    </tr>\n",
              "  </thead>\n",
              "  <tbody>\n",
              "    <tr>\n",
              "      <th>0</th>\n",
              "      <td>2024-01-15 08:00:00</td>\n",
              "      <td>12.049671</td>\n",
              "    </tr>\n",
              "    <tr>\n",
              "      <th>1</th>\n",
              "      <td>2024-01-15 08:00:30</td>\n",
              "      <td>11.986224</td>\n",
              "    </tr>\n",
              "    <tr>\n",
              "      <th>2</th>\n",
              "      <td>2024-01-15 08:01:00</td>\n",
              "      <td>12.064869</td>\n",
              "    </tr>\n",
              "    <tr>\n",
              "      <th>3</th>\n",
              "      <td>2024-01-15 08:01:30</td>\n",
              "      <td>12.152453</td>\n",
              "    </tr>\n",
              "    <tr>\n",
              "      <th>4</th>\n",
              "      <td>2024-01-15 08:02:00</td>\n",
              "      <td>11.976785</td>\n",
              "    </tr>\n",
              "  </tbody>\n",
              "</table>\n",
              "</div>\n",
              "    <div class=\"colab-df-buttons\">\n",
              "\n",
              "  <div class=\"colab-df-container\">\n",
              "    <button class=\"colab-df-convert\" onclick=\"convertToInteractive('df-5f946a98-3aef-47b7-9795-5b737f2c9795')\"\n",
              "            title=\"Convert this dataframe to an interactive table.\"\n",
              "            style=\"display:none;\">\n",
              "\n",
              "  <svg xmlns=\"http://www.w3.org/2000/svg\" height=\"24px\" viewBox=\"0 -960 960 960\">\n",
              "    <path d=\"M120-120v-720h720v720H120Zm60-500h600v-160H180v160Zm220 220h160v-160H400v160Zm0 220h160v-160H400v160ZM180-400h160v-160H180v160Zm440 0h160v-160H620v160ZM180-180h160v-160H180v160Zm440 0h160v-160H620v160Z\"/>\n",
              "  </svg>\n",
              "    </button>\n",
              "\n",
              "  <style>\n",
              "    .colab-df-container {\n",
              "      display:flex;\n",
              "      gap: 12px;\n",
              "    }\n",
              "\n",
              "    .colab-df-convert {\n",
              "      background-color: #E8F0FE;\n",
              "      border: none;\n",
              "      border-radius: 50%;\n",
              "      cursor: pointer;\n",
              "      display: none;\n",
              "      fill: #1967D2;\n",
              "      height: 32px;\n",
              "      padding: 0 0 0 0;\n",
              "      width: 32px;\n",
              "    }\n",
              "\n",
              "    .colab-df-convert:hover {\n",
              "      background-color: #E2EBFA;\n",
              "      box-shadow: 0px 1px 2px rgba(60, 64, 67, 0.3), 0px 1px 3px 1px rgba(60, 64, 67, 0.15);\n",
              "      fill: #174EA6;\n",
              "    }\n",
              "\n",
              "    .colab-df-buttons div {\n",
              "      margin-bottom: 4px;\n",
              "    }\n",
              "\n",
              "    [theme=dark] .colab-df-convert {\n",
              "      background-color: #3B4455;\n",
              "      fill: #D2E3FC;\n",
              "    }\n",
              "\n",
              "    [theme=dark] .colab-df-convert:hover {\n",
              "      background-color: #434B5C;\n",
              "      box-shadow: 0px 1px 3px 1px rgba(0, 0, 0, 0.15);\n",
              "      filter: drop-shadow(0px 1px 2px rgba(0, 0, 0, 0.3));\n",
              "      fill: #FFFFFF;\n",
              "    }\n",
              "  </style>\n",
              "\n",
              "    <script>\n",
              "      const buttonEl =\n",
              "        document.querySelector('#df-5f946a98-3aef-47b7-9795-5b737f2c9795 button.colab-df-convert');\n",
              "      buttonEl.style.display =\n",
              "        google.colab.kernel.accessAllowed ? 'block' : 'none';\n",
              "\n",
              "      async function convertToInteractive(key) {\n",
              "        const element = document.querySelector('#df-5f946a98-3aef-47b7-9795-5b737f2c9795');\n",
              "        const dataTable =\n",
              "          await google.colab.kernel.invokeFunction('convertToInteractive',\n",
              "                                                    [key], {});\n",
              "        if (!dataTable) return;\n",
              "\n",
              "        const docLinkHtml = 'Like what you see? Visit the ' +\n",
              "          '<a target=\"_blank\" href=https://colab.research.google.com/notebooks/data_table.ipynb>data table notebook</a>'\n",
              "          + ' to learn more about interactive tables.';\n",
              "        element.innerHTML = '';\n",
              "        dataTable['output_type'] = 'display_data';\n",
              "        await google.colab.output.renderOutput(dataTable, element);\n",
              "        const docLink = document.createElement('div');\n",
              "        docLink.innerHTML = docLinkHtml;\n",
              "        element.appendChild(docLink);\n",
              "      }\n",
              "    </script>\n",
              "  </div>\n",
              "\n",
              "\n",
              "    <div id=\"df-a504c6c6-dbff-4a43-b34a-474766e01d58\">\n",
              "      <button class=\"colab-df-quickchart\" onclick=\"quickchart('df-a504c6c6-dbff-4a43-b34a-474766e01d58')\"\n",
              "                title=\"Suggest charts\"\n",
              "                style=\"display:none;\">\n",
              "\n",
              "<svg xmlns=\"http://www.w3.org/2000/svg\" height=\"24px\"viewBox=\"0 0 24 24\"\n",
              "     width=\"24px\">\n",
              "    <g>\n",
              "        <path d=\"M19 3H5c-1.1 0-2 .9-2 2v14c0 1.1.9 2 2 2h14c1.1 0 2-.9 2-2V5c0-1.1-.9-2-2-2zM9 17H7v-7h2v7zm4 0h-2V7h2v10zm4 0h-2v-4h2v4z\"/>\n",
              "    </g>\n",
              "</svg>\n",
              "      </button>\n",
              "\n",
              "<style>\n",
              "  .colab-df-quickchart {\n",
              "      --bg-color: #E8F0FE;\n",
              "      --fill-color: #1967D2;\n",
              "      --hover-bg-color: #E2EBFA;\n",
              "      --hover-fill-color: #174EA6;\n",
              "      --disabled-fill-color: #AAA;\n",
              "      --disabled-bg-color: #DDD;\n",
              "  }\n",
              "\n",
              "  [theme=dark] .colab-df-quickchart {\n",
              "      --bg-color: #3B4455;\n",
              "      --fill-color: #D2E3FC;\n",
              "      --hover-bg-color: #434B5C;\n",
              "      --hover-fill-color: #FFFFFF;\n",
              "      --disabled-bg-color: #3B4455;\n",
              "      --disabled-fill-color: #666;\n",
              "  }\n",
              "\n",
              "  .colab-df-quickchart {\n",
              "    background-color: var(--bg-color);\n",
              "    border: none;\n",
              "    border-radius: 50%;\n",
              "    cursor: pointer;\n",
              "    display: none;\n",
              "    fill: var(--fill-color);\n",
              "    height: 32px;\n",
              "    padding: 0;\n",
              "    width: 32px;\n",
              "  }\n",
              "\n",
              "  .colab-df-quickchart:hover {\n",
              "    background-color: var(--hover-bg-color);\n",
              "    box-shadow: 0 1px 2px rgba(60, 64, 67, 0.3), 0 1px 3px 1px rgba(60, 64, 67, 0.15);\n",
              "    fill: var(--button-hover-fill-color);\n",
              "  }\n",
              "\n",
              "  .colab-df-quickchart-complete:disabled,\n",
              "  .colab-df-quickchart-complete:disabled:hover {\n",
              "    background-color: var(--disabled-bg-color);\n",
              "    fill: var(--disabled-fill-color);\n",
              "    box-shadow: none;\n",
              "  }\n",
              "\n",
              "  .colab-df-spinner {\n",
              "    border: 2px solid var(--fill-color);\n",
              "    border-color: transparent;\n",
              "    border-bottom-color: var(--fill-color);\n",
              "    animation:\n",
              "      spin 1s steps(1) infinite;\n",
              "  }\n",
              "\n",
              "  @keyframes spin {\n",
              "    0% {\n",
              "      border-color: transparent;\n",
              "      border-bottom-color: var(--fill-color);\n",
              "      border-left-color: var(--fill-color);\n",
              "    }\n",
              "    20% {\n",
              "      border-color: transparent;\n",
              "      border-left-color: var(--fill-color);\n",
              "      border-top-color: var(--fill-color);\n",
              "    }\n",
              "    30% {\n",
              "      border-color: transparent;\n",
              "      border-left-color: var(--fill-color);\n",
              "      border-top-color: var(--fill-color);\n",
              "      border-right-color: var(--fill-color);\n",
              "    }\n",
              "    40% {\n",
              "      border-color: transparent;\n",
              "      border-right-color: var(--fill-color);\n",
              "      border-top-color: var(--fill-color);\n",
              "    }\n",
              "    60% {\n",
              "      border-color: transparent;\n",
              "      border-right-color: var(--fill-color);\n",
              "    }\n",
              "    80% {\n",
              "      border-color: transparent;\n",
              "      border-right-color: var(--fill-color);\n",
              "      border-bottom-color: var(--fill-color);\n",
              "    }\n",
              "    90% {\n",
              "      border-color: transparent;\n",
              "      border-bottom-color: var(--fill-color);\n",
              "    }\n",
              "  }\n",
              "</style>\n",
              "\n",
              "      <script>\n",
              "        async function quickchart(key) {\n",
              "          const quickchartButtonEl =\n",
              "            document.querySelector('#' + key + ' button');\n",
              "          quickchartButtonEl.disabled = true;  // To prevent multiple clicks.\n",
              "          quickchartButtonEl.classList.add('colab-df-spinner');\n",
              "          try {\n",
              "            const charts = await google.colab.kernel.invokeFunction(\n",
              "                'suggestCharts', [key], {});\n",
              "          } catch (error) {\n",
              "            console.error('Error during call to suggestCharts:', error);\n",
              "          }\n",
              "          quickchartButtonEl.classList.remove('colab-df-spinner');\n",
              "          quickchartButtonEl.classList.add('colab-df-quickchart-complete');\n",
              "        }\n",
              "        (() => {\n",
              "          let quickchartButtonEl =\n",
              "            document.querySelector('#df-a504c6c6-dbff-4a43-b34a-474766e01d58 button');\n",
              "          quickchartButtonEl.style.display =\n",
              "            google.colab.kernel.accessAllowed ? 'block' : 'none';\n",
              "        })();\n",
              "      </script>\n",
              "    </div>\n",
              "\n",
              "    </div>\n",
              "  </div>\n"
            ],
            "application/vnd.google.colaboratory.intrinsic+json": {
              "type": "dataframe",
              "variable_name": "bottle_data",
              "summary": "{\n  \"name\": \"bottle_data\",\n  \"rows\": 1000,\n  \"fields\": [\n    {\n      \"column\": \"timestamp\",\n      \"properties\": {\n        \"dtype\": \"object\",\n        \"num_unique_values\": 1000,\n        \"samples\": [\n          \"2024-01-15 12:20:30\",\n          \"2024-01-15 14:08:30\",\n          \"2024-01-15 14:10:00\"\n        ],\n        \"semantic_type\": \"\",\n        \"description\": \"\"\n      }\n    },\n    {\n      \"column\": \"fill_amount\",\n      \"properties\": {\n        \"dtype\": \"number\",\n        \"std\": 0.1083520719201837,\n        \"min\": 11.611044538700872,\n        \"max\": 12.888699912680112,\n        \"num_unique_values\": 1000,\n        \"samples\": [\n          12.08041209531407,\n          12.135155985281438,\n          11.852949613903872\n        ],\n        \"semantic_type\": \"\",\n        \"description\": \"\"\n      }\n    }\n  ]\n}"
            }
          },
          "metadata": {},
          "execution_count": 2
        }
      ]
    },
    {
      "cell_type": "code",
      "source": [
        "# verify normal distribution\n",
        "# create Q-Q plot to check normality\n",
        "\n",
        "fig, (ax1, ax2) = plt.subplots(1, 2, figsize=(10, 5))\n",
        "\n",
        "# histogram with normal curve overlay\n",
        "fill_data = bottle_data['fill_amount']\n",
        "\n",
        "hist_data = ax1.hist(fill_data, bins=30, density=True, alpha = 0.7)\n",
        "xmin, xmax = ax1.get_xlim()\n",
        "x = np.linspace(xmin, xmax, 100)\n",
        "p = stats.norm.pdf(x, np.mean(fill_data), np.std(fill_data))\n",
        "ax1.plot(x, p, 'k', linewidth=2)\n",
        "ax1.set_title('Distribution of Bottle Fill Amounts')\n",
        "ax1.set_xlabel('Fill Amount (oz)')\n",
        "ax1.set_ylabel('Frequency')\n",
        "ax1.grid(True, alpha=0.3)\n",
        "\n",
        "# Q-Q plot\n",
        "stats.probplot(fill_data, dist='norm', plot=ax2)\n",
        "ax2.set_title('Q-Q Plot of Bottle Fill Amounts')\n",
        "ax2.set_xlabel('Theoretical Quantiles')\n",
        "ax2.set_ylabel('Sample Quantiles')\n",
        "ax2.grid(True, alpha=0.3)\n",
        "\n",
        "plt.show()"
      ],
      "metadata": {
        "id": "kaAxI-ln1liQ",
        "outputId": "97a1b894-2cc2-4931-c95e-472664c62056",
        "colab": {
          "base_uri": "https://localhost:8080/",
          "height": 487
        }
      },
      "execution_count": null,
      "outputs": [
        {
          "output_type": "display_data",
          "data": {
            "text/plain": [
              "<Figure size 1000x500 with 2 Axes>"
            ],
            "image/png": "[encoded data removed]"
          },
          "metadata": {}
        }
      ]
    },
    {
      "cell_type": "markdown",
      "source": [
        "The data does show the filling process follows a normal distribution"
      ],
      "metadata": {
        "id": "7oTTnDaZ45y6"
      }
    },
    {
      "cell_type": "code",
      "source": [
        "# What are the probabilities of under-filling (less than 11.7 oz) or over-filling (more than 12.2 oz)?\n",
        "# Is the current fill process below the maximum rejection percentage of 5%?\n",
        "\n",
        "def analyze_fill_amounts(fill_data, upper_limit=None, lower_limit=None, reject_threshold=0.05):\n",
        "  # characterize the distribution\n",
        "  mean_fill = round(np.mean(fill_data), 2)\n",
        "  std_fill = round(np.std(fill_data), 2)\n",
        "\n",
        "  print(mean_fill)\n",
        "  print(std_fill)\n",
        "\n",
        "  # calculate key statistics\n",
        "\n",
        "  results = {\n",
        "      'mean': mean_fill,\n",
        "      'std': std_fill,\n",
        "      'within_1_std': np.mean(np.abs(fill_data - mean_fill) < std_fill),\n",
        "      'within_2_std': np.mean(np.abs(fill_data - mean_fill) < 2 * std_fill),\n",
        "      'within_3_std': np.mean(np.abs(fill_data - mean_fill) < 3 * std_fill)\n",
        "  }\n",
        "\n",
        "\n",
        "  if lower_limit is not None:\n",
        "    z_score = (lower_limit - mean_fill) / std_fill\n",
        "    prob_under = stats.norm.cdf(z_score)\n",
        "    results['prob_underfill'] = prob_under\n",
        "\n",
        "  if upper_limit is not None:\n",
        "    z_score = (upper_limit - mean_fill) / std_fill\n",
        "    prob_over = 1 - stats.norm.cdf(z_score)\n",
        "    results['prob_overfill'] = prob_over\n",
        "\n",
        "  if lower_limit is not None and upper_limit is not None:\n",
        "    out_of_spec = prob_under + prob_over\n",
        "    results['out_of_spec'] = out_of_spec\n",
        "    results['passes'] = out_of_spec <= reject_threshold\n",
        "\n",
        "  return results\n",
        "\n",
        "results = analyze_fill_amounts(fill_data, 12.2, 11.7)\n",
        "\n",
        "print(\"\\nFill analysis results: \")\n",
        "print(f\"Mean fill amount: {results['mean']:.2f}\")\n",
        "print(f\"Standard deviation of fill amounts: {results['std']:.2f}\")\n",
        "print(\"\\nEmpirical Rule Verification:\")\n",
        "print(f\"Percentage of fill amounts within 1 standard deviation: {results['within_1_std'] * 100:.2f}%\")\n",
        "print(f\"Percentage of fill amounts within 2 standard deviations: {results['within_2_std'] * 100:.2f}%\")\n",
        "print(f\"Percentage of fill amounts within 3 standard deviations: {results['within_3_std'] * 100:.2f}%\")\n",
        "print(f\"\\nProbability of fill below 11.7oz: {results['prob_underfill'] * 100:.1f}%\")\n",
        "print(f\"\\nProbability of fill exceeding 12.2oz: {results['prob_overfill'] * 100:.1f}%\")\n",
        "print(f\"The process is below the reject percentage of 0.05? {results['passes']}\")"
      ],
      "metadata": {
        "id": "anq10TDO5F91",
        "outputId": "796f6546-49dc-4aba-fb35-67d0282bdd97",
        "colab": {
          "base_uri": "https://localhost:8080/"
        }
      },
      "execution_count": null,
      "outputs": [
        {
          "output_type": "stream",
          "name": "stdout",
          "text": [
            "12.03\n",
            "0.11\n",
            "\n",
            "Fill analysis results: \n",
            "Mean fill amount: 12.03\n",
            "Standard deviation of fill amounts: 0.11\n",
            "\n",
            "Empirical Rule Verification:\n",
            "Percentage of fill amounts within 1 standard deviation: 72.00%\n",
            "Percentage of fill amounts within 2 standard deviations: 96.60%\n",
            "Percentage of fill amounts within 3 standard deviations: 99.20%\n",
            "\n",
            "Probability of fill below 11.7oz: 0.1%\n",
            "\n",
            "Probability of fill exceeding 12.2oz: 6.1%\n",
            "The process is below the reject percentage of 0.05? False\n"
          ]
        }
      ]
    },
    {
      "cell_type": "markdown",
      "metadata": {
        "id": "3aVukbsS1F-f"
      },
      "source": [
        "## Probability Word Problems\n",
        "\n",
        "\n",
        "### Scenario 1\n",
        "In your initial analysis of the filling process, you examine two production lines (A and B). When analyzing a day's data:\n",
        "\n",
        "- 40% of bottles come from Line A\n",
        "- 60% of bottles come from Line B\n",
        "- 3% of Line A bottles are outside specification limits\n",
        "- 2% of Line B bottles are outside specification limits\n",
        "\n",
        "If a bottle is randomly selected and found to be outside specification limits, what is the probability it came from Line A?"
      ]
    },
    {
      "cell_type": "code",
      "execution_count": null,
      "metadata": {
        "id": "KUNLyax81F-f"
      },
      "outputs": [],
      "source": [
        "# CodeGrade step1\n",
        "\n",
        "# P(A) = 0.4, P(B) = 0.6\n",
        "# P(OOS | A) = 0.03, P(OOS | B) = 0.02\n",
        "# P(A | OOS) = P(OOS | A) * P(A) / P(OOS) = 0.03 * 0.4 / P(OOS)\n",
        "# P(OOS) = P(OOS | A) * P(A) + P(OOS | B) * P(B) = 0.03 * 0.4 + 0.02 * 0.6 = 0.024\n",
        "# P(A | OOS) = 0.03 * 0.4 / 0.024 = 0.5\n",
        "\n",
        "prob_one = 0.50"
      ]
    },
    {
      "cell_type": "markdown",
      "metadata": {
        "id": "m0cXI8Y21F-f"
      },
      "source": [
        "### Scenario 2\n",
        "Your team needs to assess a possible mechanical issue with Line A. From maintenance records and historical data, you know:\n",
        "\n",
        "- The baseline probability of Line A having a mechanical issue on any given day is 5% (prior probability)\n",
        "- When Line A has a mechanical issue, 80% of daily samples show high volume variability\n",
        "- When Line A is operating normally, only 10% of daily samples show high volume variability\n",
        "\n",
        "Today's quality report shows high volume variability in the samples. What is the probability that Line A has a mechanical issue?"
      ]
    },
    {
      "cell_type": "code",
      "execution_count": null,
      "metadata": {
        "id": "fllPJM_P1F-g"
      },
      "outputs": [],
      "source": [
        "# CodeGrade step2\n",
        "# P(A_issue) = 0.05, P(A_no) = 0.95\n",
        "# P(Var | A_issue) = 0.8, P(Var | A_no) = 0.1\n",
        "# P(A_issue | Var) = P(Var | A_issue) * P(A_issue) / P(Var) = 0.8 * 0.05 / P(Var)\n",
        "# P(Var) = P(Var | A_issue) * P(A_issue) + P(Var | A_no) * P(A_no) = 0.8 * 0.05 + 0.1 * 0.95 = 0.135\n",
        "# P(A_issue | Var) = 0.8 * 0.05 / 0.135 = 0.296\n",
        "prob_two = 0.296"
      ]
    },
    {
      "cell_type": "markdown",
      "metadata": {
        "id": "lDsPXhYy1F-g"
      },
      "source": [
        "### Scenario 3\n",
        "The quality team has implemented a new inspection system that takes two measurements of each bottle. From analyzing recent data:\n",
        "\n",
        "- 95% of truly underfilled bottles (<11.7 oz) are correctly identified as underfilled on the first measurement\n",
        "- 98% of properly filled bottles are correctly identified as proper on the first measurement\n",
        "- If a bottle fails the first measurement, it is measured again\n",
        "- 90% of truly underfilled bottles are identified correctly on the second measurement\n",
        "- 95% of properly filled bottles are identified correctly on the second measurement\n",
        "- 3% of all bottles are underfilled based on prior information\n",
        "\n",
        "If a bottle fails both measurements, what is the probability that it is actually underfilled? Treat each test as independent.\n",
        "\n",
        "This problem involves multiple conditional probabilities.\n",
        "\n",
        "Use Bayes' Theorem:\n",
        "\n",
        "P(Underfilled | Both Fail) = P(Both Fail | Underfilled) × P(Underfilled) / P(Both Fail)"
      ]
    },
    {
      "cell_type": "code",
      "execution_count": null,
      "metadata": {
        "id": "sZBafyPQ1F-g"
      },
      "outputs": [],
      "source": [
        "# CodeGrade step3\n",
        "# P(fail_1 | U) = 0.95, P(pass_1 | P) = 0.98, P(fail_1, | P) = 0.02\n",
        "# P(fail_2 | U) = 0.9, P(pass_2 | P) = 0.95, P(fail_2 | P) = 0.05\n",
        "# P(U) = 0.03, P(P) = 0.97P(U | fail_1 and fail_2) = P(fail_1 and fail_2 | U) * P(U) / P(fail_1 and fail_2)\n",
        "# P(fail_1 and fail_2 | U) = 0.95 * 0.9 = 0.855\n",
        "# P(fail_1 and fail_2 | P) = 0.02 * 0.05 = 0.001\n",
        "# P(fail_1 and fail_2) = p(fail_1 and fail_2 | U) * P(U) + P(fail_1 and fail_2 | P) * P(P) = 0.855 * 0.03 + 0.001 * 0.97 = 0.02662\n",
        "# P(U | fail_1 and fail_2) = 0.855 * 0.03 / 0.02662 = 0.9635\n",
        "\n",
        "prob_three = 0.9635"
      ]
    },
    {
      "cell_type": "markdown",
      "metadata": {
        "id": "302yECvh1F-g"
      },
      "source": [
        "## Data Analysis Setup"
      ]
    },
    {
      "cell_type": "markdown",
      "metadata": {
        "id": "l_ForKvx1F-g"
      },
      "source": [
        "### Load in the Data\n",
        "\n",
        "Load the bottle_fills.csv file using pandas."
      ]
    },
    {
      "cell_type": "code",
      "execution_count": null,
      "metadata": {
        "id": "f13mhNxF1F-g"
      },
      "outputs": [],
      "source": [
        "# CodeGrade step4\n",
        "# Your code to load the data\n",
        "# bottle_data = pd.read_csv('/bottle_fills.csv')\n",
        "# bottle_data.head()\n",
        "\n",
        "data_df = pd.read_csv('bottle_fills.csv')"
      ]
    },
    {
      "cell_type": "markdown",
      "metadata": {
        "id": "8j5Q8ETh1F-g"
      },
      "source": [
        "### Examine the data (basic statistics)\n",
        "\n",
        "Examine the dataset and create visualizations to understand the distribution."
      ]
    },
    {
      "cell_type": "code",
      "execution_count": null,
      "metadata": {
        "id": "uiWESOEE1F-h",
        "outputId": "fa0cded4-f987-4159-e7ca-a11491861c37",
        "colab": {
          "base_uri": "https://localhost:8080/",
          "height": 300
        }
      },
      "outputs": [
        {
          "output_type": "execute_result",
          "data": {
            "text/plain": [
              "       fill_amount\n",
              "count  1000.000000\n",
              "mean     12.027233\n",
              "std       0.108352\n",
              "min      11.611045\n",
              "25%      11.958052\n",
              "50%      12.028160\n",
              "75%      12.091863\n",
              "max      12.888700"
            ],
            "text/html": [
              "\n",
              "  <div id=\"df-14e3d64e-b1b8-4d31-a148-43a39332a8bb\" class=\"colab-df-container\">\n",
              "    <div>\n",
              "<style scoped>\n",
              "    .dataframe tbody tr th:only-of-type {\n",
              "        vertical-align: middle;\n",
              "    }\n",
              "\n",
              "    .dataframe tbody tr th {\n",
              "        vertical-align: top;\n",
              "    }\n",
              "\n",
              "    .dataframe thead th {\n",
              "        text-align: right;\n",
              "    }\n",
              "</style>\n",
              "<table border=\"1\" class=\"dataframe\">\n",
              "  <thead>\n",
              "    <tr style=\"text-align: right;\">\n",
              "      <th></th>\n",
              "      <th>fill_amount</th>\n",
              "    </tr>\n",
              "  </thead>\n",
              "  <tbody>\n",
              "    <tr>\n",
              "      <th>count</th>\n",
              "      <td>1000.000000</td>\n",
              "    </tr>\n",
              "    <tr>\n",
              "      <th>mean</th>\n",
              "      <td>12.027233</td>\n",
              "    </tr>\n",
              "    <tr>\n",
              "      <th>std</th>\n",
              "      <td>0.108352</td>\n",
              "    </tr>\n",
              "    <tr>\n",
              "      <th>min</th>\n",
              "      <td>11.611045</td>\n",
              "    </tr>\n",
              "    <tr>\n",
              "      <th>25%</th>\n",
              "      <td>11.958052</td>\n",
              "    </tr>\n",
              "    <tr>\n",
              "      <th>50%</th>\n",
              "      <td>12.028160</td>\n",
              "    </tr>\n",
              "    <tr>\n",
              "      <th>75%</th>\n",
              "      <td>12.091863</td>\n",
              "    </tr>\n",
              "    <tr>\n",
              "      <th>max</th>\n",
              "      <td>12.888700</td>\n",
              "    </tr>\n",
              "  </tbody>\n",
              "</table>\n",
              "</div>\n",
              "    <div class=\"colab-df-buttons\">\n",
              "\n",
              "  <div class=\"colab-df-container\">\n",
              "    <button class=\"colab-df-convert\" onclick=\"convertToInteractive('df-14e3d64e-b1b8-4d31-a148-43a39332a8bb')\"\n",
              "            title=\"Convert this dataframe to an interactive table.\"\n",
              "            style=\"display:none;\">\n",
              "\n",
              "  <svg xmlns=\"http://www.w3.org/2000/svg\" height=\"24px\" viewBox=\"0 -960 960 960\">\n",
              "    <path d=\"M120-120v-720h720v720H120Zm60-500h600v-160H180v160Zm220 220h160v-160H400v160Zm0 220h160v-160H400v160ZM180-400h160v-160H180v160Zm440 0h160v-160H620v160ZM180-180h160v-160H180v160Zm440 0h160v-160H620v160Z\"/>\n",
              "  </svg>\n",
              "    </button>\n",
              "\n",
              "  <style>\n",
              "    .colab-df-container {\n",
              "      display:flex;\n",
              "      gap: 12px;\n",
              "    }\n",
              "\n",
              "    .colab-df-convert {\n",
              "      background-color: #E8F0FE;\n",
              "      border: none;\n",
              "      border-radius: 50%;\n",
              "      cursor: pointer;\n",
              "      display: none;\n",
              "      fill: #1967D2;\n",
              "      height: 32px;\n",
              "      padding: 0 0 0 0;\n",
              "      width: 32px;\n",
              "    }\n",
              "\n",
              "    .colab-df-convert:hover {\n",
              "      background-color: #E2EBFA;\n",
              "      box-shadow: 0px 1px 2px rgba(60, 64, 67, 0.3), 0px 1px 3px 1px rgba(60, 64, 67, 0.15);\n",
              "      fill: #174EA6;\n",
              "    }\n",
              "\n",
              "    .colab-df-buttons div {\n",
              "      margin-bottom: 4px;\n",
              "    }\n",
              "\n",
              "    [theme=dark] .colab-df-convert {\n",
              "      background-color: #3B4455;\n",
              "      fill: #D2E3FC;\n",
              "    }\n",
              "\n",
              "    [theme=dark] .colab-df-convert:hover {\n",
              "      background-color: #434B5C;\n",
              "      box-shadow: 0px 1px 3px 1px rgba(0, 0, 0, 0.15);\n",
              "      filter: drop-shadow(0px 1px 2px rgba(0, 0, 0, 0.3));\n",
              "      fill: #FFFFFF;\n",
              "    }\n",
              "  </style>\n",
              "\n",
              "    <script>\n",
              "      const buttonEl =\n",
              "        document.querySelector('#df-14e3d64e-b1b8-4d31-a148-43a39332a8bb button.colab-df-convert');\n",
              "      buttonEl.style.display =\n",
              "        google.colab.kernel.accessAllowed ? 'block' : 'none';\n",
              "\n",
              "      async function convertToInteractive(key) {\n",
              "        const element = document.querySelector('#df-14e3d64e-b1b8-4d31-a148-43a39332a8bb');\n",
              "        const dataTable =\n",
              "          await google.colab.kernel.invokeFunction('convertToInteractive',\n",
              "                                                    [key], {});\n",
              "        if (!dataTable) return;\n",
              "\n",
              "        const docLinkHtml = 'Like what you see? Visit the ' +\n",
              "          '<a target=\"_blank\" href=https://colab.research.google.com/notebooks/data_table.ipynb>data table notebook</a>'\n",
              "          + ' to learn more about interactive tables.';\n",
              "        element.innerHTML = '';\n",
              "        dataTable['output_type'] = 'display_data';\n",
              "        await google.colab.output.renderOutput(dataTable, element);\n",
              "        const docLink = document.createElement('div');\n",
              "        docLink.innerHTML = docLinkHtml;\n",
              "        element.appendChild(docLink);\n",
              "      }\n",
              "    </script>\n",
              "  </div>\n",
              "\n",
              "\n",
              "    <div id=\"df-a5dcd3bd-db0e-4a93-96c8-0d6ff2a46f50\">\n",
              "      <button class=\"colab-df-quickchart\" onclick=\"quickchart('df-a5dcd3bd-db0e-4a93-96c8-0d6ff2a46f50')\"\n",
              "                title=\"Suggest charts\"\n",
              "                style=\"display:none;\">\n",
              "\n",
              "<svg xmlns=\"http://www.w3.org/2000/svg\" height=\"24px\"viewBox=\"0 0 24 24\"\n",
              "     width=\"24px\">\n",
              "    <g>\n",
              "        <path d=\"M19 3H5c-1.1 0-2 .9-2 2v14c0 1.1.9 2 2 2h14c1.1 0 2-.9 2-2V5c0-1.1-.9-2-2-2zM9 17H7v-7h2v7zm4 0h-2V7h2v10zm4 0h-2v-4h2v4z\"/>\n",
              "    </g>\n",
              "</svg>\n",
              "      </button>\n",
              "\n",
              "<style>\n",
              "  .colab-df-quickchart {\n",
              "      --bg-color: #E8F0FE;\n",
              "      --fill-color: #1967D2;\n",
              "      --hover-bg-color: #E2EBFA;\n",
              "      --hover-fill-color: #174EA6;\n",
              "      --disabled-fill-color: #AAA;\n",
              "      --disabled-bg-color: #DDD;\n",
              "  }\n",
              "\n",
              "  [theme=dark] .colab-df-quickchart {\n",
              "      --bg-color: #3B4455;\n",
              "      --fill-color: #D2E3FC;\n",
              "      --hover-bg-color: #434B5C;\n",
              "      --hover-fill-color: #FFFFFF;\n",
              "      --disabled-bg-color: #3B4455;\n",
              "      --disabled-fill-color: #666;\n",
              "  }\n",
              "\n",
              "  .colab-df-quickchart {\n",
              "    background-color: var(--bg-color);\n",
              "    border: none;\n",
              "    border-radius: 50%;\n",
              "    cursor: pointer;\n",
              "    display: none;\n",
              "    fill: var(--fill-color);\n",
              "    height: 32px;\n",
              "    padding: 0;\n",
              "    width: 32px;\n",
              "  }\n",
              "\n",
              "  .colab-df-quickchart:hover {\n",
              "    background-color: var(--hover-bg-color);\n",
              "    box-shadow: 0 1px 2px rgba(60, 64, 67, 0.3), 0 1px 3px 1px rgba(60, 64, 67, 0.15);\n",
              "    fill: var(--button-hover-fill-color);\n",
              "  }\n",
              "\n",
              "  .colab-df-quickchart-complete:disabled,\n",
              "  .colab-df-quickchart-complete:disabled:hover {\n",
              "    background-color: var(--disabled-bg-color);\n",
              "    fill: var(--disabled-fill-color);\n",
              "    box-shadow: none;\n",
              "  }\n",
              "\n",
              "  .colab-df-spinner {\n",
              "    border: 2px solid var(--fill-color);\n",
              "    border-color: transparent;\n",
              "    border-bottom-color: var(--fill-color);\n",
              "    animation:\n",
              "      spin 1s steps(1) infinite;\n",
              "  }\n",
              "\n",
              "  @keyframes spin {\n",
              "    0% {\n",
              "      border-color: transparent;\n",
              "      border-bottom-color: var(--fill-color);\n",
              "      border-left-color: var(--fill-color);\n",
              "    }\n",
              "    20% {\n",
              "      border-color: transparent;\n",
              "      border-left-color: var(--fill-color);\n",
              "      border-top-color: var(--fill-color);\n",
              "    }\n",
              "    30% {\n",
              "      border-color: transparent;\n",
              "      border-left-color: var(--fill-color);\n",
              "      border-top-color: var(--fill-color);\n",
              "      border-right-color: var(--fill-color);\n",
              "    }\n",
              "    40% {\n",
              "      border-color: transparent;\n",
              "      border-right-color: var(--fill-color);\n",
              "      border-top-color: var(--fill-color);\n",
              "    }\n",
              "    60% {\n",
              "      border-color: transparent;\n",
              "      border-right-color: var(--fill-color);\n",
              "    }\n",
              "    80% {\n",
              "      border-color: transparent;\n",
              "      border-right-color: var(--fill-color);\n",
              "      border-bottom-color: var(--fill-color);\n",
              "    }\n",
              "    90% {\n",
              "      border-color: transparent;\n",
              "      border-bottom-color: var(--fill-color);\n",
              "    }\n",
              "  }\n",
              "</style>\n",
              "\n",
              "      <script>\n",
              "        async function quickchart(key) {\n",
              "          const quickchartButtonEl =\n",
              "            document.querySelector('#' + key + ' button');\n",
              "          quickchartButtonEl.disabled = true;  // To prevent multiple clicks.\n",
              "          quickchartButtonEl.classList.add('colab-df-spinner');\n",
              "          try {\n",
              "            const charts = await google.colab.kernel.invokeFunction(\n",
              "                'suggestCharts', [key], {});\n",
              "          } catch (error) {\n",
              "            console.error('Error during call to suggestCharts:', error);\n",
              "          }\n",
              "          quickchartButtonEl.classList.remove('colab-df-spinner');\n",
              "          quickchartButtonEl.classList.add('colab-df-quickchart-complete');\n",
              "        }\n",
              "        (() => {\n",
              "          let quickchartButtonEl =\n",
              "            document.querySelector('#df-a5dcd3bd-db0e-4a93-96c8-0d6ff2a46f50 button');\n",
              "          quickchartButtonEl.style.display =\n",
              "            google.colab.kernel.accessAllowed ? 'block' : 'none';\n",
              "        })();\n",
              "      </script>\n",
              "    </div>\n",
              "\n",
              "  <div id=\"id_ce188783-ec93-4b31-8eae-6103dad0795d\">\n",
              "    <style>\n",
              "      .colab-df-generate {\n",
              "        background-color: #E8F0FE;\n",
              "        border: none;\n",
              "        border-radius: 50%;\n",
              "        cursor: pointer;\n",
              "        display: none;\n",
              "        fill: #1967D2;\n",
              "        height: 32px;\n",
              "        padding: 0 0 0 0;\n",
              "        width: 32px;\n",
              "      }\n",
              "\n",
              "      .colab-df-generate:hover {\n",
              "        background-color: #E2EBFA;\n",
              "        box-shadow: 0px 1px 2px rgba(60, 64, 67, 0.3), 0px 1px 3px 1px rgba(60, 64, 67, 0.15);\n",
              "        fill: #174EA6;\n",
              "      }\n",
              "\n",
              "      [theme=dark] .colab-df-generate {\n",
              "        background-color: #3B4455;\n",
              "        fill: #D2E3FC;\n",
              "      }\n",
              "\n",
              "      [theme=dark] .colab-df-generate:hover {\n",
              "        background-color: #434B5C;\n",
              "        box-shadow: 0px 1px 3px 1px rgba(0, 0, 0, 0.15);\n",
              "        filter: drop-shadow(0px 1px 2px rgba(0, 0, 0, 0.3));\n",
              "        fill: #FFFFFF;\n",
              "      }\n",
              "    </style>\n",
              "    <button class=\"colab-df-generate\" onclick=\"generateWithVariable('basic_stats_describe')\"\n",
              "            title=\"Generate code using this dataframe.\"\n",
              "            style=\"display:none;\">\n",
              "\n",
              "  <svg xmlns=\"http://www.w3.org/2000/svg\" height=\"24px\"viewBox=\"0 0 24 24\"\n",
              "       width=\"24px\">\n",
              "    <path d=\"M7,19H8.4L18.45,9,17,7.55,7,17.6ZM5,21V16.75L18.45,3.32a2,2,0,0,1,2.83,0l1.4,1.43a1.91,1.91,0,0,1,.58,1.4,1.91,1.91,0,0,1-.58,1.4L9.25,21ZM18.45,9,17,7.55Zm-12,3A5.31,5.31,0,0,0,4.9,8.1,5.31,5.31,0,0,0,1,6.5,5.31,5.31,0,0,0,4.9,4.9,5.31,5.31,0,0,0,6.5,1,5.31,5.31,0,0,0,8.1,4.9,5.31,5.31,0,0,0,12,6.5,5.46,5.46,0,0,0,6.5,12Z\"/>\n",
              "  </svg>\n",
              "    </button>\n",
              "    <script>\n",
              "      (() => {\n",
              "      const buttonEl =\n",
              "        document.querySelector('#id_ce188783-ec93-4b31-8eae-6103dad0795d button.colab-df-generate');\n",
              "      buttonEl.style.display =\n",
              "        google.colab.kernel.accessAllowed ? 'block' : 'none';\n",
              "\n",
              "      buttonEl.onclick = () => {\n",
              "        google.colab.notebook.generateWithVariable('basic_stats_describe');\n",
              "      }\n",
              "      })();\n",
              "    </script>\n",
              "  </div>\n",
              "\n",
              "    </div>\n",
              "  </div>\n"
            ],
            "application/vnd.google.colaboratory.intrinsic+json": {
              "type": "dataframe",
              "variable_name": "basic_stats_describe",
              "summary": "{\n  \"name\": \"basic_stats_describe\",\n  \"rows\": 8,\n  \"fields\": [\n    {\n      \"column\": \"fill_amount\",\n      \"properties\": {\n        \"dtype\": \"number\",\n        \"std\": 349.9061567701672,\n        \"min\": 0.1083520719201837,\n        \"max\": 1000.0,\n        \"num_unique_values\": 8,\n        \"samples\": [\n          12.02723333476538,\n          12.028159532543231,\n          1000.0\n        ],\n        \"semantic_type\": \"\",\n        \"description\": \"\"\n      }\n    }\n  ]\n}"
            }
          },
          "metadata": {},
          "execution_count": 9
        }
      ],
      "source": [
        "# CodeGrade step5\n",
        "# Quick and dirty look using pandas to get summary statistics\n",
        "basic_stats_describe = data_df.describe()\n",
        "basic_stats_describe"
      ]
    },
    {
      "cell_type": "code",
      "execution_count": null,
      "metadata": {
        "id": "hlW-I8M21F-h",
        "outputId": "25b68518-4a35-4c56-b769-221eb5c79ca9",
        "colab": {
          "base_uri": "https://localhost:8080/",
          "height": 564
        }
      },
      "outputs": [
        {
          "output_type": "display_data",
          "data": {
            "text/plain": [
              "<Figure size 1000x600 with 1 Axes>"
            ],
            "image/png": "[encoded data removed]"
          },
          "metadata": {}
        }
      ],
      "source": [
        "# CodeGrade step6\n",
        "# Create a histogram with normal curve overlay\n",
        "bins = 'auto'\n",
        "data = data_df['fill_amount']\n",
        "\n",
        "# Create histogram using plt.hist()\n",
        "plt.figure(figsize=(10, 6))\n",
        "histogram_answer = plt.hist(data, bins=30, density=True, alpha = 0.7)\n",
        "\n",
        "# Calculate parameters for normal distribution overlay (use data variable or basic_stats_describe object)\n",
        "mean = round(np.mean(data), 2)\n",
        "std = round(np.std(data), 2)\n",
        "\n",
        "# Add normal curve overlay using plt.plot()\n",
        "x = np.linspace(min(data), max(data), 100)\n",
        "p = stats.norm.pdf(x, np.mean(data), np.std(data))\n",
        "normal_overlay_answer = plt.plot(x, p, 'k', linewidth=2)\n",
        "\n",
        "# Display visual\n",
        "plt.title('Distribution of Bottle Fill Amounts')\n",
        "plt.xlabel('Fill Amount (oz)')\n",
        "plt.ylabel('Frequency')\n",
        "plt.grid(True, alpha=0.3)\n",
        "plt.show()"
      ]
    },
    {
      "cell_type": "markdown",
      "metadata": {
        "id": "GY7Hgow11F-h"
      },
      "source": [
        "### Verify Empirical Rule Application\n",
        "Now let's verify if our data follows a normal distribution using the Empirical Rule."
      ]
    },
    {
      "cell_type": "code",
      "execution_count": null,
      "metadata": {
        "id": "83qtUs3C1F-h"
      },
      "outputs": [],
      "source": [
        "# CodeGrade step7\n",
        "data = data_df['fill_amount']\n",
        "mean = np.mean(data)\n",
        "std = np.std(data)\n",
        "\n",
        "# Calculate percentage of data within 1, 2, and 3 standard deviations\n",
        "one_sd = np.mean(np.abs(data - mean) < std)\n",
        "two_sd = np.mean(np.abs(data - mean) < 2 * std)\n",
        "three_sd = np.mean(np.abs(data - mean) < 3 * std)"
      ]
    },
    {
      "cell_type": "code",
      "execution_count": null,
      "metadata": {
        "id": "uYB5Rhz81F-h",
        "outputId": "09c88a84-b497-4d3a-98e9-27acdc058eef",
        "colab": {
          "base_uri": "https://localhost:8080/"
        }
      },
      "outputs": [
        {
          "output_type": "stream",
          "name": "stdout",
          "text": [
            "0.712 0.965 0.992\n"
          ]
        }
      ],
      "source": [
        "# Run this cell without changes to verify\n",
        "print(one_sd, two_sd, three_sd)"
      ]
    },
    {
      "cell_type": "markdown",
      "metadata": {
        "id": "9q7BqySp1F-h"
      },
      "source": [
        "While this isn't perfectly normal according to the empirical rule (no real world data is), based on our histogram above and these calculations our data is 'normal enough' to continue."
      ]
    },
    {
      "cell_type": "markdown",
      "metadata": {
        "id": "O3PTz1PK1F-h"
      },
      "source": [
        "## Quality Control Analysis\n",
        "\n",
        "Calculate probabilities of underfilling and overfilling based on specifications.\n",
        "\n",
        "Key considerations:\n",
        "- Customers notice when bottles are underfilled by more than 0.3 ounces\n",
        "- Overfilling by more than 0.2 ounces impacts company profits\n",
        "- You need to analyze fill amounts, verify normal distribution, and compare fills to expected rejections\n",
        "\n",
        "### Probability of Underfilling"
      ]
    },
    {
      "cell_type": "code",
      "execution_count": null,
      "metadata": {
        "id": "0BAw1BL61F-h",
        "outputId": "7be765a4-9f3a-4c17-df78-df576e128ab3",
        "colab": {
          "base_uri": "https://localhost:8080/"
        }
      },
      "outputs": [
        {
          "output_type": "stream",
          "name": "stdout",
          "text": [
            "-3.0216041875857043\n",
            "0.1257195468529117\n"
          ]
        }
      ],
      "source": [
        "# CodeGrade step8\n",
        "# Target fill amount is 12 oz\n",
        "data = data_df['fill_amount']\n",
        "mean = np.mean(data)\n",
        "std = np.std(data)\n",
        "\n",
        "# Calculate probability of underfilling (< 11.7 oz)\n",
        "z_score_under = (11.7 - mean) / std\n",
        "print(z_score_under)\n",
        "# Use normal distribution to calculate probability (times by 100 for percentage numbers)\n",
        "underfill_prob = stats.norm.cdf(z_score_under) * 100\n",
        "print(underfill_prob)\n"
      ]
    },
    {
      "cell_type": "markdown",
      "metadata": {
        "id": "UVm1V72Q1F-h"
      },
      "source": [
        "### Probability of Overfilling"
      ]
    },
    {
      "cell_type": "code",
      "execution_count": null,
      "metadata": {
        "id": "lh8WNDha1F-h",
        "outputId": "9edc381e-1ae5-46c9-ca03-470d3e70885d",
        "colab": {
          "base_uri": "https://localhost:8080/"
        }
      },
      "outputs": [
        {
          "output_type": "stream",
          "name": "stdout",
          "text": [
            "1.5952912606609182\n",
            "5.532355949611956\n"
          ]
        }
      ],
      "source": [
        "# CodeGrade step9\n",
        "# Target fill amount is 12 oz\n",
        "data = data_df['fill_amount']\n",
        "mean = np.mean(data)\n",
        "std = np.std(data)\n",
        "\n",
        "# Calculate probability of overfilling (> 12.2 oz)\n",
        "z_score_over = (12.2 - mean) / std\n",
        "print(z_score_over)\n",
        "\n",
        "# Use normal distribution to calculate probability (times by 100 for percentage numbers)\n",
        "overfill_prob = (1 - stats.norm.cdf(z_score_over) ) * 100\n",
        "print(overfill_prob)"
      ]
    },
    {
      "cell_type": "markdown",
      "metadata": {
        "id": "NJrX4VrM1F-h"
      },
      "source": [
        "### Acceptable Limits"
      ]
    },
    {
      "cell_type": "code",
      "execution_count": null,
      "metadata": {
        "id": "DaX5-3Rw1F-h",
        "outputId": "55ba36a6-6508-4121-88ef-f905f2d69920",
        "colab": {
          "base_uri": "https://localhost:8080/"
        }
      },
      "outputs": [
        {
          "output_type": "stream",
          "name": "stdout",
          "text": [
            "94.34192450353514\n"
          ]
        }
      ],
      "source": [
        "# CodeGrade step10\n",
        "data = data_df['fill_amount']\n",
        "mean = np.mean(data)\n",
        "std = np.std(data)\n",
        "\n",
        "  # if lower_limit is not None and upper_limit is not None:\n",
        "  #   out_of_spec = prob_under + prob_over\n",
        "  #   results['out_of_spec'] = out_of_spec\n",
        "  #   results['passes'] = out_of_spec <= reject_threshold\n",
        "\n",
        "# Calculate percentage of bottles within acceptable limits\n",
        "acceptable_percentage = 100 - underfill_prob - overfill_prob\n",
        "print(acceptable_percentage )"
      ]
    },
    {
      "cell_type": "markdown",
      "metadata": {
        "id": "tQJZQJMP1F-h"
      },
      "source": [
        "## Recommendations\n",
        "\n",
        "### Total Rejection Rate\n",
        "Does the current process meets the 5% rejection expectation?\n",
        "\n"
      ]
    },
    {
      "cell_type": "code",
      "execution_count": null,
      "metadata": {
        "id": "_qM2UJIx1F-h",
        "outputId": "8ee11957-3591-4e8a-c57d-9e92b7aa98f7",
        "colab": {
          "base_uri": "https://localhost:8080/"
        }
      },
      "outputs": [
        {
          "output_type": "stream",
          "name": "stdout",
          "text": [
            "5.6580754964648605\n"
          ]
        },
        {
          "output_type": "execute_result",
          "data": {
            "text/plain": [
              "np.False_"
            ]
          },
          "metadata": {},
          "execution_count": 16
        }
      ],
      "source": [
        "# CodeGrade step11\n",
        "excepted_rate = 5\n",
        "\n",
        "# Rate of not accectable fills (can use answers above to calculate)\n",
        "total_rejection_rate = 100 - acceptable_percentage\n",
        "print(total_rejection_rate)\n",
        "\n",
        "met_expectations = excepted_rate > total_rejection_rate\n",
        "met_expectations\n",
        "\n",
        "# The current process does not meet the 5% rejection expectation"
      ]
    },
    {
      "cell_type": "markdown",
      "metadata": {
        "id": "wFV-sZjb1F-h"
      },
      "source": [
        "## Submission Instructions\n",
        "\n",
        "1. Make sure all variable initially assigned as 'None' have been filled in with appropriate code or values\n",
        "2. Run all cells to verify your code works without errors\n",
        "3. Save and submit your completed notebook to CG via the canvas assignment page"
      ]
    }
  ],
  "metadata": {
    "kernelspec": {
      "display_name": "test-env01",
      "language": "python",
      "name": "python3"
    },
    "language_info": {
      "codemirror_mode": {
        "name": "ipython",
        "version": 3
      },
      "file_extension": ".py",
      "mimetype": "text/x-python",
      "name": "python",
      "nbconvert_exporter": "python",
      "pygments_lexer": "ipython3",
      "version": "3.12.4"
    },
    "colab": {
      "provenance": []
    }
  },
  "nbformat": 4,
  "nbformat_minor": 0
}