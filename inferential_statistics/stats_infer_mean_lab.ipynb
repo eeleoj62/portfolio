{
  "cells": [
    {
      "cell_type": "markdown",
      "metadata": {
        "id": "T9tJm085rGPe"
      },
      "source": [
        "# Statistical Inference for Means Lab\n",
        "\n",
        "## Coral Genotype Growth Analysis\n",
        "\n",
        "As a research assistant at a marine biology research center, you're helping analyze data from a coral restoration project. The center has been growing different genotypes of staghorn coral (Acropora cervicornis) in their nursery to determine which genetic strains show the best growth potential for reef restoration.\n",
        "\n",
        "The research team has collected growth data (measured in centimeters of linear extension) over 1 year for 6 different coral genotypes. Initial fragments sizes were within .05cm of each other and only single tip fragments were used. Within the nursery 10 fragments from each genotype were placed on each growout tree (60 fragments total) for a total of 50 trees. This was done to try and control for any variation within the nursery setting.\n",
        "\n",
        "Your task is to determine if there are significant differences in growth rates between these genotypes, which will help inform which strains should be prioritized for future restoration efforts.\n",
        "\n",
        "## Data Overview\n",
        "\n",
        "Data File: coral_growth.csv\n",
        "\n",
        "Contains columns:\n",
        "- Genotype (G1, G2, G3, G4, G5, G6)\n",
        "- Growth_cm (linear extension in centimeters)\n",
        "\n",
        "First, let's import the libraries we'll need for our analysis:\n",
        "\n"
      ]
    },
    {
      "cell_type": "code",
      "execution_count": 1,
      "metadata": {
        "id": "iL_aMPlIrGPf"
      },
      "outputs": [],
      "source": [
        "# CodeGrade step0\n",
        "# Run this cell without changes\n",
        "import numpy as np\n",
        "import pandas as pd\n",
        "import matplotlib.pyplot as plt\n",
        "import seaborn as sns\n",
        "from scipy import stats"
      ]
    },
    {
      "cell_type": "markdown",
      "metadata": {
        "id": "5GNuvYGlrGPf"
      },
      "source": [
        "### Step 1: Define Research Questions/Hypothesis\n",
        "\n",
        "Defined below are several sets of null and alternative hypothesis based around the business problem presented in this lab. Which option given would be the best choice for this scenario and research question? Assign the letter as a string variable in the cell below.\n",
        "\n",
        "Option A:\n",
        "- Null Hypothesis (H₀): There are no differences in mean growth rates between any of the coral genotypes.\n",
        "μ₁ = μ₂ = μ₃ = μ₄ = μ₅ = μ₆\n",
        "- Alternative Hypothesis (H₁): At least two coral genotypes have different mean growth rates.\n",
        "At least one μᵢ ≠ μⱼ (where i and j are different genotypes)\n",
        "\n",
        "Option B:\n",
        "- Null Hypothesis (H₀): Genotype 1 grows faster than all other genotypes.\n",
        "μ₁ > μ₂, μ₃, μ₄, μ₅, μ₆\n",
        "- Alternative Hypothesis (H₁): At least one genotype grows faster than Genotype 1.\n",
        "At least one μᵢ > μ₁\n",
        "\n",
        "Option C:\n",
        "- Null Hypothesis (H₀): The coral genotypes will show similar growth patterns in the nursery.\n",
        "- Alternative Hypothesis (H₁): The coral genotypes will show different growth patterns in the nursery.\n",
        "\n",
        "Option D:\n",
        "- Null Hypothesis (H₀): μG1 ≠ μG2 ≠ μG3 ≠ μG4 ≠ μG5 ≠ μG6\n",
        "- Alternative Hypothesis (H₁): All genotypes have the same growth rate."
      ]
    },
    {
      "cell_type": "code",
      "execution_count": 2,
      "metadata": {
        "id": "ylmw8jnIrGPf"
      },
      "outputs": [],
      "source": [
        "# CodeGrade step1\n",
        "# Assign the variable letter \"A\", \"B\", \"C\", or \"D\"\n",
        "hypothesis_choice = 'A'"
      ]
    },
    {
      "cell_type": "markdown",
      "metadata": {
        "id": "wuicPze3rGPf"
      },
      "source": [
        "### Step 2: Data Exploration\n",
        "\n",
        "First, let's examine our data to understand the distribution of growth rates across genotypes. We have provided the code to load in the data for you but you are being asked to fill the code for rapid EDA."
      ]
    },
    {
      "cell_type": "code",
      "execution_count": 3,
      "metadata": {
        "id": "nBnUC02WrGPg"
      },
      "outputs": [],
      "source": [
        "# CodeGrade step0\n",
        "# Run this cell without changes to load in data\n",
        "# You will need to have downloaded the provided data file and placed it the same location as the notebook\n",
        "df = pd.read_csv('coral_growth.csv')"
      ]
    },
    {
      "cell_type": "code",
      "execution_count": 4,
      "metadata": {
        "id": "wwj-V693rGPg"
      },
      "outputs": [],
      "source": [
        "# CodeGrade step2\n",
        "# Use df.groupby() with agg() to calculate mean, std, count for each genotype\n",
        "summary_stats = df.groupby('Genotype')['Growth_cm'].agg(['mean', 'std', 'count'])"
      ]
    },
    {
      "cell_type": "code",
      "execution_count": 5,
      "metadata": {
        "colab": {
          "base_uri": "https://localhost:8080/"
        },
        "id": "_1nxrA-orGPg",
        "outputId": "ea2ca249-bd81-45b0-b889-fcaa9bb5a77e"
      },
      "outputs": [
        {
          "output_type": "stream",
          "name": "stdout",
          "text": [
            "Summary Statistics by Genotype:\n",
            "              mean       std  count\n",
            "Genotype                           \n",
            "G1        2.502735  0.392501    500\n",
            "G2        2.712730  0.391199    500\n",
            "G3        3.043394  0.404099    500\n",
            "G4        2.913275  0.393626    500\n",
            "G5        2.395393  0.383826    500\n",
            "G6        3.209274  0.402975    500\n"
          ]
        }
      ],
      "source": [
        "# Run this cell without changes\n",
        "print(\"Summary Statistics by Genotype:\")\n",
        "print(summary_stats)"
      ]
    },
    {
      "cell_type": "markdown",
      "metadata": {
        "id": "QDSEdrMBrGPg"
      },
      "source": [
        "### Step 3: Data Visualization - Boxplot\n",
        "\n",
        "Let's create a box plot to visualize the distribution of growth rates. Provide the following exact labels for your plot:\n",
        "- y-axis: Growth (cm)\n",
        "- x-axis: Coral Genotype\n",
        "- title: Growth Rates by Coral Genotype"
      ]
    },
    {
      "cell_type": "code",
      "execution_count": 7,
      "metadata": {
        "colab": {
          "base_uri": "https://localhost:8080/",
          "height": 472
        },
        "id": "-NLJRdv2rGPg",
        "outputId": "05badca9-9aae-4421-d9d3-a636e16f8294"
      },
      "outputs": [
        {
          "output_type": "display_data",
          "data": {
            "text/plain": [
              "<Figure size 640x480 with 1 Axes>"
            ],
            "image/png": "[encoded data removed]"
          },
          "metadata": {}
        }
      ],
      "source": [
        "# CodeGrade step3\n",
        "# Create a boxplot using seaborn\n",
        "boxplot_answer = sns.boxplot(data=df, x='Genotype', y='Growth_cm')\n",
        "\n",
        "# Provide appropriate labels\n",
        "plt.title('Growth Rates by Coral Genotype')\n",
        "plt.xlabel('Coral Genotype')\n",
        "plt.ylabel('Growth (cm)')\n",
        "plt.show()"
      ]
    },
    {
      "cell_type": "markdown",
      "metadata": {
        "id": "HVBIhhHvrGPg"
      },
      "source": [
        "### Step 4: Check Assumptions\n",
        "\n",
        "Need to verify our data meets ANOVA's requirements.\n",
        "- Group data is normal: Scipy documentation for [Shapiro-Wilk Test](https://docs.scipy.org/doc/scipy/reference/generated/scipy.stats.shapiro.html#scipy.stats.shapiro)\n",
        "- Group data has similar variance: Scipy documentation for [Levene Test](https://docs.scipy.org/doc/scipy/reference/generated/scipy.stats.levene.html)"
      ]
    },
    {
      "cell_type": "code",
      "execution_count": 15,
      "metadata": {
        "id": "GRku_jxBrGPg"
      },
      "outputs": [],
      "source": [
        "# CodeGrade step4\n",
        "# Getting data for each group (should be a list of lists, or list of arrays)\n",
        "groups = df.groupby('Genotype')['Growth_cm']\n",
        "group_arrays = [group.values for _, group in groups]\n",
        "\n",
        "normality = {}\n",
        "# Loop through each genotype and save normality pvalue to dictionary\n",
        "for idx, genotype in enumerate(group_arrays):\n",
        "    stat, p_value = stats.shapiro(genotype)\n",
        "    normality[f\"Genotype {idx+1}\"] = p_value\n",
        "\n",
        "# Test homogeneity of variances\n",
        "stat, p_value_var = stats.levene(*group_arrays)"
      ]
    },
    {
      "cell_type": "code",
      "execution_count": 16,
      "metadata": {
        "colab": {
          "base_uri": "https://localhost:8080/"
        },
        "id": "ZwEfQm0brGPg",
        "outputId": "f4fef2e6-547f-4558-dd52-ea6655190706"
      },
      "outputs": [
        {
          "output_type": "stream",
          "name": "stdout",
          "text": [
            "Testing Normality for Each Genotype:\n",
            "{'Genotype 1': np.float64(0.40126905399330937), 'Genotype 2': np.float64(0.6757445730085936), 'Genotype 3': np.float64(0.5760081775714531), 'Genotype 4': np.float64(0.5762425580031849), 'Genotype 5': np.float64(0.9942109900815315), 'Genotype 6': np.float64(0.5492195298781957)}\n",
            "\n",
            "Levene's test for equal variances: p-value = 0.939\n"
          ]
        }
      ],
      "source": [
        "# Run this cell without changes to display result\n",
        "print(\"Testing Normality for Each Genotype:\")\n",
        "print(normality)\n",
        "print(f\"\\nLevene's test for equal variances: p-value = {p_value_var:.3f}\")"
      ]
    },
    {
      "cell_type": "markdown",
      "metadata": {
        "id": "k4oYtY1TrGPg"
      },
      "source": [
        "### Step 5: Perform the ANOVA\n",
        "\n",
        "Now you need to import and perform the one-way ANOVA. Use scipy.stats library for the ANOVA test.\n",
        "\n",
        "Scipy documentation for [f_oneway ANOVA Test]((https://docs.scipy.org/doc/scipy/reference/generated/scipy.stats.f_oneway.html))"
      ]
    },
    {
      "cell_type": "code",
      "execution_count": 24,
      "metadata": {
        "id": "jd-zeYs_rGPg"
      },
      "outputs": [],
      "source": [
        "# CodeGrade step5\n",
        "# Import test function\n",
        "from scipy.stats import f_oneway\n",
        "\n",
        "# Perform one-way ANOVA\n",
        "f_stat, anova_p = stats.f_oneway(*group_arrays)"
      ]
    },
    {
      "cell_type": "code",
      "execution_count": 25,
      "metadata": {
        "colab": {
          "base_uri": "https://localhost:8080/"
        },
        "id": "HO1XUYLBrGPg",
        "outputId": "52c3766c-dc3b-4fee-96a5-f3945d56849c"
      },
      "outputs": [
        {
          "output_type": "stream",
          "name": "stdout",
          "text": [
            "One-way ANOVA Results:\n",
            "F-statistic: 320.3121\n",
            "p-value: 0.0000\n"
          ]
        }
      ],
      "source": [
        "# Run this cell without changes to display results\n",
        "print(\"One-way ANOVA Results:\")\n",
        "print(f\"F-statistic: {f_stat:.4f}\")\n",
        "print(f\"p-value: {anova_p:.4f}\")"
      ]
    },
    {
      "cell_type": "markdown",
      "metadata": {
        "id": "EExSBSE4rGPg"
      },
      "source": [
        "### Step 6: Post-hoc Analysis\n",
        "\n",
        "Recall that the ANOVA is an Omnibus test, meaning that it cannot tell us where specific differences lie between each group. After performing the ANOVA and reciecing a significant result, you need to resort to a post-hoc test. Conduct a Tukey's HSD test to identify specific group differences.\n",
        "\n",
        "Scipy documentation for [tukey_hsd Test](https://docs.scipy.org/doc/scipy/reference/generated/scipy.stats.tukey_hsd.html)"
      ]
    },
    {
      "cell_type": "code",
      "execution_count": 31,
      "metadata": {
        "id": "ZACvDG-CrGPg"
      },
      "outputs": [],
      "source": [
        "# CodeGrade step6\n",
        "# Import the requires test function\n",
        "from scipy.stats import tukey_hsd\n",
        "\n",
        "# Perform Tukey's HSD test (you can use the 'groups' object)\n",
        "result_hsd = tukey_hsd(*group_arrays)"
      ]
    },
    {
      "cell_type": "code",
      "execution_count": 32,
      "metadata": {
        "colab": {
          "base_uri": "https://localhost:8080/"
        },
        "id": "9msNHUDRrGPg",
        "outputId": "6bebb1eb-9132-49af-eb5d-ad294f7d6e5e"
      },
      "outputs": [
        {
          "output_type": "stream",
          "name": "stdout",
          "text": [
            "Tukey's HSD Pairwise Group Comparisons (95.0% Confidence Interval)\n",
            "Comparison  Statistic  p-value  Lower CI  Upper CI\n",
            " (0 - 1)     -0.210     0.000    -0.281    -0.139\n",
            " (0 - 2)     -0.541     0.000    -0.612    -0.469\n",
            " (0 - 3)     -0.411     0.000    -0.482    -0.339\n",
            " (0 - 4)      0.107     0.000     0.036     0.179\n",
            " (0 - 5)     -0.707     0.000    -0.778    -0.635\n",
            " (1 - 0)      0.210     0.000     0.139     0.281\n",
            " (1 - 2)     -0.331     0.000    -0.402    -0.259\n",
            " (1 - 3)     -0.201     0.000    -0.272    -0.129\n",
            " (1 - 4)      0.317     0.000     0.246     0.389\n",
            " (1 - 5)     -0.497     0.000    -0.568    -0.425\n",
            " (2 - 0)      0.541     0.000     0.469     0.612\n",
            " (2 - 1)      0.331     0.000     0.259     0.402\n",
            " (2 - 3)      0.130     0.000     0.059     0.201\n",
            " (2 - 4)      0.648     0.000     0.577     0.719\n",
            " (2 - 5)     -0.166     0.000    -0.237    -0.095\n",
            " (3 - 0)      0.411     0.000     0.339     0.482\n",
            " (3 - 1)      0.201     0.000     0.129     0.272\n",
            " (3 - 2)     -0.130     0.000    -0.201    -0.059\n",
            " (3 - 4)      0.518     0.000     0.447     0.589\n",
            " (3 - 5)     -0.296     0.000    -0.367    -0.225\n",
            " (4 - 0)     -0.107     0.000    -0.179    -0.036\n",
            " (4 - 1)     -0.317     0.000    -0.389    -0.246\n",
            " (4 - 2)     -0.648     0.000    -0.719    -0.577\n",
            " (4 - 3)     -0.518     0.000    -0.589    -0.447\n",
            " (4 - 5)     -0.814     0.000    -0.885    -0.743\n",
            " (5 - 0)      0.707     0.000     0.635     0.778\n",
            " (5 - 1)      0.497     0.000     0.425     0.568\n",
            " (5 - 2)      0.166     0.000     0.095     0.237\n",
            " (5 - 3)      0.296     0.000     0.225     0.367\n",
            " (5 - 4)      0.814     0.000     0.743     0.885\n",
            "\n"
          ]
        }
      ],
      "source": [
        "# Run this cell without changes to display result\n",
        "print(result_hsd)"
      ]
    },
    {
      "cell_type": "markdown",
      "metadata": {
        "id": "ZvhDpq45rGPg"
      },
      "source": [
        "### Step 7: Effect Size Analysis\n",
        "In statistical analysis, we're not just interested in whether there are differences between groups (which we test with ANOVA), but also in how large these differences are. Effect size helps us understand the practical significance of our results. For our coral growth study, we'll use eta-squared (η²), which tells us what proportion of the total variance in growth rates can be explained by genotype differences.\n",
        "\n",
        "Calculate Eta-squared (η²)\n",
        "- η² = SS_between / SS_total\n",
        "\n",
        "Where:\n",
        "\n",
        "- SS_between is the sum of squares between groups\n",
        "- SS_total is the total sum of squares\n",
        "\n",
        "Calculate this step by step:"
      ]
    },
    {
      "cell_type": "code",
      "execution_count": 34,
      "metadata": {
        "colab": {
          "base_uri": "https://localhost:8080/"
        },
        "id": "CPKlQpQ9rGPg",
        "outputId": "c22c6d80-555a-4847-c0d1-9b9fa1c19bba"
      },
      "outputs": [
        {
          "output_type": "stream",
          "name": "stdout",
          "text": [
            "0.3485016592988379\n"
          ]
        }
      ],
      "source": [
        "# CodeGrade step7\n",
        "# First, calculate the grand mean and group means\n",
        "all_data = np.concatenate(group_arrays)\n",
        "grand_mean = np.mean(all_data)\n",
        "\n",
        "# Use groupby to get means for each as a pandas series (DO NOT use the same groupby object from above)\n",
        "genotype_means = df.groupby('Genotype')['Growth_cm'].mean()\n",
        "\n",
        "# Calculate SS_between (use more lines if needed)\n",
        "ss_between = sum(len(group) * (np.mean(group) - grand_mean)**2 for group in group_arrays)\n",
        "\n",
        "# Calculate SS_total\n",
        "ss_total = sum((x - grand_mean)**2 for x in all_data)\n",
        "\n",
        "# Calculate eta-squared\n",
        "eta_squared = ss_between / ss_total\n",
        "print(eta_squared)"
      ]
    },
    {
      "cell_type": "markdown",
      "metadata": {
        "id": "gKhHUeojrGPg"
      },
      "source": [
        "### Conclusion: Interpreting the Effect Size\n",
        "Now let's interpret our eta-squared value. Generally, for eta-squared:\n",
        "\n",
        "- Small effect: η² ≈ 0.01 (1% of variance explained)\n",
        "- Medium effect: η² ≈ 0.06 (6% of variance explained)\n",
        "- Large effect: η² ≈ 0.14 (14% of variance explained)"
      ]
    },
    {
      "cell_type": "code",
      "execution_count": 35,
      "metadata": {
        "colab": {
          "base_uri": "https://localhost:8080/"
        },
        "id": "xXZm_MeDrGPg",
        "outputId": "e759d54f-7d5f-4c51-a4d2-419c163cfb47"
      },
      "outputs": [
        {
          "output_type": "stream",
          "name": "stdout",
          "text": [
            "Grand mean: 2.7961336676836672\n",
            "\n",
            "Genotype means:\n",
            "Genotype\n",
            "G1    2.502735\n",
            "G2    2.712730\n",
            "G3    3.043394\n",
            "G4    2.913275\n",
            "G5    2.395393\n",
            "G6    3.209274\n",
            "Name: Growth_cm, dtype: float64\n",
            "\n",
            "Coral Growth Analysis Report\n",
            "\n",
            "1. Data Overview:\n",
            "Our analysis examined growth rates across six coral genotypes, with 500 samples total (50 trees × 10 fragments per genotype). \n",
            "Initial exploration showed varying growth patterns among genotypes, with mean growth rates ranging from [X] to [Y] cm.\n",
            "\n",
            "2. ANOVA Results:\n",
            "The one-way ANOVA revealed significant differences in growth rates among genotypes (F = 320.3121, p = 0.0000). \n",
            "The effect size (η² = 0.3485) indicates that approximately 34.9% of the variance in growth rates is explained by genotype differences.\n",
            "\n",
            "3. Post-hoc Analysis:\n",
            "Tukey's HSD test identified major significant pairwise differences across all genotpyes indicting a strong relationship and warranting further investigations into genotypic diversity\n",
            "\n",
            "4. Recommendations for Restoration Program:\n",
            "Based on our analysis:\n",
            "a) Genotype 6 showed the highest mean growth rate and consistent performance\n",
            "b) Genotypes 3 and 4 also performed well and could be considered as secondary options\n",
            "c) Genotype 5 showed the poorest performance and may not be suitable for large-scale restoration\n",
            "\n",
            "6. Future Considerations:\n",
            "- Consider running extended trials with top-performing genotypes\n",
            "- Monitor environmental variables that might interact with genotype performance\n",
            "- Investigate potential trade-offs between growth rate and other important characteristics (e.g., disease resistance)\n",
            "\n",
            "This analysis provides strong statistical evidence for prioritizing certain genotypes in future restoration efforts, while maintaining genetic diversity through the use of multiple well-performing strains.\n",
            "\n"
          ]
        }
      ],
      "source": [
        "# Run this cell without changes to display the report result\n",
        "analysis_report = f\"\"\"\n",
        "Coral Growth Analysis Report\n",
        "\n",
        "1. Data Overview:\n",
        "Our analysis examined growth rates across six coral genotypes, with 500 samples total (50 trees × 10 fragments per genotype).\n",
        "Initial exploration showed varying growth patterns among genotypes, with mean growth rates ranging from [X] to [Y] cm.\n",
        "\n",
        "2. ANOVA Results:\n",
        "The one-way ANOVA revealed significant differences in growth rates among genotypes (F = {f_stat:.4f}, p = {anova_p:.4f}).\n",
        "The effect size (η² = {eta_squared:.4f}) indicates that approximately {eta_squared*100:.1f}% of the variance in growth rates is explained by genotype differences.\n",
        "\n",
        "3. Post-hoc Analysis:\n",
        "Tukey's HSD test identified major significant pairwise differences across all genotpyes indicting a strong relationship and warranting further investigations into genotypic diversity\n",
        "\n",
        "4. Recommendations for Restoration Program:\n",
        "Based on our analysis:\n",
        "a) Genotype 6 showed the highest mean growth rate and consistent performance\n",
        "b) Genotypes 3 and 4 also performed well and could be considered as secondary options\n",
        "c) Genotype 5 showed the poorest performance and may not be suitable for large-scale restoration\n",
        "\n",
        "6. Future Considerations:\n",
        "- Consider running extended trials with top-performing genotypes\n",
        "- Monitor environmental variables that might interact with genotype performance\n",
        "- Investigate potential trade-offs between growth rate and other important characteristics (e.g., disease resistance)\n",
        "\n",
        "This analysis provides strong statistical evidence for prioritizing certain genotypes in future restoration efforts, while maintaining genetic diversity through the use of multiple well-performing strains.\n",
        "\"\"\"\n",
        "print(\"Grand mean:\", grand_mean)\n",
        "print(\"\\nGenotype means:\")\n",
        "print(genotype_means)\n",
        "print(analysis_report)"
      ]
    },
    {
      "cell_type": "code",
      "source": [],
      "metadata": {
        "id": "hCWMUbZQAcHx"
      },
      "execution_count": null,
      "outputs": []
    }
  ],
  "metadata": {
    "kernelspec": {
      "display_name": "Python (Cohort_Env)",
      "language": "python",
      "name": "cohort_env"
    },
    "language_info": {
      "codemirror_mode": {
        "name": "ipython",
        "version": 3
      },
      "file_extension": ".py",
      "mimetype": "text/x-python",
      "name": "python",
      "nbconvert_exporter": "python",
      "pygments_lexer": "ipython3",
      "version": "3.12.5"
    },
    "colab": {
      "provenance": []
    }
  },
  "nbformat": 4,
  "nbformat_minor": 0
}