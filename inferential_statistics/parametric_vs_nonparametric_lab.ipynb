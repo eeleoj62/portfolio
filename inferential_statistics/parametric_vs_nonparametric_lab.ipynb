{
  "cells": [
    {
      "cell_type": "markdown",
      "metadata": {
        "id": "ngA12-VoqbRW"
      },
      "source": [
        "# Parametric vs Non-Parametric Lab\n",
        "\n",
        "## Menu Change - Customer Satisfaction Analysis\n",
        "\n",
        "As a junior data analyst at a consumer research firm, you've been tasked with analyzing customer feedback data from a major restaurant chain's menu redesign initiative. The restaurant has implemented new menu items in select locations and needs to understand their impact.\n",
        "\n",
        "You'll be working with two key datasets:\n",
        "1. Customer satisfaction ratings (1-5 scale) before and after the menu change\n",
        "2. Customer return visit data comparing locations with and without the new menu\n",
        "\n",
        "Using our four-step process, you'll need to determine whether the menu changes have made a significant impact on customer satisfaction and return rates, at an alpha of 0.05.\n",
        "- Assessment\n",
        "- Selection\n",
        "- Implementation\n",
        "- Interpretation\n",
        "\n",
        "## Data Overview\n",
        "\n",
        "Data Files: ratings.csv & return_visits.csv\n",
        "\n",
        "Ratings Columns:\n",
        "- customer_id: unique identifier\n",
        "- before: rating before change\n",
        "- after: rating after change\n",
        "\n",
        "Return Visits Columns:\n",
        "- customer_id: unique identifier\n",
        "- location: New Menu or Old Menu\n",
        "- returned: binary - if customer returned\n",
        "\n",
        "\n",
        "First, let's import the libraries you'll need for our analysis and also load in the data\n"
      ]
    },
    {
      "cell_type": "code",
      "execution_count": 1,
      "metadata": {
        "id": "5upOVBAoqbRX"
      },
      "outputs": [],
      "source": [
        "# CodeGrade step0\n",
        "# Import Required Libraries\n",
        "import numpy as np\n",
        "import pandas as pd\n",
        "from scipy import stats\n",
        "import matplotlib.pyplot as plt\n",
        "import seaborn as sns\n",
        "\n",
        "# Load in both datasets - you will need to have downloaded provided files and placed in same location\n",
        "df_ratings = pd.read_csv('ratings.csv')\n",
        "df_return = pd.read_csv('return_visits.csv')"
      ]
    },
    {
      "cell_type": "markdown",
      "metadata": {
        "id": "bmeq3ZnYqbRY"
      },
      "source": [
        "### Part 1: Assessment Phase\n",
        "\n",
        "The Assessment Phase is crucial for understanding your data before jumping into analysis. Think of it as getting to know\n",
        "your data's personality. During this phase, you'll:\n",
        "- Examine how your data is distributed (Are satisfaction scores clustered around certain values?)\n",
        "- Check your sample sizes (Do you have enough data to make reliable conclusions?)\n",
        "- Look for unusual patterns or outliers (Are there any suspicious ratings that might skew your results?)\n",
        "- Create visualizations to better understand your data\n",
        "- Check data against your assumptions\n",
        "\n",
        "This foundational work will help you make informed decisions about which statistical tests to use later.\n",
        "\n",
        "### Ratings Data"
      ]
    },
    {
      "cell_type": "code",
      "execution_count": 2,
      "metadata": {
        "id": "ejE3OlJJqbRZ"
      },
      "outputs": [],
      "source": [
        "# CodeGrade step1\n",
        "# Describe the basic stats of the ratings data\n",
        "ratings_describe = df_ratings.describe()\n",
        "sample_size_ratings = df_ratings.shape[0]"
      ]
    },
    {
      "cell_type": "code",
      "execution_count": 3,
      "metadata": {
        "id": "4e74ebRIqbRZ",
        "colab": {
          "base_uri": "https://localhost:8080/"
        },
        "outputId": "6cb0573a-b96a-451d-de4a-bfd78c7b8e00"
      },
      "outputs": [
        {
          "output_type": "stream",
          "name": "stdout",
          "text": [
            "       customer_id     before      after\n",
            "count    75.000000  75.000000  75.000000\n",
            "mean     37.000000   2.973333   3.453333\n",
            "std      21.794495   1.229956   1.130574\n",
            "min       0.000000   1.000000   1.000000\n",
            "25%      18.500000   2.000000   3.000000\n",
            "50%      37.000000   3.000000   4.000000\n",
            "75%      55.500000   4.000000   4.000000\n",
            "max      74.000000   5.000000   5.000000\n",
            "There are a total of 75 customers in the paired ratings data, each with a score before the menu change and after\n"
          ]
        }
      ],
      "source": [
        "# Run this cell without changes to display results\n",
        "print(ratings_describe)\n",
        "print(f\"There are a total of {sample_size_ratings} customers in the paired ratings data, each with a score before the menu change and after\")"
      ]
    },
    {
      "cell_type": "code",
      "execution_count": 4,
      "metadata": {
        "id": "v2l0nC36qbRZ",
        "colab": {
          "base_uri": "https://localhost:8080/",
          "height": 472
        },
        "outputId": "adf45335-f19a-4dd8-a997-27883e893e34"
      },
      "outputs": [
        {
          "output_type": "display_data",
          "data": {
            "text/plain": [
              "<Figure size 640x480 with 1 Axes>"
            ],
            "image/png": "[encoded data removed]"
          },
          "metadata": {}
        }
      ],
      "source": [
        "# CodeGrade step2\n",
        "# Create a histogram to visually represent before and after rating\n",
        "# Create pandas series\n",
        "ratings_before = df_ratings['before']\n",
        "ratings_after = df_ratings['after']\n",
        "ratings_both = [ratings_before, ratings_after]\n",
        "\n",
        "df_combined = pd.DataFrame({\n",
        "    'Rating': pd.concat(ratings_both, ignore_index=True),\n",
        "    'Group': ['Before'] * len(ratings_before) + ['After'] * len(ratings_after)\n",
        "})\n",
        "\n",
        "# Seaborn histplot - set these parameter values (discrete=True, multiple='layer')\n",
        "hist_ratings = sns.histplot(data = df_combined, x='Rating', hue='Group', bins=5, discrete=True, multiple='layer')\n",
        "\n",
        "# Labels\n",
        "plt.xlabel('Customer Satisfaction Rating')\n",
        "plt.title('Distribution of Ratings Before and After Menu Change')\n",
        "plt.show()"
      ]
    },
    {
      "cell_type": "markdown",
      "metadata": {
        "id": "7mIL5bTVqbRa"
      },
      "source": [
        "### Return Visits Data"
      ]
    },
    {
      "cell_type": "code",
      "execution_count": 5,
      "metadata": {
        "id": "XzneDaV1qbRa"
      },
      "outputs": [],
      "source": [
        "# CodeGrade step3\n",
        "# Describe the basic stats of the location column\n",
        "return_describe = df_return.describe()\n",
        "\n",
        "# Seperate out New Menu and Old Menu samples - use pandas to create two dataframes\n",
        "new_menu = df_return[df_return['location'] == 'New Menu']\n",
        "old_menu = df_return[df_return['location'] == 'Old Menu']\n",
        "\n",
        "# Counts for returned or not (binary column) - use built-in pandas method - return percentage (normalize=True)\n",
        "new_return_counts = new_menu['returned'].value_counts(normalize=True)\n",
        "old_return_counts = old_menu['returned'].value_counts(normalize=True)"
      ]
    },
    {
      "cell_type": "code",
      "execution_count": 6,
      "metadata": {
        "id": "887dd1vbqbRb",
        "colab": {
          "base_uri": "https://localhost:8080/"
        },
        "outputId": "e3491d3b-dd5b-43ac-b656-0926c36b0dd6"
      },
      "outputs": [
        {
          "output_type": "stream",
          "name": "stdout",
          "text": [
            "       customer_id    returned\n",
            "count   150.000000  150.000000\n",
            "mean     74.500000    0.613333\n",
            "std      43.445368    0.488618\n",
            "min       0.000000    0.000000\n",
            "25%      37.250000    0.000000\n",
            "50%      74.500000    1.000000\n",
            "75%     111.750000    1.000000\n",
            "max     149.000000    1.000000\n",
            "returned\n",
            "1    0.746667\n",
            "0    0.253333\n",
            "Name: proportion, dtype: float64 returned\n",
            "0    0.52\n",
            "1    0.48\n",
            "Name: proportion, dtype: float64\n"
          ]
        }
      ],
      "source": [
        "# Run this cell without changes to display results\n",
        "print(return_describe)\n",
        "print(new_return_counts, old_return_counts)"
      ]
    },
    {
      "cell_type": "code",
      "execution_count": 7,
      "metadata": {
        "id": "oVhYYE08qbRb",
        "colab": {
          "base_uri": "https://localhost:8080/",
          "height": 489
        },
        "outputId": "62854fbf-0d87-4a35-9340-7979ddb32d96"
      },
      "outputs": [
        {
          "output_type": "execute_result",
          "data": {
            "text/plain": [
              "Text(0, 0.5, 'Return Rates')"
            ]
          },
          "metadata": {},
          "execution_count": 7
        },
        {
          "output_type": "display_data",
          "data": {
            "text/plain": [
              "<Figure size 640x480 with 1 Axes>"
            ],
            "image/png": "[encoded data removed]"
          },
          "metadata": {}
        }
      ],
      "source": [
        "# CodeGrade step4\n",
        "# Calculate return visits rates - you can use counts object above\n",
        "new_return_rate = new_return_counts[1]\n",
        "old_return_rate = old_return_counts[1]\n",
        "\n",
        "# Barplot showing return visit rates comparing new and old menu\n",
        "bar_return = sns.barplot(y=[new_return_rate, old_return_rate], x=['New Menu', 'Old Menu'])\n",
        "\n",
        "# Labels\n",
        "plt.title('Return Visit Rates for Old and New Menus')\n",
        "plt.xlabel('Menu Type')\n",
        "plt.ylabel('Return Rates')"
      ]
    },
    {
      "cell_type": "markdown",
      "metadata": {
        "id": "MuX8isHmqbRc"
      },
      "source": [
        "### Assumption Checking\n",
        "**For the Ratings Data (Before vs After):**\n",
        "\n",
        "- We have paired measurements from the same customers before and after the menu change\n",
        "\n",
        "Key assumption to check:\n",
        "- Normality of differences (using Shapiro-Wilk Test)\n",
        "- Equal Variances Between Samples (using Levene Test)\n",
        "\n",
        "**For the Return Visits Data:**\n",
        "\n",
        "This is a between-groups design comparing return rate between two independent groups (New Menu vs Old Menu)\n",
        "\n",
        "Key assumptions checked for Chi-square test:\n",
        "- Independent observations (we can assume this given different locations)\n",
        "- Minimum expected frequencies - use [scipy.stats.contingency.expected_freq](https://docs.scipy.org/doc/scipy/reference/generated/scipy.stats.contingency.expected_freq.html#scipy.stats.contingency.expected_freq)"
      ]
    },
    {
      "cell_type": "code",
      "execution_count": 8,
      "metadata": {
        "id": "SpapwFetqbRc"
      },
      "outputs": [],
      "source": [
        "# CodeGrade step5\n",
        "# Ratings Data (Before vs After)\n",
        "# Calculate differences\n",
        "differences = df_ratings['after'] - df_ratings['before']\n",
        "\n",
        "# Shapiro-Wilk test for normality\n",
        "shapiro_stat, shapiro_p = stats.shapiro(differences)\n",
        "\n",
        "# Levene test for equal variance - will tell us if distribution changed after menu change\n",
        "levene_stat, levene_p = stats.levene(df_ratings['before'], df_ratings['after'])\n",
        "\n",
        "# Return Visits Data\n",
        "# Create contingency table\n",
        "contingency = pd.crosstab(df_return['location'], df_return['returned'])\n",
        "expected_freq = stats.chi2_contingency(contingency)"
      ]
    },
    {
      "cell_type": "code",
      "execution_count": 9,
      "metadata": {
        "id": "9qypHmeYqbRc",
        "colab": {
          "base_uri": "https://localhost:8080/"
        },
        "outputId": "0327d382-d054-4b28-d283-e8a2001df5a6"
      },
      "outputs": [
        {
          "output_type": "stream",
          "name": "stdout",
          "text": [
            "Checking normality of differences (Shapiro-Wilk test):\n",
            "Statistic: 0.9560, p-value: 0.0109\n",
            "Levene's test for homogeneity of variances:\n",
            "Statistic: 0.1000, p-value: 0.7522\n",
            "\n",
            "Contingency table for return visits:\n",
            "returned   0   1\n",
            "location        \n",
            "New Menu  19  56\n",
            "Old Menu  39  36\n",
            "Chi2ContingencyResult(statistic=np.float64(10.148050974512744), pvalue=np.float64(0.0014445388752895672), dof=1, expected_freq=array([[29., 46.],\n",
            "       [29., 46.]]))\n"
          ]
        }
      ],
      "source": [
        "# Run this cell without changes to display results\n",
        "print(\"Checking normality of differences (Shapiro-Wilk test):\")\n",
        "print(f\"Statistic: {shapiro_stat:.4f}, p-value: {shapiro_p:.4f}\")\n",
        "print(\"Levene's test for homogeneity of variances:\")\n",
        "print(f\"Statistic: {levene_stat:.4f}, p-value: {levene_p:.4f}\")\n",
        "print(\"\\nContingency table for return visits:\")\n",
        "print(contingency)\n",
        "print(expected_freq)"
      ]
    },
    {
      "cell_type": "markdown",
      "metadata": {
        "id": "GBcXBfPRqbRd"
      },
      "source": [
        "### Part 2: Selection Phase\n",
        "\n",
        "Now that you understand your data, it's time to choose appropriate statistical tests. This phase is like selecting the\n",
        "right tool for the job. Your choice will depend on:\n",
        "- The distribution and type of your data (normal vs non-normal)\n",
        "- The type of comparison you're making (before/after, between groups)\n",
        "- The general assumptions you can reasonably make about your data\n",
        "- The statistical test assumptions you checked\n",
        "\n",
        "Select the appropriate statistical test for each analysis based on the information above. Choose from one of the options below - make sure to match the correct string name when you assign to variable.\n",
        "- Paried t-test\n",
        "- 2 Sample Independent t-test\n",
        "- Goodness of Fit test\n",
        "- Test of Independence\n",
        "- Test of Homogeneity\n",
        "- Fisher's Exact test\n",
        "- Mann-Whitney U test\n",
        "- Wilcoxon signed-rank test"
      ]
    },
    {
      "cell_type": "code",
      "execution_count": 13,
      "metadata": {
        "id": "MS2frtHGqbRd"
      },
      "outputs": [],
      "source": [
        "# CodeGrade step6\n",
        "# Document your chosen tests\n",
        "\n",
        "# For ratings analysis, even though the test statistic was 0.956, which is close\n",
        "# to 1, which indicates the data more closely follows a normal distribution,\n",
        "# a Wilcoxon signed-rank test should be used because the p-value was 0.0109\n",
        "# which is less than the alpha of 0.05. Therefore we reject the null hypothesis\n",
        "# that the data is normally distributed, and conclude that the data is likely not\n",
        "# normally distributed.\n",
        "\n",
        "# According to the Levene test, the p-value is 0.7522 which is greater than alpha\n",
        "#  = 0.05, which means we fail toreject the null hypothesis and conclude that\n",
        "# there is no statistical difference in variances. So we must conclude that the\n",
        "# before and after variances are equal.\n",
        "\n",
        "# We must assume that the data is independent, that the customers are not\n",
        "# conferring amongst each other about the ratings they give before and after\n",
        "# about the new and old menu.\n",
        "\n",
        "# for level of measurement, parametric tests assume interval or ratio level data.\n",
        "# however, we have ordinal data here, where customers are giving ratings on a scale\n",
        "# of 1-5. This is a reason to not use a parametric test.\n",
        "\n",
        "# We checked for normality and homoscedasticity. The data has similar variances\n",
        "# according to the Levene test, but failed the normality test. So we should not\n",
        "# move forward with a parametric test, but instead use nonparametric, this case\n",
        "# the Wilcoxon because it is used for paired samples which in this case it is\n",
        "# because we're dealing with before and after ratings.\n",
        "\n",
        "# Name of chosen test for ratings analysis - as a string\n",
        "selected_test_ratings = 'Wilcoxon signed-rank test'\n",
        "\n",
        "# For the return visits analysis, we are looking at the relationship between two\n",
        "# variables, menu type (old, new) and return visit (yes, no), for a single population\n",
        "# of the customers. Therefore a chi squared test of independence is chosen.\n",
        "# Since the p-value is 0.0014 which is below alpha = 0.05, we reject the null\n",
        "# hypothesis that there is no relation between the two variables menu type\n",
        "# and return visit. We conclude that there is a statistically significant\n",
        "# relationship between the two variables. customers who saw the new menu tend\n",
        "# to return more frequently than those who saw the old menu\n",
        "\n",
        "# Name of chosen test for return visits analysis - as a string\n",
        "selected_test_returns = 'Test of Independence'"
      ]
    },
    {
      "cell_type": "markdown",
      "metadata": {
        "id": "b1hgoOjOqbRd"
      },
      "source": [
        "### Part 3: Implementation Phase\n",
        "\n",
        "This is where you put your plan into action. You'll implement your chosen statistical tests, create clear visualizations of your results, and calculate effect sizes to understand the practical significance of any differences you find.\n",
        "\n",
        "### Statisical Tests"
      ]
    },
    {
      "cell_type": "code",
      "execution_count": 14,
      "metadata": {
        "id": "uE9JbCo4qbRd"
      },
      "outputs": [],
      "source": [
        "# CodeGrade step7\n",
        "# Test 1: Comparing Before and After Ratings\n",
        "# Using appropriate test\n",
        "stat_ratings, p_value_ratings = stats.wilcoxon(df_ratings['before'], df_ratings['after'])"
      ]
    },
    {
      "cell_type": "code",
      "execution_count": 15,
      "metadata": {
        "id": "XW66ejQ6qbRd",
        "colab": {
          "base_uri": "https://localhost:8080/"
        },
        "outputId": "418dfedc-9410-4814-a1dc-5baff3798155"
      },
      "outputs": [
        {
          "output_type": "stream",
          "name": "stdout",
          "text": [
            "\n",
            "Before and After Ratings test results:\n",
            "Statistic: 642.0000, p-value: 0.0268\n"
          ]
        }
      ],
      "source": [
        "# Run this code without changes to display result\n",
        "print(\"\\nBefore and After Ratings test results:\")\n",
        "print(f\"Statistic: {stat_ratings:.4f}, p-value: {p_value_ratings:.4f}\")"
      ]
    },
    {
      "cell_type": "code",
      "execution_count": 16,
      "metadata": {
        "id": "3DdrH-upqbRd"
      },
      "outputs": [],
      "source": [
        "# CodeGrade step8\n",
        "# Test 2: Comparing Return Visits Between Menu Types\n",
        "# Using appropriate test\n",
        "stat_return, p_value_return, _, _ = stats.chi2_contingency(contingency)"
      ]
    },
    {
      "cell_type": "code",
      "execution_count": 17,
      "metadata": {
        "id": "m_uJfn83qbRd",
        "colab": {
          "base_uri": "https://localhost:8080/"
        },
        "outputId": "e61e8a18-c24f-4b8b-af3a-47a6a5582f30"
      },
      "outputs": [
        {
          "output_type": "stream",
          "name": "stdout",
          "text": [
            "\n",
            "Return Visits test results:\n",
            "Statistic: 10.1481, p-value: 0.0014\n"
          ]
        }
      ],
      "source": [
        "# Run this code without changes to display result\n",
        "print(\"\\nReturn Visits test results:\")\n",
        "print(f\"Statistic: {stat_return:.4f}, p-value: {p_value_return:.4f}\")"
      ]
    },
    {
      "cell_type": "markdown",
      "metadata": {
        "id": "hP2-n1gyqbRe"
      },
      "source": [
        "### Part 4: Interpretation Phase\n",
        "\n",
        "### Effect Sizes\n",
        "\n",
        "**For the Ratings Data:**\n",
        "\n",
        "Calculate Cohen's d effect size for paired samples (before/after ratings).\n",
        "    \n",
        "For paired samples, we use the mean difference divided by the standard deviation of the differences, which accounts for the correlation between measurements.\n",
        "\n",
        "**For the Return Visits Data:**\n",
        "\n",
        "Calculate Cramer's V for categorical variables\n",
        "\n",
        "Measures the strength of association between two categorical variables, in this case location (menu type) and customer return status, by calculating a value between 0 and 1, where 0 indicates no relationship and 1 indicates a perfect relationship, helping us understand whether the menu change had a meaningful impact on customer return behavior beyond just statistical significance.\n",
        "\n",
        "Cramer's V for a 2x2 Contingency Table is calculated by dividing the Chi2 Statistic by the total sample size and then taking the square root."
      ]
    },
    {
      "cell_type": "code",
      "execution_count": 19,
      "metadata": {
        "id": "3vJ3cnKvqbRe"
      },
      "outputs": [],
      "source": [
        "# CodeGrade step9\n",
        "# Calculates effect sizes for both analyses:\n",
        "# Cohen's d for ratings (continuous, paired data)\n",
        "differences = df_ratings['after'] - df_ratings['before']\n",
        "ratings_effect_size = differences.mean() / differences.std(ddof=1)\n",
        "\n",
        "# Cramer's V for return visits (binary categorical data)\n",
        "# Total sample size\n",
        "chi2_stat = 10.148\n",
        "n = contingency.to_numpy().sum()\n",
        "k = min(contingency.shape)\n",
        "returns_effect_size = np.sqrt(chi2_stat / (n * (k - 1)))"
      ]
    },
    {
      "cell_type": "code",
      "execution_count": 20,
      "metadata": {
        "id": "danoA5ARqbRe",
        "colab": {
          "base_uri": "https://localhost:8080/"
        },
        "outputId": "e1c436e8-fcd9-4ceb-eaba-8eb707ed108c"
      },
      "outputs": [
        {
          "output_type": "stream",
          "name": "stdout",
          "text": [
            "Effect size for paired ratings analysis: 0.2718406974151428\n",
            "Effect size for the return visits analysis: 0.26010254388093423\n"
          ]
        }
      ],
      "source": [
        "# Run this cell to display the results\n",
        "print(f\"Effect size for paired ratings analysis: {ratings_effect_size}\")\n",
        "print(f\"Effect size for the return visits analysis: {returns_effect_size}\")"
      ]
    },
    {
      "cell_type": "code",
      "source": [],
      "metadata": {
        "id": "Rl8oriij5Wwt"
      },
      "execution_count": null,
      "outputs": []
    }
  ],
  "metadata": {
    "kernelspec": {
      "display_name": "Python (Cohort_Env)",
      "language": "python",
      "name": "cohort_env"
    },
    "language_info": {
      "codemirror_mode": {
        "name": "ipython",
        "version": 3
      },
      "file_extension": ".py",
      "mimetype": "text/x-python",
      "name": "python",
      "nbconvert_exporter": "python",
      "pygments_lexer": "ipython3",
      "version": "3.12.5"
    },
    "colab": {
      "provenance": []
    }
  },
  "nbformat": 4,
  "nbformat_minor": 0
}