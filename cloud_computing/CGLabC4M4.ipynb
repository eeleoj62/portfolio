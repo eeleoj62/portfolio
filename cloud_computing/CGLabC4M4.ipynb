{
 "cells": [
  {
   "cell_type": "markdown",
   "metadata": {
    "id": "3gCdV3498UNI"
   },
   "source": [
    "# Lab: Course 4, Module 4"
   ]
  },
  {
   "cell_type": "markdown",
   "metadata": {
    "id": "tUVuN_lAX2rI"
   },
   "source": [
    "### Step 0\n",
    "\n",
    "Imagine you're a data scientist at a healthcare startup tasked with analyzing patient data to improve breast cancer diagnosis. Importing the necessary libraries and setting up a Spark session ensures you have the computational tools to handle large-scale data, just like a doctor gathers essential instruments before starting a procedure.\n",
    "\n",
    "**Import the germane library**"
   ]
  },
  {
   "cell_type": "code",
   "execution_count": 1,
   "metadata": {
    "id": "VA-zDFskV4BB"
   },
   "outputs": [],
   "source": [
    "# CodeGrade step0\n",
    "from pyspark.sql import SparkSession\n",
    "from pyspark.sql.functions import min, max\n",
    "import pandas as pd\n",
    "import numpy as np\n",
    "import matplotlib.pyplot as plt\n",
    "\n",
    "# Create a Spark session\n",
    "spark = SparkSession.builder \\\n",
    "    .appName(\"Breast Cancer Analysis\") \\\n",
    "    .getOrCreate()"
   ]
  },
  {
   "cell_type": "markdown",
   "metadata": {
    "id": "6UxN5LUqdgAZ"
   },
   "source": [
    "### Step 1\n",
    "\n",
    "Hospitals rely on efficient systems to process and analyze patient records. By verifying the Spark session, you're ensuring the system is operational and ready to handle critical tasks, much like checking that medical equipment is functioning before use.\n",
    "\n",
    "**Create a Spark session where the name is \"Breast Cancer Analysis\" and verify that it is running such that if it is, the reponse is `yes`.**"
   ]
  },
  {
   "cell_type": "code",
   "execution_count": 2,
   "metadata": {
    "id": "DJd_jHcrdiYE"
   },
   "outputs": [
    {
     "name": "stdout",
     "output_type": "stream",
     "text": [
      "yes\n"
     ]
    }
   ],
   "source": [
    "# CodeGrade step1\n",
    "\n",
    "if (spark.getActiveSession()):\n",
    "    print('yes')\n",
    "else:\n",
    "    print('no')"
   ]
  },
  {
   "cell_type": "markdown",
   "metadata": {
    "id": "BrJRM9CleOks"
   },
   "source": [
    "### Step 2\n",
    "\n",
    "In real-world scenarios, data scientists often collaborate with clinicians to answer specific queries, such as reviewing key patient metrics. Here, you're tasked with loading the dataset and pinpointing specific details (e.g., the perimeter mean of the 77th row), mirroring how teams use data to address targeted medical questions.\n",
    "\n",
    "*   **Load the data**\n",
    "*   **Display records and data types**\n",
    "*   **Find the permimter mean of the 77th row**\n",
    "  * **Call this `permiter_mean_value`**\n",
    "\n",
    "\n"
   ]
  },
  {
   "cell_type": "code",
   "execution_count": 3,
   "metadata": {
    "id": "NtOCV1uZdRJv"
   },
   "outputs": [],
   "source": [
    "# CodeGrade step0\n",
    "\n",
    "# Load the data\n",
    "df = spark.read.csv(\"breast_cancer.csv\", header=True, inferSchema=True)\n"
   ]
  },
  {
   "cell_type": "code",
   "execution_count": 4,
   "metadata": {
    "id": "iTI-OKSV5Awd"
   },
   "outputs": [
    {
     "name": "stdout",
     "output_type": "stream",
     "text": [
      "+--------+---------+-----------+------------+--------------+---------+---------------+----------------+--------------+-------------------+-------------+----------------------+---------+----------+------------+-------+-------------+--------------+------------+-----------------+-----------+--------------------+------------+-------------+---------------+----------+----------------+-----------------+---------------+--------------------+--------------+-----------------------+----+\n",
      "|      id|diagnosis|radius_mean|texture_mean|perimeter_mean|area_mean|smoothness_mean|compactness_mean|concavity_mean|concave points_mean|symmetry_mean|fractal_dimension_mean|radius_se|texture_se|perimeter_se|area_se|smoothness_se|compactness_se|concavity_se|concave points_se|symmetry_se|fractal_dimension_se|radius_worst|texture_worst|perimeter_worst|area_worst|smoothness_worst|compactness_worst|concavity_worst|concave points_worst|symmetry_worst|fractal_dimension_worst|_c32|\n",
      "+--------+---------+-----------+------------+--------------+---------+---------------+----------------+--------------+-------------------+-------------+----------------------+---------+----------+------------+-------+-------------+--------------+------------+-----------------+-----------+--------------------+------------+-------------+---------------+----------+----------------+-----------------+---------------+--------------------+--------------+-----------------------+----+\n",
      "|  842302|        M|      17.99|       10.38|         122.8|   1001.0|         0.1184|          0.2776|        0.3001|             0.1471|       0.2419|               0.07871|    1.095|    0.9053|       8.589|  153.4|     0.006399|       0.04904|     0.05373|          0.01587|    0.03003|            0.006193|       25.38|        17.33|          184.6|    2019.0|          0.1622|           0.6656|         0.7119|              0.2654|        0.4601|                 0.1189|NULL|\n",
      "|  842517|        M|      20.57|       17.77|         132.9|   1326.0|        0.08474|         0.07864|        0.0869|            0.07017|       0.1812|               0.05667|   0.5435|    0.7339|       3.398|  74.08|     0.005225|       0.01308|      0.0186|           0.0134|    0.01389|            0.003532|       24.99|        23.41|          158.8|    1956.0|          0.1238|           0.1866|         0.2416|               0.186|         0.275|                0.08902|NULL|\n",
      "|84300903|        M|      19.69|       21.25|         130.0|   1203.0|         0.1096|          0.1599|        0.1974|             0.1279|       0.2069|               0.05999|   0.7456|    0.7869|       4.585|  94.03|      0.00615|       0.04006|     0.03832|          0.02058|     0.0225|            0.004571|       23.57|        25.53|          152.5|    1709.0|          0.1444|           0.4245|         0.4504|               0.243|        0.3613|                0.08758|NULL|\n",
      "|84348301|        M|      11.42|       20.38|         77.58|    386.1|         0.1425|          0.2839|        0.2414|             0.1052|       0.2597|               0.09744|   0.4956|     1.156|       3.445|  27.23|      0.00911|       0.07458|     0.05661|          0.01867|    0.05963|            0.009208|       14.91|         26.5|          98.87|     567.7|          0.2098|           0.8663|         0.6869|              0.2575|        0.6638|                  0.173|NULL|\n",
      "|84358402|        M|      20.29|       14.34|         135.1|   1297.0|         0.1003|          0.1328|         0.198|             0.1043|       0.1809|               0.05883|   0.7572|    0.7813|       5.438|  94.44|      0.01149|       0.02461|     0.05688|          0.01885|    0.01756|            0.005115|       22.54|        16.67|          152.2|    1575.0|          0.1374|            0.205|            0.4|              0.1625|        0.2364|                0.07678|NULL|\n",
      "+--------+---------+-----------+------------+--------------+---------+---------------+----------------+--------------+-------------------+-------------+----------------------+---------+----------+------------+-------+-------------+--------------+------------+-----------------+-----------+--------------------+------------+-------------+---------------+----------+----------------+-----------------+---------------+--------------------+--------------+-----------------------+----+\n",
      "only showing top 5 rows\n",
      "\n",
      "root\n",
      " |-- id: integer (nullable = true)\n",
      " |-- diagnosis: string (nullable = true)\n",
      " |-- radius_mean: double (nullable = true)\n",
      " |-- texture_mean: double (nullable = true)\n",
      " |-- perimeter_mean: double (nullable = true)\n",
      " |-- area_mean: double (nullable = true)\n",
      " |-- smoothness_mean: double (nullable = true)\n",
      " |-- compactness_mean: double (nullable = true)\n",
      " |-- concavity_mean: double (nullable = true)\n",
      " |-- concave points_mean: double (nullable = true)\n",
      " |-- symmetry_mean: double (nullable = true)\n",
      " |-- fractal_dimension_mean: double (nullable = true)\n",
      " |-- radius_se: double (nullable = true)\n",
      " |-- texture_se: double (nullable = true)\n",
      " |-- perimeter_se: double (nullable = true)\n",
      " |-- area_se: double (nullable = true)\n",
      " |-- smoothness_se: double (nullable = true)\n",
      " |-- compactness_se: double (nullable = true)\n",
      " |-- concavity_se: double (nullable = true)\n",
      " |-- concave points_se: double (nullable = true)\n",
      " |-- symmetry_se: double (nullable = true)\n",
      " |-- fractal_dimension_se: double (nullable = true)\n",
      " |-- radius_worst: double (nullable = true)\n",
      " |-- texture_worst: double (nullable = true)\n",
      " |-- perimeter_worst: double (nullable = true)\n",
      " |-- area_worst: double (nullable = true)\n",
      " |-- smoothness_worst: double (nullable = true)\n",
      " |-- compactness_worst: double (nullable = true)\n",
      " |-- concavity_worst: double (nullable = true)\n",
      " |-- concave points_worst: double (nullable = true)\n",
      " |-- symmetry_worst: double (nullable = true)\n",
      " |-- fractal_dimension_worst: double (nullable = true)\n",
      " |-- _c32: string (nullable = true)\n",
      "\n"
     ]
    }
   ],
   "source": [
    "# Run this code\n",
    "\n",
    "# Display records and data types\n",
    "df.show(5)\n",
    "df.printSchema()"
   ]
  },
  {
   "cell_type": "code",
   "execution_count": 5,
   "metadata": {
    "id": "dSl05Kz9WQmX"
   },
   "outputs": [
    {
     "data": {
      "text/plain": [
       "87.91"
      ]
     },
     "execution_count": 5,
     "metadata": {},
     "output_type": "execute_result"
    }
   ],
   "source": [
    "# CodeGrade step2\n",
    "# Find the perimeter mean of the 77th row\n",
    "# Call this perimeter_mean_value\n",
    "\n",
    "# df.select('perimeter_mean') creates a new df with one column: perimeter_mean\n",
    "# .rdd converts spark df into RDD, so each row is a row object\n",
    "# .zipwithindex attaches an index to each row in the index 1\n",
    "# .filter(lambda x: x[1] == 76), keep only the index 1 of the tuple where its value is 76 (77th row)\n",
    "#  .map(lambda x: x[0][0] x[0] is row object, x[0][0] is first value in that row (perimeter mean value)\n",
    "# .collect()[0] collect that result and get the first value in the list\n",
    "perimeter_mean_value = df.select('perimeter_mean').rdd.zipWithIndex().filter(lambda x: x[1] == 76).map(lambda x: x[0][0]).collect()[0]\n",
    "\n",
    "perimeter_mean_value"
   ]
  },
  {
   "cell_type": "markdown",
   "metadata": {
    "id": "IlPc8DsXgdcc"
   },
   "source": [
    "### Steps 3 & 4\n",
    "\n",
    "To design effective diagnostic tools, understanding the dataset’s summary statistics is vital. This step emulates how medical professionals analyze patterns in patient data to gain insights into critical health indicators, such as tumor size or perimeter mean.\n",
    "\n",
    "\n",
    "**Step 3: Find the counts of the number of Benight and Malignant diagnosis, and then take the difference of the two (B - M).**\n",
    "\n",
    "Oncologists might want to examine specific groups of patients to identify patterns or anomalies. Filtering the data simulates this process, helping uncover insights like identifying patients with high-risk profiles based on specific attributes.\n",
    "\n",
    "**Step 4: Do this as a SQL query**\n",
    "  * **  *Hint*: Use `df.createOrReplaceTempView()` to be able to find these counts using SQL **\n",
    "\n"
   ]
  },
  {
   "cell_type": "code",
   "execution_count": 6,
   "metadata": {
    "id": "97b8qIK60SUY"
   },
   "outputs": [
    {
     "name": "stdout",
     "output_type": "stream",
     "text": [
      "+---------+-----+\n",
      "|diagnosis|count|\n",
      "+---------+-----+\n",
      "|        M|  212|\n",
      "+---------+-----+\n",
      "\n",
      "+---------+-----+\n",
      "|diagnosis|count|\n",
      "+---------+-----+\n",
      "|        B|  357|\n",
      "+---------+-----+\n",
      "\n"
     ]
    },
    {
     "data": {
      "text/plain": [
       "145"
      ]
     },
     "execution_count": 6,
     "metadata": {},
     "output_type": "execute_result"
    }
   ],
   "source": [
    "# CodeGrade step3\n",
    "\n",
    "# group diagnosis column and count rows\n",
    "diag_counts = df.groupBy('diagnosis').count()\n",
    "\n",
    "# filter grouped df to get only malignant and benign rows\n",
    "diag_m = diag_counts.filter(diag_counts['diagnosis'] == 'M')\n",
    "diag_b = diag_counts.filter(diag_counts['diagnosis'] == 'B')\n",
    "\n",
    "# .show() -> triggers action to show diag_m and diag_b df's\n",
    "diag_m.show()\n",
    "diag_b.show()\n",
    "\n",
    "# extract the count value from each df using .collect()\n",
    "# access first row and 'count' column\n",
    "diag_diff = diag_b.collect()[0]['count'] - diag_m.collect()[0]['count']\n",
    "diag_diff"
   ]
  },
  {
   "cell_type": "code",
   "execution_count": 7,
   "metadata": {
    "id": "zTqLsEs5gjf-"
   },
   "outputs": [
    {
     "name": "stdout",
     "output_type": "stream",
     "text": [
      "+-----+------+------+\n",
      "|total|diag_m|diag_b|\n",
      "+-----+------+------+\n",
      "|  569|   212|   357|\n",
      "+-----+------+------+\n",
      "\n"
     ]
    },
    {
     "data": {
      "text/plain": [
       "145"
      ]
     },
     "execution_count": 7,
     "metadata": {},
     "output_type": "execute_result"
    }
   ],
   "source": [
    "# CodeGrade step4\n",
    "df.createOrReplaceTempView('breast_cancer_table')\n",
    "\n",
    "# sum how many times each value (M or B) appears\n",
    "# use SUM with CASE inside an aggregation\n",
    "diagnosis = spark.sql(\"\"\"\n",
    "    SELECT COUNT(*) AS total,\n",
    "        SUM(CASE WHEN diagnosis = 'M' THEN 1 ELSE 0 END) AS diag_m,\n",
    "        SUM(CASE WHEN diagnosis = 'B' THEN 1 ELSE 0 END) AS diag_b\n",
    "    FROM breast_cancer_table\n",
    "    \"\"\")\n",
    "diagnosis.show()\n",
    "\n",
    "# .collect() gets the only row, ['diag_X'] gets the column values\n",
    "diag_m = diagnosis.collect()[0]['diag_m']\n",
    "diag_b = diagnosis.collect()[0]['diag_b']\n",
    "\n",
    "diag_diff = diag_b - diag_m\n",
    "diag_diff"
   ]
  },
  {
   "cell_type": "markdown",
   "metadata": {
    "id": "6lXWcWNrk8KJ"
   },
   "source": [
    "### Step 5\n",
    "\n",
    "You're part of a public health team working to understand the prevalence of different types of breast cancer diagnoses in a population. To gain insights, you’re tasked with visualizing the distribution of benign (B) and malignant (M) cases. This plot will help illustrate the balance between the two diagnosis classes, aiding stakeholders in understanding the overall dataset composition.\n",
    "\n",
    "For example, a significant imbalance might indicate a need for better early detection programs to catch malignant cases earlier, or it might reflect the population's overall health profile. By labeling the chart as \"Diagnosis Class Balance,\" you’re creating a clear and intuitive visualization that can be presented to medical professionals and policymakers to inform decisions on resource allocation or research focus areas.\n",
    "\n",
    "\n",
    "**Create a bar plot to show the distribution of benign and malignant cases.**\n",
    "* ***Hint*: It will be useful to convert back to pandas so you can use `matplotlib` and `pandas` visualization tools.**\n",
    "* The code to create the plots is included, using a SQL query in conjunction with pyspark, create a dataframe “diagnosis_counts” that contains the appropriate information to plot.\n",
    "* Label the Count columns as “count”\n"
   ]
  },
  {
   "cell_type": "code",
   "execution_count": 8,
   "metadata": {
    "id": "AQLE-OqYkqh4"
   },
   "outputs": [],
   "source": [
    "# CodeGrade step5\n",
    "diagnosis_counts = spark.sql(\"\"\"\n",
    "    SELECT diagnosis, COUNT(*) AS count\n",
    "    FROM breast_cancer_table\n",
    "    GROUP BY diagnosis\n",
    "    \"\"\")\n",
    "\n",
    "diagnosis_counts = diagnosis_counts.toPandas()"
   ]
  },
  {
   "cell_type": "code",
   "execution_count": 9,
   "metadata": {
    "id": "whOvyL237iyQ"
   },
   "outputs": [
    {
     "data": {
      "image/png": "[encoded data removed]",
      "text/plain": [
       "<Figure size 640x480 with 1 Axes>"
      ]
     },
     "metadata": {},
     "output_type": "display_data"
    }
   ],
   "source": [
    "# Run this code\n",
    "\n",
    "# Plot diagnosis class balance\n",
    "diagnosis_counts.plot(kind=\"bar\", x=\"diagnosis\", y=\"count\", legend=False, rot=0)\n",
    "plt.title(\"Diagnosis Class Balance\")\n",
    "plt.xlabel(\"Diagnosis\")\n",
    "plt.ylabel(\"Frequency\")\n",
    "plt.show()"
   ]
  },
  {
   "cell_type": "markdown",
   "metadata": {
    "id": "jqh20AWIi_So"
   },
   "source": [
    "### Step 6\n",
    "\n",
    "Hospitals often look for trends, such as average tumor sizes, across different patient groups. Aggregating the data allows you to provide actionable insights, just as hospital administrators use statistics to guide resource allocation and policy decisions.\n",
    "\n",
    "**Use .describe() to see statistics for each feature, which will help you understand the ranges and distributions of the data.**\n",
    "\n",
    "**Then use the 'pyspark.sql.functions' of 'min' and 'max' to find the**\n",
    "* **maximum of the `compactness_mean`**\n",
    "* **minimum of the `smoothness_mean`**\n",
    "\n",
    "**Take the difference of the `max_compactness_mean` and `min_snmoothness_mean`.**"
   ]
  },
  {
   "cell_type": "code",
   "execution_count": 10,
   "metadata": {
    "id": "nhJUPR9ZjH5r"
   },
   "outputs": [
    {
     "name": "stdout",
     "output_type": "stream",
     "text": [
      "+-------+--------------------+---------+------------------+-----------------+-----------------+-----------------+--------------------+-------------------+-------------------+--------------------+--------------------+----------------------+------------------+------------------+------------------+-----------------+--------------------+--------------------+--------------------+--------------------+--------------------+--------------------+------------------+------------------+------------------+-----------------+--------------------+-------------------+-------------------+--------------------+-------------------+-----------------------+----+\n",
      "|summary|                  id|diagnosis|       radius_mean|     texture_mean|   perimeter_mean|        area_mean|     smoothness_mean|   compactness_mean|     concavity_mean| concave points_mean|       symmetry_mean|fractal_dimension_mean|         radius_se|        texture_se|      perimeter_se|          area_se|       smoothness_se|      compactness_se|        concavity_se|   concave points_se|         symmetry_se|fractal_dimension_se|      radius_worst|     texture_worst|   perimeter_worst|       area_worst|    smoothness_worst|  compactness_worst|    concavity_worst|concave points_worst|     symmetry_worst|fractal_dimension_worst|_c32|\n",
      "+-------+--------------------+---------+------------------+-----------------+-----------------+-----------------+--------------------+-------------------+-------------------+--------------------+--------------------+----------------------+------------------+------------------+------------------+-----------------+--------------------+--------------------+--------------------+--------------------+--------------------+--------------------+------------------+------------------+------------------+-----------------+--------------------+-------------------+-------------------+--------------------+-------------------+-----------------------+----+\n",
      "|  count|                 569|      569|               569|              569|              569|              569|                 569|                569|                569|                 569|                 569|                   569|               569|               569|               569|              569|                 569|                 569|                 569|                 569|                 569|                 569|               569|               569|               569|              569|                 569|                569|                569|                 569|                569|                    569|   0|\n",
      "|   mean|3.0371831432337433E7|     NULL|14.127291739894563|19.28964850615117|91.96903339191566|654.8891036906857|   0.096360281195079|0.10434098418277686|0.08879931581722322|0.048919145869947236|   0.181161862917399|   0.06279760984182778|0.4051720562390161|1.2168534270650269|2.8660592267135288|40.33707908611603|0.007040978910369071|0.025478138840070306|0.031893716344463946|0.011796137082601056|0.020542298769771532|0.003794903866432...|16.269189806678394|25.677223198594014| 107.2612126537786|880.5831282952545| 0.13236859402460469|0.25426504393673144|0.27218848330404205| 0.11460622319859404|0.29007557117750454|    0.08394581722319855|NULL|\n",
      "| stddev|1.2502058561222367E8|     NULL|3.5240488262120793|4.301035768166948| 24.2989810387549|351.9141291816529|0.014064128137673616| 0.0528127579325122|0.07971980870789354| 0.03880284485915361|0.027414281336035712|  0.007060362795084457|0.2773127329861039|0.5516483926172022|2.0218545540421085|45.49100551613178|0.003002517943839066| 0.01790817932567739|0.030186060322988394|0.006170285174046867|0.008266371528798402|0.002646070967089195| 4.833241580469323|6.1462576230383235|33.602542269036356|569.3569926699494|0.022832429404835465|  0.157336488913742|0.20862428060813235| 0.06573234119594208|0.06186746753751871|    0.01806126734889399|NULL|\n",
      "|    min|                8670|        B|             6.981|             9.71|            43.79|            143.5|             0.05263|            0.01938|                0.0|                 0.0|               0.106|               0.04996|            0.1115|            0.3602|             0.757|            6.802|            0.001713|            0.002252|                 0.0|                 0.0|            0.007882|            8.948E-4|              7.93|             12.02|             50.41|            185.2|             0.07117|            0.02729|                0.0|                 0.0|             0.1565|                0.05504|NULL|\n",
      "|    max|           911320502|        M|             28.11|            39.28|            188.5|           2501.0|              0.1634|             0.3454|             0.4268|              0.2012|               0.304|               0.09744|             2.873|             4.885|             21.98|            542.2|             0.03113|              0.1354|               0.396|             0.05279|             0.07895|             0.02984|             36.04|             49.54|             251.2|           4254.0|              0.2226|              1.058|              1.252|               0.291|             0.6638|                 0.2075|NULL|\n",
      "+-------+--------------------+---------+------------------+-----------------+-----------------+-----------------+--------------------+-------------------+-------------------+--------------------+--------------------+----------------------+------------------+------------------+------------------+-----------------+--------------------+--------------------+--------------------+--------------------+--------------------+--------------------+------------------+------------------+------------------+-----------------+--------------------+-------------------+-------------------+--------------------+-------------------+-----------------------+----+\n",
      "\n"
     ]
    }
   ],
   "source": [
    "# Run this code\n",
    "\n",
    "# Summary statistics\n",
    "df.describe().show()"
   ]
  },
  {
   "cell_type": "code",
   "execution_count": 22,
   "metadata": {
    "id": "M1y56g8yjhDk"
   },
   "outputs": [
    {
     "data": {
      "text/plain": [
       "0.29277"
      ]
     },
     "execution_count": 22,
     "metadata": {},
     "output_type": "execute_result"
    }
   ],
   "source": [
    "#CodeGrade step6\n",
    "# Then use the 'pyspark.sql.functions' of 'min' and 'max' to find the\n",
    "# maximum of the compactness_mean\n",
    "# minimum of the smoothness_mean\n",
    "# Take the difference of the max_compactness_mean and min_snmoothness_mean.\n",
    "\n",
    "# select max from compactness_mean column and min from smoothness mean column\n",
    "max_compactness_mean = df.select(max('compactness_mean'))\n",
    "min_smoothness_mean = df.select(min('smoothness_mean'))\n",
    "\n",
    "# collect()[0][0] triggers action, [0] gets 1st row and [0] gets 1st column\n",
    "diff = max_compactness_mean.collect()[0][0] - min_smoothness_mean.collect()[0][0]\n",
    "diff"
   ]
  },
  {
   "cell_type": "markdown",
   "metadata": {
    "id": "elHoQsTPkq80"
   },
   "source": [
    "### Step 7\n",
    "\n",
    "Identifying and creating meaningful features is akin to a doctor refining diagnostic criteria. By engineering new features, you're preparing the data for predictive models, making the analysis more precise and impactful.\n",
    "\n",
    "\n",
    "**Let's suppose that you have reason to believe that the product of the 'radius_mean', 'texture_mean', and 'perimeter_mean' is meaningful to verify a diagnosis of Benign.**\n",
    "\n",
    "**Thus, use SQL Query to compute:**\n",
    "*   **Average of 'radius_mean', 'texture_mean', and 'perimeter_mean' for each diagnosis (all three rounded to two decimal places) only for the Benign case**\n",
    "*  ** Return only the product of the these three rounded means**"
   ]
  },
  {
   "cell_type": "code",
   "execution_count": 23,
   "metadata": {
    "id": "WbYW6KNdnYG8"
   },
   "outputs": [
    {
     "name": "stdout",
     "output_type": "stream",
     "text": [
      "+---------------+----------------+------------------+\n",
      "|avg_radius_mean|avg_texture_mean|avg_perimeter_mean|\n",
      "+---------------+----------------+------------------+\n",
      "|          12.15|           17.91|             78.08|\n",
      "+---------------+----------------+------------------+\n",
      "\n"
     ]
    },
    {
     "data": {
      "text/plain": [
       "16990.71552"
      ]
     },
     "execution_count": 23,
     "metadata": {},
     "output_type": "execute_result"
    }
   ],
   "source": [
    "#CodeGrade step07\n",
    "\n",
    "# filter for diag = benign\n",
    "# use sql to avg radius and text and perimeter means\n",
    "# round to 2 decimal places\n",
    "diagnosis_benign = spark.sql(\"\"\"\n",
    "    SELECT ROUND(AVG(radius_mean), 2) AS avg_radius_mean,\n",
    "        ROUND(AVG(texture_mean), 2) AS avg_texture_mean,\n",
    "        ROUND(AVG(perimeter_mean), 2) AS avg_perimeter_mean\n",
    "    FROM breast_cancer_table\n",
    "    WHERE diagnosis = 'B'\n",
    "    \"\"\")\n",
    "\n",
    "diagnosis_benign.show()\n",
    "\n",
    "# .collect() triggers the action\n",
    "# [0] accesses the 1st row, ['avg_xyz'] gets the value from that column\n",
    "product = diagnosis_benign.collect()[0]['avg_radius_mean'] * \\\n",
    "            diagnosis_benign.collect()[0]['avg_texture_mean'] * \\\n",
    "            diagnosis_benign.collect()[0]['avg_perimeter_mean']\n",
    "product"
   ]
  },
  {
   "cell_type": "markdown",
   "metadata": {
    "id": "ss_-XfUtqOcf"
   },
   "source": [
    "### Step 8\n",
    "\n",
    "Let's suppose that you have reason to believe that the average of the ratio of the `radius_mean` and the `perimeter_mean` are meaningful for the Malignant cases.\n",
    "\n",
    "**Thus, use SQL Query to compute:**\n",
    "\n",
    "*   **Average of the ration of the `radius_mean` and the `perimeter_mean` only for the Malignant cases**\n",
    "*   **Round this to two decimal places and call the result `mean_radius_perimeter_ratio`**\n"
   ]
  },
  {
   "cell_type": "code",
   "execution_count": 28,
   "metadata": {
    "id": "DqTZQHsmqNp4"
   },
   "outputs": [
    {
     "name": "stdout",
     "output_type": "stream",
     "text": [
      "+---------------+------------------+\n",
      "|avg_radius_mean|avg_perimeter_mean|\n",
      "+---------------+------------------+\n",
      "|          17.46|            115.37|\n",
      "+---------------+------------------+\n",
      "\n"
     ]
    },
    {
     "data": {
      "text/plain": [
       "0.15133916962815291"
      ]
     },
     "execution_count": 28,
     "metadata": {},
     "output_type": "execute_result"
    }
   ],
   "source": [
    "# CodeGrade step8\n",
    "diag_mal = spark.sql(\"\"\"\n",
    "    SELECT ROUND(AVG(radius_mean), 2) AS avg_radius_mean,\n",
    "        ROUND(AVG(perimeter_mean), 2) AS avg_perimeter_mean\n",
    "    FROM breast_cancer_table\n",
    "    WHERE diagnosis = 'M'\n",
    "    \"\"\")\n",
    "\n",
    "diag_mal.show()\n",
    "\n",
    "mean_radius_perimeter_ratio = diag_mal.collect()[0]['avg_radius_mean'] / \\\n",
    "                                diag_mal.collect()[0]['avg_perimeter_mean']\n",
    "\n",
    "mean_radius_perimeter_ratio"
   ]
  },
  {
   "cell_type": "markdown",
   "metadata": {
    "id": "oGwyh33T9O6g"
   },
   "source": [
    "### Step 9\n",
    "\n",
    " Before deploying a diagnostic model, it’s crucial to ensure its reliability by looking at its sum of standard devations.\n",
    "\n",
    "** Use a query to find `sum_of_stddevs`, where that is the sum of the standard deviation of the `symmetry_mean` and `fractal_dimension_mean',**"
   ]
  },
  {
   "cell_type": "code",
   "execution_count": 33,
   "metadata": {
    "id": "tNi3Ucsw9PdJ"
   },
   "outputs": [
    {
     "name": "stdout",
     "output_type": "stream",
     "text": [
      "+--------------------+-----------------------------+\n",
      "|stddev_symmetry_mean|stddev_fractal_dimension_mean|\n",
      "+--------------------+-----------------------------+\n",
      "|0.027414281336035712|         0.007060362795084457|\n",
      "+--------------------+-----------------------------+\n",
      "\n"
     ]
    },
    {
     "data": {
      "text/plain": [
       "0.03447464413112017"
      ]
     },
     "execution_count": 33,
     "metadata": {},
     "output_type": "execute_result"
    }
   ],
   "source": [
    "# CodeGrade step9\n",
    "std_df = spark.sql(\"\"\"\n",
    "    SELECT STDDEV(symmetry_mean) AS stddev_symmetry_mean,\n",
    "        STDDEV(fractal_dimension_mean) AS stddev_fractal_dimension_mean\n",
    "    FROM breast_cancer_table\n",
    "    \"\"\")\n",
    "std_df.show()\n",
    "sum_of_stddevs = std_df.collect()[0][0] + std_df.collect()[0][1]\n",
    "sum_of_stddevs"
   ]
  },
  {
   "cell_type": "markdown",
   "metadata": {
    "id": "12XKuaS7smWa"
   },
   "source": [
    "### Step 10\n",
    "\n",
    "Close the spark session, where verification will result in the output of 'yes'\n",
    "\n"
   ]
  },
  {
   "cell_type": "code",
   "execution_count": 35,
   "metadata": {
    "id": "iRQam9SJtstV"
   },
   "outputs": [
    {
     "name": "stdout",
     "output_type": "stream",
     "text": [
      "no\n"
     ]
    }
   ],
   "source": [
    "# CodeGrade step10\n",
    "spark.stop()\n",
    "if (spark.getActiveSession()):\n",
    "    print('yes')\n",
    "else:\n",
    "    print('no')"
   ]
  }
 ],
 "metadata": {
  "colab": {
   "provenance": []
  },
  "kernelspec": {
   "display_name": "Python 3 (ipykernel)",
   "language": "python",
   "name": "python3"
  },
  "language_info": {
   "codemirror_mode": {
    "name": "ipython",
    "version": 3
   },
   "file_extension": ".py",
   "mimetype": "text/x-python",
   "name": "python",
   "nbconvert_exporter": "python",
   "pygments_lexer": "ipython3",
   "version": "3.11.6"
  }
 },
 "nbformat": 4,
 "nbformat_minor": 4
}
