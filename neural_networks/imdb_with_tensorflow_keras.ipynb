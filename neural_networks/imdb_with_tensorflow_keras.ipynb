{
 "cells": [
  {
   "cell_type": "markdown",
   "id": "b704fca7",
   "metadata": {},
   "source": [
    "In this step, we prepare our development environment by installing and importing the necessary libraries. TensorFlow and TensorFlow Hub will be our main frameworks, with TensorFlow Hub providing access to pre-trained BERT models. TensorFlow Text provides text preprocessing utilities specifically designed for BERT models."
   ]
  },
  {
   "cell_type": "code",
   "execution_count": 1,
   "id": "a4bb0451",
   "metadata": {},
   "outputs": [
    {
     "name": "stdout",
     "output_type": "stream",
     "text": [
      "Requirement already satisfied: tensorflow in c:\\users\\jtlee\\anaconda3\\envs\\ds-env\\lib\\site-packages (2.10.0)\n",
      "Requirement already satisfied: tensorflow-hub in c:\\users\\jtlee\\anaconda3\\envs\\ds-env\\lib\\site-packages (0.16.1)\n",
      "Requirement already satisfied: tensorflow-text in c:\\users\\jtlee\\anaconda3\\envs\\ds-env\\lib\\site-packages (2.10.0)\n",
      "Requirement already satisfied: absl-py>=1.0.0 in c:\\users\\jtlee\\anaconda3\\envs\\ds-env\\lib\\site-packages (from tensorflow) (2.3.0)\n",
      "Requirement already satisfied: astunparse>=1.6.0 in c:\\users\\jtlee\\anaconda3\\envs\\ds-env\\lib\\site-packages (from tensorflow) (1.6.3)\n",
      "Requirement already satisfied: flatbuffers>=2.0 in c:\\users\\jtlee\\anaconda3\\envs\\ds-env\\lib\\site-packages (from tensorflow) (25.2.10)\n",
      "Requirement already satisfied: gast<=0.4.0,>=0.2.1 in c:\\users\\jtlee\\anaconda3\\envs\\ds-env\\lib\\site-packages (from tensorflow) (0.4.0)\n",
      "Requirement already satisfied: google-pasta>=0.1.1 in c:\\users\\jtlee\\anaconda3\\envs\\ds-env\\lib\\site-packages (from tensorflow) (0.2.0)\n",
      "Requirement already satisfied: h5py>=2.9.0 in c:\\users\\jtlee\\anaconda3\\envs\\ds-env\\lib\\site-packages (from tensorflow) (3.14.0)\n",
      "Requirement already satisfied: keras-preprocessing>=1.1.1 in c:\\users\\jtlee\\anaconda3\\envs\\ds-env\\lib\\site-packages (from tensorflow) (1.1.2)\n",
      "Requirement already satisfied: libclang>=13.0.0 in c:\\users\\jtlee\\anaconda3\\envs\\ds-env\\lib\\site-packages (from tensorflow) (18.1.1)\n",
      "Requirement already satisfied: numpy>=1.20 in c:\\users\\jtlee\\anaconda3\\envs\\ds-env\\lib\\site-packages (from tensorflow) (1.26.4)\n",
      "Requirement already satisfied: opt-einsum>=2.3.2 in c:\\users\\jtlee\\anaconda3\\envs\\ds-env\\lib\\site-packages (from tensorflow) (3.4.0)\n",
      "Requirement already satisfied: packaging in c:\\users\\jtlee\\anaconda3\\envs\\ds-env\\lib\\site-packages (from tensorflow) (24.2)\n",
      "Requirement already satisfied: protobuf<3.20,>=3.9.2 in c:\\users\\jtlee\\anaconda3\\envs\\ds-env\\lib\\site-packages (from tensorflow) (3.19.6)\n",
      "Requirement already satisfied: setuptools in c:\\users\\jtlee\\anaconda3\\envs\\ds-env\\lib\\site-packages (from tensorflow) (78.1.1)\n",
      "Requirement already satisfied: six>=1.12.0 in c:\\users\\jtlee\\anaconda3\\envs\\ds-env\\lib\\site-packages (from tensorflow) (1.17.0)\n",
      "Requirement already satisfied: termcolor>=1.1.0 in c:\\users\\jtlee\\anaconda3\\envs\\ds-env\\lib\\site-packages (from tensorflow) (3.1.0)\n",
      "Requirement already satisfied: typing-extensions>=3.6.6 in c:\\users\\jtlee\\anaconda3\\envs\\ds-env\\lib\\site-packages (from tensorflow) (4.12.2)\n",
      "Requirement already satisfied: wrapt>=1.11.0 in c:\\users\\jtlee\\anaconda3\\envs\\ds-env\\lib\\site-packages (from tensorflow) (1.17.2)\n",
      "Requirement already satisfied: tensorflow-io-gcs-filesystem>=0.23.1 in c:\\users\\jtlee\\anaconda3\\envs\\ds-env\\lib\\site-packages (from tensorflow) (0.31.0)\n",
      "Requirement already satisfied: grpcio<2.0,>=1.24.3 in c:\\users\\jtlee\\anaconda3\\envs\\ds-env\\lib\\site-packages (from tensorflow) (1.73.1)\n",
      "Requirement already satisfied: tensorboard<2.11,>=2.10 in c:\\users\\jtlee\\anaconda3\\envs\\ds-env\\lib\\site-packages (from tensorflow) (2.10.1)\n",
      "Requirement already satisfied: tensorflow-estimator<2.11,>=2.10.0 in c:\\users\\jtlee\\anaconda3\\envs\\ds-env\\lib\\site-packages (from tensorflow) (2.10.0)\n",
      "Requirement already satisfied: keras<2.11,>=2.10.0 in c:\\users\\jtlee\\anaconda3\\envs\\ds-env\\lib\\site-packages (from tensorflow) (2.10.0)\n",
      "Requirement already satisfied: google-auth<3,>=1.6.3 in c:\\users\\jtlee\\anaconda3\\envs\\ds-env\\lib\\site-packages (from tensorboard<2.11,>=2.10->tensorflow) (2.40.3)\n",
      "Requirement already satisfied: google-auth-oauthlib<0.5,>=0.4.1 in c:\\users\\jtlee\\anaconda3\\envs\\ds-env\\lib\\site-packages (from tensorboard<2.11,>=2.10->tensorflow) (0.4.6)\n",
      "Requirement already satisfied: markdown>=2.6.8 in c:\\users\\jtlee\\anaconda3\\envs\\ds-env\\lib\\site-packages (from tensorboard<2.11,>=2.10->tensorflow) (3.8.2)\n",
      "Requirement already satisfied: requests<3,>=2.21.0 in c:\\users\\jtlee\\anaconda3\\envs\\ds-env\\lib\\site-packages (from tensorboard<2.11,>=2.10->tensorflow) (2.32.4)\n",
      "Requirement already satisfied: tensorboard-data-server<0.7.0,>=0.6.0 in c:\\users\\jtlee\\anaconda3\\envs\\ds-env\\lib\\site-packages (from tensorboard<2.11,>=2.10->tensorflow) (0.6.1)\n",
      "Requirement already satisfied: tensorboard-plugin-wit>=1.6.0 in c:\\users\\jtlee\\anaconda3\\envs\\ds-env\\lib\\site-packages (from tensorboard<2.11,>=2.10->tensorflow) (1.8.1)\n",
      "Requirement already satisfied: werkzeug>=1.0.1 in c:\\users\\jtlee\\anaconda3\\envs\\ds-env\\lib\\site-packages (from tensorboard<2.11,>=2.10->tensorflow) (3.1.3)\n",
      "Requirement already satisfied: wheel>=0.26 in c:\\users\\jtlee\\anaconda3\\envs\\ds-env\\lib\\site-packages (from tensorboard<2.11,>=2.10->tensorflow) (0.45.1)\n",
      "Requirement already satisfied: cachetools<6.0,>=2.0.0 in c:\\users\\jtlee\\anaconda3\\envs\\ds-env\\lib\\site-packages (from google-auth<3,>=1.6.3->tensorboard<2.11,>=2.10->tensorflow) (5.5.2)\n",
      "Requirement already satisfied: pyasn1-modules>=0.2.1 in c:\\users\\jtlee\\anaconda3\\envs\\ds-env\\lib\\site-packages (from google-auth<3,>=1.6.3->tensorboard<2.11,>=2.10->tensorflow) (0.4.2)\n",
      "Requirement already satisfied: rsa<5,>=3.1.4 in c:\\users\\jtlee\\anaconda3\\envs\\ds-env\\lib\\site-packages (from google-auth<3,>=1.6.3->tensorboard<2.11,>=2.10->tensorflow) (4.9.1)\n",
      "Requirement already satisfied: requests-oauthlib>=0.7.0 in c:\\users\\jtlee\\anaconda3\\envs\\ds-env\\lib\\site-packages (from google-auth-oauthlib<0.5,>=0.4.1->tensorboard<2.11,>=2.10->tensorflow) (2.0.0)\n",
      "Requirement already satisfied: charset_normalizer<4,>=2 in c:\\users\\jtlee\\anaconda3\\envs\\ds-env\\lib\\site-packages (from requests<3,>=2.21.0->tensorboard<2.11,>=2.10->tensorflow) (3.3.2)\n",
      "Requirement already satisfied: idna<4,>=2.5 in c:\\users\\jtlee\\anaconda3\\envs\\ds-env\\lib\\site-packages (from requests<3,>=2.21.0->tensorboard<2.11,>=2.10->tensorflow) (3.7)\n",
      "Requirement already satisfied: urllib3<3,>=1.21.1 in c:\\users\\jtlee\\anaconda3\\envs\\ds-env\\lib\\site-packages (from requests<3,>=2.21.0->tensorboard<2.11,>=2.10->tensorflow) (2.5.0)\n",
      "Requirement already satisfied: certifi>=2017.4.17 in c:\\users\\jtlee\\anaconda3\\envs\\ds-env\\lib\\site-packages (from requests<3,>=2.21.0->tensorboard<2.11,>=2.10->tensorflow) (2025.6.15)\n",
      "Requirement already satisfied: pyasn1>=0.1.3 in c:\\users\\jtlee\\anaconda3\\envs\\ds-env\\lib\\site-packages (from rsa<5,>=3.1.4->google-auth<3,>=1.6.3->tensorboard<2.11,>=2.10->tensorflow) (0.6.1)\n",
      "Requirement already satisfied: tf-keras>=2.14.1 in c:\\users\\jtlee\\anaconda3\\envs\\ds-env\\lib\\site-packages (from tensorflow-hub) (2.15.0)\n",
      "Requirement already satisfied: importlib-metadata>=4.4 in c:\\users\\jtlee\\anaconda3\\envs\\ds-env\\lib\\site-packages (from markdown>=2.6.8->tensorboard<2.11,>=2.10->tensorflow) (8.5.0)\n",
      "Requirement already satisfied: zipp>=3.20 in c:\\users\\jtlee\\anaconda3\\envs\\ds-env\\lib\\site-packages (from importlib-metadata>=4.4->markdown>=2.6.8->tensorboard<2.11,>=2.10->tensorflow) (3.21.0)\n",
      "Requirement already satisfied: oauthlib>=3.0.0 in c:\\users\\jtlee\\anaconda3\\envs\\ds-env\\lib\\site-packages (from requests-oauthlib>=0.7.0->google-auth-oauthlib<0.5,>=0.4.1->tensorboard<2.11,>=2.10->tensorflow) (3.3.1)\n",
      "Requirement already satisfied: MarkupSafe>=2.1.1 in c:\\users\\jtlee\\anaconda3\\envs\\ds-env\\lib\\site-packages (from werkzeug>=1.0.1->tensorboard<2.11,>=2.10->tensorflow) (3.0.2)\n"
     ]
    }
   ],
   "source": [
    "# Install TensorFlow and TensorFlow Hub\n",
    "!pip install tensorflow tensorflow-hub tensorflow-text"
   ]
  },
  {
   "cell_type": "code",
   "execution_count": 3,
   "id": "c5940cd9",
   "metadata": {},
   "outputs": [],
   "source": [
    "import os\n",
    "# Need to run to make latest TF version work with TF hub\n",
    "os.environ['TF_USE_LEGACY_KERAS'] = '1'\n",
    "\n",
    "import tensorflow as tf\n",
    "import tensorflow_hub as hub\n",
    "import tensorflow_text as text\n",
    "import numpy as np\n",
    "import matplotlib.pyplot as plt\n",
    "from sklearn.model_selection import train_test_split"
   ]
  },
  {
   "cell_type": "markdown",
   "id": "d947343a",
   "metadata": {},
   "source": [
    "The libraries we're importing serve specific purposes:\n",
    "\n",
    "tensorflow is our core ML framework\n",
    "tensorflow_hub provides access to pre-trained models\n",
    "tensorflow_text handles text preprocessing for BERT\n",
    "numpy provides numerical computing functionality\n",
    "matplotlib.pyplot will help us visualize training results\n",
    "train_test_split from scikit-learn will help create validation sets"
   ]
  },
  {
   "cell_type": "markdown",
   "id": "9887efe7",
   "metadata": {},
   "source": [
    "Data quality is crucial for successful fine-tuning. In this step, we load the IMDB movie reviews dataset, which contains labeled movie reviews as either positive (1) or negative (0). We need to convert these reviews from their encoded format back to text, which BERT can process."
   ]
  },
  {
   "cell_type": "code",
   "execution_count": 4,
   "id": "e80021ab",
   "metadata": {},
   "outputs": [],
   "source": [
    "# Load the IMDB dataset\n",
    "(x_train, y_train), (x_test, y_test) = tf.keras.datasets.imdb.load_data()\n",
    "\n",
    "# Get word index mapping\n",
    "word_index = tf.keras.datasets.imdb.get_word_index()\n",
    "word_index = {k:(v+3) for k,v in word_index.items()}\n",
    "word_index[\"<PAD>\"] = 0\n",
    "word_index[\"<START>\"] = 1\n",
    "word_index[\"<UNK>\"] = 2\n",
    "word_index[\"<UNUSED>\"] = 3\n",
    "\n",
    "# Reverse word index to convert numbers back to words\n",
    "reverse_word_index = dict([(value, key) for (key, value) in word_index.items()])\n",
    "\n",
    "# Function to decode reviews back to text\n",
    "def decode_review(text):\n",
    "    return ' '.join([reverse_word_index.get(i, '?') for i in text])\n",
    "\n",
    "# Convert indices back to text\n",
    "train_texts = [decode_review(review) for review in x_train]\n",
    "test_texts = [decode_review(review) for review in x_test]\n",
    "\n",
    "# Labels good as is (arrays)\n",
    "train_labels = y_train\n",
    "test_labels = y_test"
   ]
  },
  {
   "cell_type": "markdown",
   "id": "de548418",
   "metadata": {},
   "source": [
    "This code does several important things:\n",
    "\n",
    "It loads the IMDB dataset where reviews are encoded as sequences of word indices\n",
    "It retrieves the word index mapping and adds special tokens\n",
    "It creates a reverse mapping to convert indices back to words\n",
    "It defines a function to decode reviews from numerical format back to text\n",
    "It applies this function to convert all reviews to text format"
   ]
  },
  {
   "cell_type": "code",
   "execution_count": 5,
   "id": "828a3a80",
   "metadata": {},
   "outputs": [
    {
     "name": "stdout",
     "output_type": "stream",
     "text": [
      "Training examples: 20000\n",
      "Validation examples: 5000\n",
      "Testing examples: 25000\n"
     ]
    }
   ],
   "source": [
    "# Create validation set from training data\n",
    "train_texts, val_texts, train_labels, val_labels = train_test_split(\n",
    "    train_texts, train_labels, test_size=0.2, random_state=42)\n",
    "\n",
    "print(f\"Training examples: {len(train_texts)}\")\n",
    "print(f\"Validation examples: {len(val_texts)}\")\n",
    "print(f\"Testing examples: {len(test_texts)}\")"
   ]
  },
  {
   "cell_type": "markdown",
   "id": "cf0cf2cb",
   "metadata": {},
   "source": [
    "Creating a validation set is crucial for monitoring model performance during training and preventing overfitting. We split 20% of the training data to serve as a validation set, using a fixed random seed (42) to ensure reproducibility."
   ]
  },
  {
   "cell_type": "markdown",
   "id": "632cca84",
   "metadata": {},
   "source": [
    "This step involves two critical decisions: selecting an appropriate pre-trained BERT model and setting up efficient data pipelines. The choice of model balances accuracy with computational requirements."
   ]
  },
  {
   "cell_type": "code",
   "execution_count": 6,
   "id": "69d335d4",
   "metadata": {},
   "outputs": [
    {
     "name": "stdout",
     "output_type": "stream",
     "text": [
      "BERT model selected: https://tfhub.dev/tensorflow/small_bert/bert_en_uncased_L-4_H-512_A-8/1\n",
      "Preprocessing model: https://tfhub.dev/tensorflow/bert_en_uncased_preprocess/3\n"
     ]
    }
   ],
   "source": [
    "# Select a smaller BERT model for faster fine-tuning\n",
    "bert_model_name = 'small_bert/bert_en_uncased_L-4_H-512_A-8'\n",
    "\n",
    "# Load preprocessing model and BERT model from TensorFlow Hub\n",
    "map_name_to_handle = {\n",
    "    'small_bert/bert_en_uncased_L-4_H-512_A-8': 'https://tfhub.dev/tensorflow/small_bert/bert_en_uncased_L-4_H-512_A-8/1',\n",
    "}\n",
    "map_model_to_preprocess = {\n",
    "    'small_bert/bert_en_uncased_L-4_H-512_A-8': 'https://tfhub.dev/tensorflow/bert_en_uncased_preprocess/3',\n",
    "}\n",
    "\n",
    "tfhub_handle_encoder = map_name_to_handle[bert_model_name]\n",
    "tfhub_handle_preprocess = map_model_to_preprocess[bert_model_name]\n",
    "\n",
    "print(f\"BERT model selected: {tfhub_handle_encoder}\")\n",
    "print(f\"Preprocessing model: {tfhub_handle_preprocess}\")"
   ]
  },
  {
   "cell_type": "markdown",
   "id": "a96ca3c4",
   "metadata": {},
   "source": [
    "Here we're selecting a smaller BERT variant with 4 layers, 512 hidden dimensions, and 8 attention heads. This provides a good balance between performance and speed for our sentiment analysis task. Each BERT model requires a specific preprocessing model that handles tokenization in a consistent way, so we load both from TensorFlow Hub.\n",
    "\n",
    "The notation \"L-4_H-512_A-8\" tells us:\n",
    "\n",
    "L-4: 4 transformer layers (compared to 12 in BERT-base)\n",
    "H-512: 512-dimensional hidden states (compared to 768 in BERT-base)\n",
    "A-8: 8 attention heads (compared to 12 in BERT-base)\n",
    "Create a function to convert text to TensorFlow datasets:"
   ]
  },
  {
   "cell_type": "code",
   "execution_count": 7,
   "id": "ee5daa43",
   "metadata": {},
   "outputs": [],
   "source": [
    "# Create TensorFlow datasets\n",
    "def create_dataset(texts, labels, batch_size=32, shuffle=True):\n",
    "   dataset = tf.data.Dataset.from_tensor_slices((texts, labels))\n",
    "   if shuffle:\n",
    "       dataset = dataset.shuffle(len(texts))\n",
    "   dataset = dataset.batch(batch_size)\n",
    "   dataset = dataset.prefetch(tf.data.AUTOTUNE)\n",
    "   return dataset\n",
    "\n",
    "\n",
    "# Create train, validation, and test datasets\n",
    "train_dataset = create_dataset(train_texts, train_labels)\n",
    "val_dataset = create_dataset(val_texts, val_labels)\n",
    "test_dataset = create_dataset(test_texts, y_test, shuffle=False)"
   ]
  },
  {
   "cell_type": "markdown",
   "id": "f7620f6c",
   "metadata": {},
   "source": [
    " Efficient data loading is crucial for training performance. The create_dataset function performs several optimizations:\n",
    "\n",
    "Creates a TensorFlow Dataset from text and labels\n",
    "Shuffles data to prevent learning order-specific patterns\n",
    "Batches examples for parallel processing (32 examples per batch)\n",
    "Enables prefetching to overlap preprocessing and model execution\n",
    "Important to NOT shuffle the testing data for accurate evaluation\n",
    "These optimizations ensure that data loading doesn't become a bottleneck during training with tensorflow."
   ]
  },
  {
   "cell_type": "markdown",
   "id": "e962e6ad",
   "metadata": {},
   "source": [
    "In this step, we design the model architecture by combining the pre-trained BERT model with task-specific layers for sentiment classification. BERT handles the text understanding, while our added layers adapt that understanding to our specific task."
   ]
  },
  {
   "cell_type": "code",
   "execution_count": 8,
   "id": "2682f7e5",
   "metadata": {},
   "outputs": [
    {
     "name": "stdout",
     "output_type": "stream",
     "text": [
      "Model: \"model\"\n",
      "__________________________________________________________________________________________________\n",
      " Layer (type)                   Output Shape         Param #     Connected to                     \n",
      "==================================================================================================\n",
      " text (InputLayer)              [(None,)]            0           []                               \n",
      "                                                                                                  \n",
      " preprocessing (KerasLayer)     {'input_type_ids':   0           ['text[0][0]']                   \n",
      "                                (None, 128),                                                      \n",
      "                                 'input_mask': (Non                                               \n",
      "                                e, 128),                                                          \n",
      "                                 'input_word_ids':                                                \n",
      "                                (None, 128)}                                                      \n",
      "                                                                                                  \n",
      " BERT_encoder (KerasLayer)      {'default': (None,   28763649    ['preprocessing[0][0]',          \n",
      "                                512),                             'preprocessing[0][1]',          \n",
      "                                 'sequence_output':               'preprocessing[0][2]']          \n",
      "                                 (None, 128, 512),                                                \n",
      "                                 'pooled_output': (                                               \n",
      "                                None, 512),                                                       \n",
      "                                 'encoder_outputs':                                               \n",
      "                                 [(None, 128, 512),                                               \n",
      "                                 (None, 128, 512),                                                \n",
      "                                 (None, 128, 512),                                                \n",
      "                                 (None, 128, 512)]}                                               \n",
      "                                                                                                  \n",
      " dropout (Dropout)              (None, 512)          0           ['BERT_encoder[0][5]']           \n",
      "                                                                                                  \n",
      " classifier (Dense)             (None, 1)            513         ['dropout[0][0]']                \n",
      "                                                                                                  \n",
      "==================================================================================================\n",
      "Total params: 28,764,162\n",
      "Trainable params: 513\n",
      "Non-trainable params: 28,763,649\n",
      "__________________________________________________________________________________________________\n"
     ]
    }
   ],
   "source": [
    "def build_classifier_model():\n",
    "   # Text input\n",
    "   text_input = tf.keras.layers.Input(shape=(), dtype=tf.string, name='text')\n",
    "  \n",
    "   # Preprocessing layer (tokenization, etc.)\n",
    "   preprocessing_layer = hub.KerasLayer(tfhub_handle_preprocess, name='preprocessing')\n",
    "   encoder_inputs = preprocessing_layer(text_input)\n",
    "  \n",
    "   # BERT encoder\n",
    "   encoder = hub.KerasLayer(tfhub_handle_encoder, trainable=False, name='BERT_encoder')\n",
    "   # For time sake we will set the BERT parameters to not be trained and only optimize the dense layer weights from the classification head\n",
    "   outputs = encoder(encoder_inputs)\n",
    "  \n",
    "   # Use the pooled output for sequence classification\n",
    "   net = outputs['pooled_output']\n",
    "  \n",
    "   # Add dropout for regularization\n",
    "   net = tf.keras.layers.Dropout(0.1)(net)\n",
    "  \n",
    "   # Add classification layer (binary for sentiment)\n",
    "   net = tf.keras.layers.Dense(1, activation='sigmoid', name='classifier')(net)\n",
    "  \n",
    "   # Create model\n",
    "   model = tf.keras.Model(text_input, net)\n",
    "   return model\n",
    "\n",
    "\n",
    "classifier_model = build_classifier_model()\n",
    "classifier_model.summary()"
   ]
  },
  {
   "cell_type": "markdown",
   "id": "fb980482",
   "metadata": {},
   "source": [
    "This function defines our model architecture with the following components:\n",
    "\n",
    "Text Input Layer: Accepts raw text strings\n",
    "Preprocessing Layer: Handles tokenization, adding special tokens, and creating attention masks\n",
    "BERT Encoder: The pre-trained BERT model that converts tokens to contextual embeddings\n",
    "Pooled Output: We use the special [CLS] token representation, which BERT provides as the 'pooled_output'\n",
    "Dropout Layer: Prevents overfitting by randomly zeroing 10% of activations during training\n",
    "Classification Layer: A single neuron dense layer for binary sentiment prediction with sigmoid activation\n",
    "Setting trainable=False for the BERT encoder prevents its weights from being updated during fine-tuning, enabling the model to solely adapt the weights in its classification head, reducing training time needed. Training the encoder weights can help the model learn the specific task but requires larges amounts of time and computation and risks overfitting by changing the pre-trained weights too much.\n",
    "\n",
    "The model.summary() call displays the architecture and shows the number of parameters in each layer. Most parameters are in the BERT encoder itself."
   ]
  },
  {
   "cell_type": "markdown",
   "id": "2bd8e270",
   "metadata": {},
   "source": [
    "This step involves configuring and executing the training process. Fine-tuning requires careful selection of hyperparameters to effectively adapt the pre-trained BERT model to our specific task without destroying its valuable pre-trained knowledge."
   ]
  },
  {
   "cell_type": "code",
   "execution_count": 9,
   "id": "91fe0c5b",
   "metadata": {},
   "outputs": [],
   "source": [
    "# Set up loss and metrics\n",
    "loss = tf.keras.losses.BinaryCrossentropy()\n",
    "metrics = [tf.keras.metrics.BinaryAccuracy('accuracy')]\n",
    "\n",
    "# Set up learning rate and optimizer\n",
    "init_lr = .0005\n",
    "optimizer = tf.keras.optimizers.legacy.Adam(learning_rate=init_lr)\n",
    "\n",
    "# Compile the model\n",
    "classifier_model.compile(optimizer=optimizer, loss=loss, metrics=metrics)\n",
    "\n",
    "# Set up callbacks\n",
    "early_stopping = tf.keras.callbacks.EarlyStopping(\n",
    "    monitor='val_accuracy',\n",
    "    patience=3,\n",
    "    restore_best_weights=True)"
   ]
  },
  {
   "cell_type": "markdown",
   "id": "c0172db0",
   "metadata": {},
   "source": [
    "The configuration includes several critical components:\n",
    "\n",
    "Loss Function: We use binary cross-entropy with from_logits=True since our model outputs raw logits rather than probabilities\n",
    "Metrics: Binary accuracy tracks the percentage of correctly classified examples\n",
    "Learning Rate: A small learning rate (3e-5) prevents catastrophic forgetting of pre-trained knowledge\n",
    "Optimizer: Adam combines advantages of AdaGrad and RMSProp optimizers with momentum\n",
    "Early Stopping: Prevents overfitting by stopping training when validation accuracy stops improving\n",
    "The small learning rate is particularly important for fine-tuning pre-trained models - too large a value would destroy the valuable information already in the weights.\n",
    "\n",
    "Train the model:"
   ]
  },
  {
   "cell_type": "code",
   "execution_count": 10,
   "id": "a3be8228",
   "metadata": {},
   "outputs": [
    {
     "name": "stdout",
     "output_type": "stream",
     "text": [
      "Fine-tuning BERT model...\n",
      "Epoch 1/5\n",
      "625/625 [==============================] - 55s 85ms/step - loss: 0.6259 - accuracy: 0.6445 - val_loss: 0.5604 - val_accuracy: 0.7178\n",
      "Epoch 2/5\n",
      "625/625 [==============================] - 54s 87ms/step - loss: 0.5511 - accuracy: 0.7207 - val_loss: 0.5298 - val_accuracy: 0.7412\n",
      "Epoch 3/5\n",
      "625/625 [==============================] - 55s 88ms/step - loss: 0.5335 - accuracy: 0.7347 - val_loss: 0.5202 - val_accuracy: 0.7470\n",
      "Epoch 4/5\n",
      "625/625 [==============================] - 55s 88ms/step - loss: 0.5253 - accuracy: 0.7395 - val_loss: 0.5124 - val_accuracy: 0.7474\n",
      "Epoch 5/5\n",
      "625/625 [==============================] - 55s 88ms/step - loss: 0.5204 - accuracy: 0.7421 - val_loss: 0.5118 - val_accuracy: 0.7468\n"
     ]
    }
   ],
   "source": [
    "print('Fine-tuning BERT model...')\n",
    "history = classifier_model.fit(\n",
    "    train_dataset,\n",
    "    validation_data=val_dataset,\n",
    "    epochs=5,\n",
    "    callbacks=[early_stopping])"
   ]
  },
  {
   "cell_type": "markdown",
   "id": "f3146679",
   "metadata": {},
   "source": [
    "The training process:\n",
    "\n",
    "Feeds batches of data through the model\n",
    "Computes loss based on model predictions vs. true labels\n",
    "Updates model weights to reduce the loss\n",
    "Validates performance on the validation set after each epoch\n",
    "Stores training metrics in the history object\n",
    "May stop early if validation performance plateaus\n",
    "We limit training to 50 epochs since fine-tuning typically requires fewer epochs than training from scratch."
   ]
  },
  {
   "cell_type": "code",
   "execution_count": 11,
   "id": "cc546d20",
   "metadata": {},
   "outputs": [
    {
     "data": {
      "image/png": "[encoded data removed]",
      "text/plain": [
       "<Figure size 1200x400 with 2 Axes>"
      ]
     },
     "metadata": {},
     "output_type": "display_data"
    }
   ],
   "source": [
    "# Plot training metrics\n",
    "def plot_history(history):\n",
    "    acc = history.history['accuracy']\n",
    "    val_acc = history.history['val_accuracy']\n",
    "    loss = history.history['loss']\n",
    "    val_loss = history.history['val_loss']\n",
    "    \n",
    "    plt.figure(figsize=(12, 4))\n",
    "    \n",
    "    plt.subplot(1, 2, 1)\n",
    "    plt.plot(acc, label='Training Accuracy')\n",
    "    plt.plot(val_acc, label='Validation Accuracy')\n",
    "    plt.xlabel('Epoch')\n",
    "    plt.ylabel('Accuracy')\n",
    "    plt.legend()\n",
    "    \n",
    "    plt.subplot(1, 2, 2)\n",
    "    plt.plot(loss, label='Training Loss')\n",
    "    plt.plot(val_loss, label='Validation Loss')\n",
    "    plt.xlabel('Epoch')\n",
    "    plt.ylabel('Loss')\n",
    "    plt.legend()\n",
    "    \n",
    "    plt.tight_layout()\n",
    "    plt.show()\n",
    "\n",
    "plot_history(history)"
   ]
  },
  {
   "cell_type": "markdown",
   "id": "f071939d",
   "metadata": {},
   "source": [
    "Visualization is crucial for understanding the training dynamics:\n",
    "\n",
    "Rising accuracy and falling loss indicate learning is occurring\n",
    "Diverging training and validation metrics suggest overfitting\n",
    "Validation metrics plateauing indicate diminishing returns from continued training\n",
    "These plots help us diagnose training issues and determine if the model needs further tuning. In our case it looks like 5 epochs was not enough as the model is clearly still learning!"
   ]
  },
  {
   "cell_type": "code",
   "execution_count": 12,
   "id": "55e60f04",
   "metadata": {},
   "outputs": [
    {
     "name": "stdout",
     "output_type": "stream",
     "text": [
      "782/782 [==============================] - 50s 64ms/step - loss: 0.5079 - accuracy: 0.7484\n",
      "Test accuracy: 0.748\n"
     ]
    }
   ],
   "source": [
    "# Evaluate the model on test data\n",
    "loss, accuracy = classifier_model.evaluate(test_dataset)\n",
    "print(f'Test accuracy: {accuracy:.3f}')"
   ]
  },
  {
   "cell_type": "markdown",
   "id": "d9d3c6ef",
   "metadata": {},
   "source": [
    "The evaluation process:\n",
    "\n",
    "Runs the entire test dataset through the model\n",
    "Computes the same loss and metrics defined during compilation\n",
    "Returns averaged values across all test examples\n",
    "Test accuracy gives us an unbiased estimate of how well our model will perform on new, unseen reviews. Unlike validation accuracy (which we used during training), test accuracy isn't influenced by our hyperparameter decisions since the test data wasn't used in the training process. We can take this further by looking at even more metrics, including the familiar confusion matrix and classification report."
   ]
  },
  {
   "cell_type": "code",
   "execution_count": 13,
   "id": "f6876a8b",
   "metadata": {},
   "outputs": [
    {
     "name": "stdout",
     "output_type": "stream",
     "text": [
      "782/782 [==============================] - 50s 63ms/step\n"
     ]
    },
    {
     "data": {
      "text/plain": [
       "<Figure size 1000x800 with 0 Axes>"
      ]
     },
     "metadata": {},
     "output_type": "display_data"
    },
    {
     "data": {
      "image/png": "[encoded data removed]",
      "text/plain": [
       "<Figure size 640x480 with 2 Axes>"
      ]
     },
     "metadata": {},
     "output_type": "display_data"
    },
    {
     "name": "stdout",
     "output_type": "stream",
     "text": [
      "\n",
      "Classification Report:\n",
      "              precision    recall  f1-score   support\n",
      "\n",
      "    Negative       0.72      0.81      0.76     12500\n",
      "    Positive       0.78      0.69      0.73     12500\n",
      "\n",
      "    accuracy                           0.75     25000\n",
      "   macro avg       0.75      0.75      0.75     25000\n",
      "weighted avg       0.75      0.75      0.75     25000\n",
      "\n"
     ]
    }
   ],
   "source": [
    "from sklearn.metrics import confusion_matrix, ConfusionMatrixDisplay, classification_report\n",
    "\n",
    "\n",
    "# Generate predictions for the test set\n",
    "test_predictions = classifier_model.predict(test_dataset)\n",
    "# Model predicts probability of class 1 via sigmoid output layer\n",
    "y_pred = [1 if pred >= 0.5 else 0 for pred in test_predictions]\n",
    "\n",
    "\n",
    "# Get true labels\n",
    "y_true = [labels.numpy() for _, labels in test_dataset.unbatch()]\n",
    "\n",
    "\n",
    "# Create and visualize the confusion matrix\n",
    "cm = confusion_matrix(y_true, y_pred)\n",
    "plt.figure(figsize=(10, 8))\n",
    "disp = ConfusionMatrixDisplay(confusion_matrix=cm, display_labels=['Negative', 'Positive'])\n",
    "disp.plot(cmap='Blues', values_format='d')\n",
    "plt.title('Confusion Matrix for BBC News Classification (TensorFlow)')\n",
    "plt.grid(False)\n",
    "plt.show()\n",
    "\n",
    "\n",
    "# Create classification report\n",
    "report = classification_report(y_true, y_pred, target_names=['Negative', 'Positive'], output_dict=True)\n",
    "print(\"\\nClassification Report:\")\n",
    "print(classification_report(y_true, y_pred, target_names=['Negative', 'Positive']))"
   ]
  },
  {
   "cell_type": "code",
   "execution_count": 14,
   "id": "b81f2685",
   "metadata": {},
   "outputs": [
    {
     "name": "stdout",
     "output_type": "stream",
     "text": [
      "1/1 [==============================] - 0s 387ms/step\n",
      "Text: This movie was excellent! The acting was stellar.\n",
      "Sentiment: Postive (0.5206)\n"
     ]
    }
   ],
   "source": [
    "# Create a function for model inference on new articles\n",
    "def predict_sentiment(text, model=classifier_model):\n",
    "   \"\"\"\n",
    "   Predict the category of a news article using the fine-tuned model.\n",
    "  \n",
    "   Args:\n",
    "       text (str): The text of the news article\n",
    "       model: The fine-tuned TensorFlow model\n",
    "      \n",
    "   Returns:\n",
    "       dict: Prediction results including category and confidence scores\n",
    "   \"\"\"\n",
    "   # Make prediction\n",
    "   prediction = model.predict([text])[0][0]\n",
    "  \n",
    "   # Get the predicted sentiment and confidence\n",
    "   predicted_sentiment = \"Postive\" if prediction >= 0.5 else \"Negative\"\n",
    "   confidence = float(prediction)\n",
    "  \n",
    "   return {\n",
    "       'text': text[:100] + '...' if len(text) > 100 else text,\n",
    "       'predicted_sentiment': predicted_sentiment,\n",
    "       'confidence': confidence\n",
    "   }\n",
    "  \n",
    "# Test the prediction function\n",
    "sample_text = \"This movie was excellent! The acting was stellar.\"\n",
    "predictions = predict_sentiment(sample_text)\n",
    "print(f\"Text: {predictions['text']}\")\n",
    "print(f\"Sentiment: {predictions['predicted_sentiment']} ({predictions['confidence']:.4f})\")"
   ]
  },
  {
   "cell_type": "markdown",
   "id": "1de79bd6",
   "metadata": {},
   "source": [
    "This function handles the prediction workflow:\n",
    "\n",
    "Accepts a single text string\n",
    "Passes the text through our model to get probabilities\n",
    "Classifies as positive or negative based on a 0.5 threshold\n",
    "Returns structured prediction results including text, probability/confidence, and sentiment label\n",
    "The function makes our model usable in practical applications by handling the input/output formatting and probability conversion. It can be easily integrated into larger systems like web applications or data processing pipelines."
   ]
  },
  {
   "cell_type": "markdown",
   "id": "78d5229b",
   "metadata": {},
   "source": [
    "The final step in our process is to save the trained model so it can be deployed in production environments. Proper model saving ensures that we can use our fine-tuned BERT model without retraining."
   ]
  },
  {
   "cell_type": "code",
   "execution_count": 15,
   "id": "e83aa8e7",
   "metadata": {},
   "outputs": [
    {
     "name": "stderr",
     "output_type": "stream",
     "text": [
      "WARNING:absl:Found untraced functions such as restored_function_body, restored_function_body, restored_function_body, restored_function_body, restored_function_body while saving (showing 5 of 124). These functions will not be directly callable after loading.\n"
     ]
    },
    {
     "name": "stdout",
     "output_type": "stream",
     "text": [
      "INFO:tensorflow:Assets written to: ./bert_sentiment_model_tf\\assets\n"
     ]
    },
    {
     "name": "stderr",
     "output_type": "stream",
     "text": [
      "INFO:tensorflow:Assets written to: ./bert_sentiment_model_tf\\assets\n"
     ]
    },
    {
     "name": "stdout",
     "output_type": "stream",
     "text": [
      "Model saved to ./bert_sentiment_model_tf\n"
     ]
    }
   ],
   "source": [
    "# Save the model\n",
    "model_save_path = \"./bert_sentiment_model_tf\"\n",
    "classifier_model.save(model_save_path)\n",
    "print(f\"Model saved to {model_save_path}\")"
   ]
  },
  {
   "cell_type": "markdown",
   "id": "70040b83",
   "metadata": {},
   "source": [
    "This command saves several components:\n",
    "\n",
    "The model architecture (network structure)\n",
    "The model weights (learned parameters)\n",
    "The training configuration (optimizer, loss, etc.)\n",
    "The state of all variables (if any)\n",
    "The saved model can be loaded later with tf.keras.models.load_model() and used for inference without needing access to the original code. The format is compatible with TensorFlow Serving, TensorFlow Lite, and other deployment tools.\n",
    "\n",
    "The saved model includes both the BERT model and our custom classification layer, so it's ready to make predictions on new text inputs. This is crucial for moving from experimentation to production, where the model might be deployed in a web service, mobile app, or batch processing system."
   ]
  },
  {
   "cell_type": "code",
   "execution_count": null,
   "id": "ebd49cec",
   "metadata": {},
   "outputs": [],
   "source": []
  }
 ],
 "metadata": {
  "kernelspec": {
   "display_name": "Python 3",
   "language": "python",
   "name": "python3"
  },
  "language_info": {
   "codemirror_mode": {
    "name": "ipython",
    "version": 3
   },
   "file_extension": ".py",
   "mimetype": "text/x-python",
   "name": "python",
   "nbconvert_exporter": "python",
   "pygments_lexer": "ipython3",
   "version": "3.9.18"
  }
 },
 "nbformat": 4,
 "nbformat_minor": 5
}
