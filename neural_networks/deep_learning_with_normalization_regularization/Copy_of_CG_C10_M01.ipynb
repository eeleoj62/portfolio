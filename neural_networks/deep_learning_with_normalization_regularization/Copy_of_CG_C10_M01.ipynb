{
  "cells": [
    {
      "cell_type": "markdown",
      "metadata": {
        "id": "Y7w4m40tUdtC"
      },
      "source": [
        "## Lab: Deep Learning with Normalization & Regularization"
      ]
    },
    {
      "cell_type": "markdown",
      "metadata": {
        "id": "JaoZK9VKUi8c"
      },
      "source": [
        "### Step 0: Import Libraries and Load the Dataset"
      ]
    },
    {
      "cell_type": "code",
      "execution_count": 2,
      "metadata": {
        "id": "dgVHChR6UcUZ"
      },
      "outputs": [],
      "source": [
        "# CodeGrade step0\n",
        "\n",
        "# 1. Import Libraries and Load the Dataset\n",
        "import pandas as pd\n",
        "import numpy as np\n",
        "import matplotlib.pyplot as plt\n",
        "import seaborn as sns\n",
        "import tensorflow as tf\n",
        "from tensorflow.keras import layers, regularizers\n",
        "from sklearn.datasets import load_breast_cancer\n",
        "from sklearn.model_selection import train_test_split\n",
        "from sklearn.preprocessing import StandardScaler"
      ]
    },
    {
      "cell_type": "markdown",
      "metadata": {
        "id": "vZj0njsaUwPe"
      },
      "source": [
        "### Step 1: Load and Preprocess the Data"
      ]
    },
    {
      "cell_type": "markdown",
      "metadata": {
        "id": "d2htq4DRSMc_"
      },
      "source": [
        "Replace the `None`s appropriately."
      ]
    },
    {
      "cell_type": "code",
      "execution_count": null,
      "metadata": {
        "id": "qLxT2ij6U_C6"
      },
      "outputs": [
        {
          "data": {
            "text/plain": [
              "((569, 30),\n",
              " (569,),\n",
              " array([212, 357], dtype=int64),\n",
              " (364, 30),\n",
              " (91, 30),\n",
              " (114, 30),\n",
              " (364, 30),\n",
              " (91, 30),\n",
              " (114, 30))"
            ]
          },
          "execution_count": 3,
          "metadata": {},
          "output_type": "execute_result"
        }
      ],
      "source": [
        "# CodeGrade step1\n",
        "\n",
        "# Load Breast Cancer dataset\n",
        "data = load_breast_cancer()\n",
        "X = data.data\n",
        "y = data.target\n",
        "\n",
        "# Create Training, Validation, and Test Splits\n",
        "# create train test split\n",
        "X_train, X_test, y_train, y_test = train_test_split(\n",
        "    X, y, test_size=0.2, random_state=42\n",
        ")\n",
        "\n",
        "# further split train data into train and validation sets\n",
        "X_train_final, X_val, y_train_final, y_val = train_test_split(\n",
        "    X_train, y_train, test_size=0.2, random_state=42\n",
        ")\n",
        "\n",
        "# Normalize the Data\n",
        "scaler = StandardScaler()\n",
        "scaler.fit(X_train_final)\n",
        "\n",
        "# scale all X data\n",
        "X_train_scaled = scaler.transform(X_train_final)\n",
        "X_val_scaled   = scaler.transform(X_val)\n",
        "X_test_scaled  = scaler.transform(X_test)\n",
        "\n",
        "# Shapes and class distribution\n",
        "X.shape,  y.shape, np.bincount(y), X_train_final.shape, X_val.shape, X_test.shape, X_train_scaled.shape, X_val_scaled.shape, X_test_scaled.shape\n"
      ]
    },
    {
      "cell_type": "markdown",
      "metadata": {
        "id": "Oai4pw8TU8YX"
      },
      "source": [
        "### Step 2: Build a Baseline Model"
      ]
    },
    {
      "cell_type": "markdown",
      "metadata": {
        "id": "GyxuY_MzSgSH"
      },
      "source": [
        "* Create a sequential model using Keras.\n",
        "\n",
        "* Add a dense layer with 32 neurons, using the ReLU activation function and set the input shape to match the number of features in your training dataset.\n",
        "\n",
        "* Add a second dense layer with 16 neurons, again using the ReLU activation function.\n",
        "\n",
        "* Add a final dense layer with 1 neuron and a sigmoid activation function to produce a binary classification output.\n",
        "\n",
        "* Compile the model by specifying the Adam optimizer, binary crossentropy as the loss function, and include accuracy as a metric.\n",
        "\n",
        "* Fit the model using your scaled training data and corresponding labels, and provide the scaled validation data for performance monitoring. Set the training to run for 50 epochs with a batch size of 32 and keep the output minimal by setting verbosity to 0.\n",
        "\n",
        "* Evaluate the trained model on the scaled validation data to obtain the validation loss and accuracy.\n",
        "\n",
        "* Verify that the validation accuracy, when rounded to two decimal places, exceeds 90%."
      ]
    },
    {
      "cell_type": "code",
      "execution_count": null,
      "metadata": {
        "id": "-1Z656qTVPo4"
      },
      "outputs": [
        {
          "name": "stderr",
          "output_type": "stream",
          "text": [
            "c:\\Users\\eeleoj62\\anaconda3\\Lib\\site-packages\\keras\\src\\layers\\core\\dense.py:93: UserWarning: Do not pass an `input_shape`/`input_dim` argument to a layer. When using Sequential models, prefer using an `Input(shape)` object as the first layer in the model instead.\n",
            "  super().__init__(activity_regularizer=activity_regularizer, **kwargs)\n"
          ]
        },
        {
          "data": {
            "text/plain": [
              "True"
            ]
          },
          "execution_count": 4,
          "metadata": {},
          "output_type": "execute_result"
        }
      ],
      "source": [
        "# CodeGrade step2\n",
        "\n",
        "# Build a Baseline Model (No BatchNorm or Regularization)\n",
        "baseline_model = tf.keras.Sequential([\n",
        "    layers.Dense(32, activation='relu', input_shape=(X_train_scaled.shape[1],)),                            # create first dense layer witih 32 neurons and relu activation to introduce non-linearity\n",
        "    layers.Dense(16, activation='relu'),    # create 2nd hidden layer with 16 neurons and relu activation\n",
        "    layers.Dense(1, activation='sigmoid')   # output layer for binary classification of breast cancer or not, sigmoid outputs probability for binary 0-1 \n",
        "])\n",
        "\n",
        "baseline_model.compile(\n",
        "    optimizer='adam',           # adamused to combine momentum and adaptive learning rates\n",
        "    loss='binary_crossentropy', # binary cross entropy used for binary classification where target is 0 or 1\n",
        "    metrics=['accuracy']        # monitoring how often the model predicts the correct label\n",
        ")\n",
        "\n",
        "history_baseline = baseline_model.fit(\n",
        "    X_train_scaled, y_train_final,          # training features and labels\n",
        "    validation_data=(X_val_scaled, y_val),  # val set for monitoring generalization \n",
        "    epochs=50,              # train for 50 complete passes over training data\n",
        "    batch_size=32,          # process 32 samples ata time\n",
        "    verbose=0               # suppress training output\n",
        ")\n",
        "\n",
        "# Evaluate Baseline on Validation\n",
        "val_loss_base, val_acc_base = baseline_model.evaluate(X_val_scaled, y_val, verbose=0)\n",
        "round(val_acc_base,2) > 0.9"
      ]
    },
    {
      "cell_type": "markdown",
      "metadata": {
        "id": "KXSIPfQWVYwN"
      },
      "source": [
        "### Step 3: Integrate Batch Normalization"
      ]
    },
    {
      "cell_type": "markdown",
      "metadata": {
        "id": "22XY9i7NTOat"
      },
      "source": [
        "- Create a sequential model using TensorFlow’s Keras API.\n",
        "- Add a dense layer with 32 neurons, using a linear activation function, and specify the input shape to match your training data.\n",
        "- Immediately add a Batch Normalization layer to standardize the outputs from the previous layer.\n",
        "- Follow this with an Activation layer applying the ReLU activation function.\n",
        "- Add another dense layer with 16 neurons, using a linear activation function.\n",
        "- Again, insert a Batch Normalization layer after the dense layer.\n",
        "- Add another Activation layer with ReLU to introduce non-linearity.\n",
        "- Add a final dense layer with 1 neuron and a sigmoid activation function to provide a binary output.\n",
        "- Compile the model using the Adam optimizer, binary crossentropy as the loss function, and include accuracy as a performance metric.\n",
        "- Train (fit) the model using the scaled training data and the corresponding labels, and use the scaled validation data to monitor performance during training. Set the training to run for 50 epochs with a batch size of 32 and minimal verbosity.\n",
        "- Evaluate the trained model on the scaled validation data to obtain the loss and accuracy.\n",
        "- Ensure that the validation accuracy, when rounded to two decimal places, exceeds 90%."
      ]
    },
    {
      "cell_type": "code",
      "execution_count": null,
      "metadata": {
        "id": "c93PiY19VaEU"
      },
      "outputs": [
        {
          "name": "stdout",
          "output_type": "stream",
          "text": [
            "Epoch 1/50\n",
            "\u001b[1m12/12\u001b[0m \u001b[32m━━━━━━━━━━━━━━━━━━━━\u001b[0m\u001b[37m\u001b[0m \u001b[1m3s\u001b[0m 47ms/step - accuracy: 0.6570 - loss: 0.6508 - val_accuracy: 0.6484 - val_loss: 0.6084\n",
            "Epoch 2/50\n",
            "\u001b[1m12/12\u001b[0m \u001b[32m━━━━━━━━━━━━━━━━━━━━\u001b[0m\u001b[37m\u001b[0m \u001b[1m0s\u001b[0m 16ms/step - accuracy: 0.8171 - loss: 0.4807 - val_accuracy: 0.8022 - val_loss: 0.4979\n",
            "Epoch 3/50\n",
            "\u001b[1m12/12\u001b[0m \u001b[32m━━━━━━━━━━━━━━━━━━━━\u001b[0m\u001b[37m\u001b[0m \u001b[1m0s\u001b[0m 18ms/step - accuracy: 0.8901 - loss: 0.3635 - val_accuracy: 0.8462 - val_loss: 0.4236\n",
            "Epoch 4/50\n",
            "\u001b[1m12/12\u001b[0m \u001b[32m━━━━━━━━━━━━━━━━━━━━\u001b[0m\u001b[37m\u001b[0m \u001b[1m0s\u001b[0m 19ms/step - accuracy: 0.9368 - loss: 0.2920 - val_accuracy: 0.8901 - val_loss: 0.3742\n",
            "Epoch 5/50\n",
            "\u001b[1m12/12\u001b[0m \u001b[32m━━━━━━━━━━━━━━━━━━━━\u001b[0m\u001b[37m\u001b[0m \u001b[1m1s\u001b[0m 36ms/step - accuracy: 0.9432 - loss: 0.2643 - val_accuracy: 0.8901 - val_loss: 0.3333\n",
            "Epoch 6/50\n",
            "\u001b[1m12/12\u001b[0m \u001b[32m━━━━━━━━━━━━━━━━━━━━\u001b[0m\u001b[37m\u001b[0m \u001b[1m0s\u001b[0m 34ms/step - accuracy: 0.9489 - loss: 0.2491 - val_accuracy: 0.9011 - val_loss: 0.3031\n",
            "Epoch 7/50\n",
            "\u001b[1m12/12\u001b[0m \u001b[32m━━━━━━━━━━━━━━━━━━━━\u001b[0m\u001b[37m\u001b[0m \u001b[1m0s\u001b[0m 22ms/step - accuracy: 0.9413 - loss: 0.2291 - val_accuracy: 0.9121 - val_loss: 0.2787\n",
            "Epoch 8/50\n",
            "\u001b[1m12/12\u001b[0m \u001b[32m━━━━━━━━━━━━━━━━━━━━\u001b[0m\u001b[37m\u001b[0m \u001b[1m0s\u001b[0m 24ms/step - accuracy: 0.9228 - loss: 0.2311 - val_accuracy: 0.9011 - val_loss: 0.2602\n",
            "Epoch 9/50\n",
            "\u001b[1m12/12\u001b[0m \u001b[32m━━━━━━━━━━━━━━━━━━━━\u001b[0m\u001b[37m\u001b[0m \u001b[1m0s\u001b[0m 16ms/step - accuracy: 0.9668 - loss: 0.2013 - val_accuracy: 0.9341 - val_loss: 0.2433\n",
            "Epoch 10/50\n",
            "\u001b[1m12/12\u001b[0m \u001b[32m━━━━━━━━━━━━━━━━━━━━\u001b[0m\u001b[37m\u001b[0m \u001b[1m0s\u001b[0m 18ms/step - accuracy: 0.9671 - loss: 0.1860 - val_accuracy: 0.9341 - val_loss: 0.2293\n",
            "Epoch 11/50\n",
            "\u001b[1m12/12\u001b[0m \u001b[32m━━━━━━━━━━━━━━━━━━━━\u001b[0m\u001b[37m\u001b[0m \u001b[1m0s\u001b[0m 12ms/step - accuracy: 0.9698 - loss: 0.1727 - val_accuracy: 0.9341 - val_loss: 0.2192\n",
            "Epoch 12/50\n",
            "\u001b[1m12/12\u001b[0m \u001b[32m━━━━━━━━━━━━━━━━━━━━\u001b[0m\u001b[37m\u001b[0m \u001b[1m0s\u001b[0m 14ms/step - accuracy: 0.9527 - loss: 0.1647 - val_accuracy: 0.9451 - val_loss: 0.2075\n",
            "Epoch 13/50\n",
            "\u001b[1m12/12\u001b[0m \u001b[32m━━━━━━━━━━━━━━━━━━━━\u001b[0m\u001b[37m\u001b[0m \u001b[1m0s\u001b[0m 14ms/step - accuracy: 0.9500 - loss: 0.1557 - val_accuracy: 0.9451 - val_loss: 0.1970\n",
            "Epoch 14/50\n",
            "\u001b[1m12/12\u001b[0m \u001b[32m━━━━━━━━━━━━━━━━━━━━\u001b[0m\u001b[37m\u001b[0m \u001b[1m1s\u001b[0m 38ms/step - accuracy: 0.9676 - loss: 0.1537 - val_accuracy: 0.9451 - val_loss: 0.1868\n",
            "Epoch 15/50\n",
            "\u001b[1m12/12\u001b[0m \u001b[32m━━━━━━━━━━━━━━━━━━━━\u001b[0m\u001b[37m\u001b[0m \u001b[1m1s\u001b[0m 40ms/step - accuracy: 0.9647 - loss: 0.1513 - val_accuracy: 0.9560 - val_loss: 0.1788\n",
            "Epoch 16/50\n",
            "\u001b[1m12/12\u001b[0m \u001b[32m━━━━━━━━━━━━━━━━━━━━\u001b[0m\u001b[37m\u001b[0m \u001b[1m1s\u001b[0m 35ms/step - accuracy: 0.9819 - loss: 0.1307 - val_accuracy: 0.9560 - val_loss: 0.1722\n",
            "Epoch 17/50\n",
            "\u001b[1m12/12\u001b[0m \u001b[32m━━━━━━━━━━━━━━━━━━━━\u001b[0m\u001b[37m\u001b[0m \u001b[1m1s\u001b[0m 35ms/step - accuracy: 0.9831 - loss: 0.1133 - val_accuracy: 0.9560 - val_loss: 0.1665\n",
            "Epoch 18/50\n",
            "\u001b[1m12/12\u001b[0m \u001b[32m━━━━━━━━━━━━━━━━━━━━\u001b[0m\u001b[37m\u001b[0m \u001b[1m0s\u001b[0m 15ms/step - accuracy: 0.9614 - loss: 0.1359 - val_accuracy: 0.9560 - val_loss: 0.1617\n",
            "Epoch 19/50\n",
            "\u001b[1m12/12\u001b[0m \u001b[32m━━━━━━━━━━━━━━━━━━━━\u001b[0m\u001b[37m\u001b[0m \u001b[1m0s\u001b[0m 15ms/step - accuracy: 0.9773 - loss: 0.1147 - val_accuracy: 0.9560 - val_loss: 0.1562\n",
            "Epoch 20/50\n",
            "\u001b[1m12/12\u001b[0m \u001b[32m━━━━━━━━━━━━━━━━━━━━\u001b[0m\u001b[37m\u001b[0m \u001b[1m0s\u001b[0m 16ms/step - accuracy: 0.9829 - loss: 0.1021 - val_accuracy: 0.9560 - val_loss: 0.1526\n",
            "Epoch 21/50\n",
            "\u001b[1m12/12\u001b[0m \u001b[32m━━━━━━━━━━━━━━━━━━━━\u001b[0m\u001b[37m\u001b[0m \u001b[1m0s\u001b[0m 15ms/step - accuracy: 0.9678 - loss: 0.1056 - val_accuracy: 0.9560 - val_loss: 0.1494\n",
            "Epoch 22/50\n",
            "\u001b[1m12/12\u001b[0m \u001b[32m━━━━━━━━━━━━━━━━━━━━\u001b[0m\u001b[37m\u001b[0m \u001b[1m0s\u001b[0m 16ms/step - accuracy: 0.9631 - loss: 0.1099 - val_accuracy: 0.9670 - val_loss: 0.1478\n",
            "Epoch 23/50\n",
            "\u001b[1m12/12\u001b[0m \u001b[32m━━━━━━━━━━━━━━━━━━━━\u001b[0m\u001b[37m\u001b[0m \u001b[1m0s\u001b[0m 17ms/step - accuracy: 0.9801 - loss: 0.0930 - val_accuracy: 0.9780 - val_loss: 0.1449\n",
            "Epoch 24/50\n",
            "\u001b[1m12/12\u001b[0m \u001b[32m━━━━━━━━━━━━━━━━━━━━\u001b[0m\u001b[37m\u001b[0m \u001b[1m0s\u001b[0m 17ms/step - accuracy: 0.9860 - loss: 0.0921 - val_accuracy: 0.9780 - val_loss: 0.1418\n",
            "Epoch 25/50\n",
            "\u001b[1m12/12\u001b[0m \u001b[32m━━━━━━━━━━━━━━━━━━━━\u001b[0m\u001b[37m\u001b[0m \u001b[1m0s\u001b[0m 20ms/step - accuracy: 0.9826 - loss: 0.0891 - val_accuracy: 0.9780 - val_loss: 0.1361\n",
            "Epoch 26/50\n",
            "\u001b[1m12/12\u001b[0m \u001b[32m━━━━━━━━━━━━━━━━━━━━\u001b[0m\u001b[37m\u001b[0m \u001b[1m0s\u001b[0m 25ms/step - accuracy: 0.9686 - loss: 0.1082 - val_accuracy: 0.9780 - val_loss: 0.1307\n",
            "Epoch 27/50\n",
            "\u001b[1m12/12\u001b[0m \u001b[32m━━━━━━━━━━━━━━━━━━━━\u001b[0m\u001b[37m\u001b[0m \u001b[1m1s\u001b[0m 39ms/step - accuracy: 0.9873 - loss: 0.0826 - val_accuracy: 0.9780 - val_loss: 0.1296\n",
            "Epoch 28/50\n",
            "\u001b[1m12/12\u001b[0m \u001b[32m━━━━━━━━━━━━━━━━━━━━\u001b[0m\u001b[37m\u001b[0m \u001b[1m0s\u001b[0m 29ms/step - accuracy: 0.9731 - loss: 0.0974 - val_accuracy: 0.9780 - val_loss: 0.1286\n",
            "Epoch 29/50\n",
            "\u001b[1m12/12\u001b[0m \u001b[32m━━━━━━━━━━━━━━━━━━━━\u001b[0m\u001b[37m\u001b[0m \u001b[1m1s\u001b[0m 37ms/step - accuracy: 0.9951 - loss: 0.0728 - val_accuracy: 0.9780 - val_loss: 0.1282\n",
            "Epoch 30/50\n",
            "\u001b[1m12/12\u001b[0m \u001b[32m━━━━━━━━━━━━━━━━━━━━\u001b[0m\u001b[37m\u001b[0m \u001b[1m0s\u001b[0m 17ms/step - accuracy: 0.9691 - loss: 0.1080 - val_accuracy: 0.9670 - val_loss: 0.1276\n",
            "Epoch 31/50\n",
            "\u001b[1m12/12\u001b[0m \u001b[32m━━━━━━━━━━━━━━━━━━━━\u001b[0m\u001b[37m\u001b[0m \u001b[1m1s\u001b[0m 39ms/step - accuracy: 0.9868 - loss: 0.0686 - val_accuracy: 0.9780 - val_loss: 0.1212\n",
            "Epoch 32/50\n",
            "\u001b[1m12/12\u001b[0m \u001b[32m━━━━━━━━━━━━━━━━━━━━\u001b[0m\u001b[37m\u001b[0m \u001b[1m0s\u001b[0m 28ms/step - accuracy: 0.9784 - loss: 0.0823 - val_accuracy: 0.9780 - val_loss: 0.1184\n",
            "Epoch 33/50\n",
            "\u001b[1m12/12\u001b[0m \u001b[32m━━━━━━━━━━━━━━━━━━━━\u001b[0m\u001b[37m\u001b[0m \u001b[1m1s\u001b[0m 40ms/step - accuracy: 0.9840 - loss: 0.0836 - val_accuracy: 0.9780 - val_loss: 0.1177\n",
            "Epoch 34/50\n",
            "\u001b[1m12/12\u001b[0m \u001b[32m━━━━━━━━━━━━━━━━━━━━\u001b[0m\u001b[37m\u001b[0m \u001b[1m0s\u001b[0m 31ms/step - accuracy: 0.9742 - loss: 0.0865 - val_accuracy: 0.9780 - val_loss: 0.1160\n",
            "Epoch 35/50\n",
            "\u001b[1m12/12\u001b[0m \u001b[32m━━━━━━━━━━━━━━━━━━━━\u001b[0m\u001b[37m\u001b[0m \u001b[1m0s\u001b[0m 34ms/step - accuracy: 0.9858 - loss: 0.0679 - val_accuracy: 0.9780 - val_loss: 0.1138\n",
            "Epoch 36/50\n",
            "\u001b[1m12/12\u001b[0m \u001b[32m━━━━━━━━━━━━━━━━━━━━\u001b[0m\u001b[37m\u001b[0m \u001b[1m1s\u001b[0m 36ms/step - accuracy: 0.9928 - loss: 0.0462 - val_accuracy: 0.9780 - val_loss: 0.1125\n",
            "Epoch 37/50\n",
            "\u001b[1m12/12\u001b[0m \u001b[32m━━━━━━━━━━━━━━━━━━━━\u001b[0m\u001b[37m\u001b[0m \u001b[1m0s\u001b[0m 25ms/step - accuracy: 0.9867 - loss: 0.0614 - val_accuracy: 0.9780 - val_loss: 0.1144\n",
            "Epoch 38/50\n",
            "\u001b[1m12/12\u001b[0m \u001b[32m━━━━━━━━━━━━━━━━━━━━\u001b[0m\u001b[37m\u001b[0m \u001b[1m0s\u001b[0m 25ms/step - accuracy: 0.9664 - loss: 0.0820 - val_accuracy: 0.9780 - val_loss: 0.1131\n",
            "Epoch 39/50\n",
            "\u001b[1m12/12\u001b[0m \u001b[32m━━━━━━━━━━━━━━━━━━━━\u001b[0m\u001b[37m\u001b[0m \u001b[1m0s\u001b[0m 25ms/step - accuracy: 0.9908 - loss: 0.0447 - val_accuracy: 0.9780 - val_loss: 0.1117\n",
            "Epoch 40/50\n",
            "\u001b[1m12/12\u001b[0m \u001b[32m━━━━━━━━━━━━━━━━━━━━\u001b[0m\u001b[37m\u001b[0m \u001b[1m0s\u001b[0m 13ms/step - accuracy: 0.9903 - loss: 0.0664 - val_accuracy: 0.9780 - val_loss: 0.1089\n",
            "Epoch 41/50\n",
            "\u001b[1m12/12\u001b[0m \u001b[32m━━━━━━━━━━━━━━━━━━━━\u001b[0m\u001b[37m\u001b[0m \u001b[1m0s\u001b[0m 18ms/step - accuracy: 0.9836 - loss: 0.0533 - val_accuracy: 0.9780 - val_loss: 0.1081\n",
            "Epoch 42/50\n",
            "\u001b[1m12/12\u001b[0m \u001b[32m━━━━━━━━━━━━━━━━━━━━\u001b[0m\u001b[37m\u001b[0m \u001b[1m0s\u001b[0m 21ms/step - accuracy: 0.9843 - loss: 0.0579 - val_accuracy: 0.9670 - val_loss: 0.1111\n",
            "Epoch 43/50\n",
            "\u001b[1m12/12\u001b[0m \u001b[32m━━━━━━━━━━━━━━━━━━━━\u001b[0m\u001b[37m\u001b[0m \u001b[1m0s\u001b[0m 21ms/step - accuracy: 0.9888 - loss: 0.0476 - val_accuracy: 0.9780 - val_loss: 0.1113\n",
            "Epoch 44/50\n",
            "\u001b[1m12/12\u001b[0m \u001b[32m━━━━━━━━━━━━━━━━━━━━\u001b[0m\u001b[37m\u001b[0m \u001b[1m0s\u001b[0m 17ms/step - accuracy: 0.9878 - loss: 0.0532 - val_accuracy: 0.9780 - val_loss: 0.1072\n",
            "Epoch 45/50\n",
            "\u001b[1m12/12\u001b[0m \u001b[32m━━━━━━━━━━━━━━━━━━━━\u001b[0m\u001b[37m\u001b[0m \u001b[1m0s\u001b[0m 20ms/step - accuracy: 0.9959 - loss: 0.0464 - val_accuracy: 0.9780 - val_loss: 0.1046\n",
            "Epoch 46/50\n",
            "\u001b[1m12/12\u001b[0m \u001b[32m━━━━━━━━━━━━━━━━━━━━\u001b[0m\u001b[37m\u001b[0m \u001b[1m0s\u001b[0m 21ms/step - accuracy: 0.9976 - loss: 0.0321 - val_accuracy: 0.9780 - val_loss: 0.1063\n",
            "Epoch 47/50\n",
            "\u001b[1m12/12\u001b[0m \u001b[32m━━━━━━━━━━━━━━━━━━━━\u001b[0m\u001b[37m\u001b[0m \u001b[1m0s\u001b[0m 18ms/step - accuracy: 0.9926 - loss: 0.0430 - val_accuracy: 0.9780 - val_loss: 0.1069\n",
            "Epoch 48/50\n",
            "\u001b[1m12/12\u001b[0m \u001b[32m━━━━━━━━━━━━━━━━━━━━\u001b[0m\u001b[37m\u001b[0m \u001b[1m0s\u001b[0m 19ms/step - accuracy: 0.9822 - loss: 0.0711 - val_accuracy: 0.9780 - val_loss: 0.1058\n",
            "Epoch 49/50\n",
            "\u001b[1m12/12\u001b[0m \u001b[32m━━━━━━━━━━━━━━━━━━━━\u001b[0m\u001b[37m\u001b[0m \u001b[1m0s\u001b[0m 18ms/step - accuracy: 0.9772 - loss: 0.0508 - val_accuracy: 0.9780 - val_loss: 0.1071\n",
            "Epoch 50/50\n",
            "\u001b[1m12/12\u001b[0m \u001b[32m━━━━━━━━━━━━━━━━━━━━\u001b[0m\u001b[37m\u001b[0m \u001b[1m0s\u001b[0m 23ms/step - accuracy: 0.9695 - loss: 0.0698 - val_accuracy: 0.9780 - val_loss: 0.1042\n"
          ]
        },
        {
          "data": {
            "text/plain": [
              "True"
            ]
          },
          "execution_count": 5,
          "metadata": {},
          "output_type": "execute_result"
        }
      ],
      "source": [
        "# CodeGrade step3\n",
        "\n",
        "# Integrate Batch Normalization\n",
        "model_bn = tf.keras.Sequential([\n",
        "    layers.Dense(32, activation='linear', input_shape=(X_train_scaled.shape[1],)),\n",
        "    layers.BatchNormalization(),    # batch normalization after linear activation and before Relu because it normalizes the raw output of the dense layer, applying relu after helps stabilize learning\n",
        "    layers.Activation('relu'),\n",
        "\n",
        "    layers.Dense(16, activation='linear'),\n",
        "    layers.BatchNormalization(),\n",
        "    layers.Activation('relu'),\n",
        "\n",
        "    layers.Dense(1, activation='sigmoid')\n",
        "])\n",
        "\n",
        "model_bn.compile(\n",
        "    optimizer='adam',\n",
        "    loss='binary_crossentropy',\n",
        "    metrics=['accuracy']\n",
        ")\n",
        "\n",
        "history_bn = model_bn.fit(\n",
        "    X_train_scaled, y_train_final,\n",
        "    validation_data=(X_val_scaled, y_val),\n",
        "    epochs=50,\n",
        "    batch_size=32,\n",
        "    verbose=1\n",
        ")\n",
        "\n",
        "# Evaluate BN Model on Validation\n",
        "val_loss_bn, val_acc_bn = model_bn.evaluate(X_val_scaled, y_val, verbose=0)\n",
        "round(val_acc_bn,2) > 0.9\n"
      ]
    },
    {
      "cell_type": "markdown",
      "metadata": {
        "id": "BWmYpWHIVnVR"
      },
      "source": [
        "### Step 4: Add L2 Regularization and Dropout"
      ]
    },
    {
      "cell_type": "markdown",
      "metadata": {
        "id": "W_zGcq0YT8Pt"
      },
      "source": [
        "- Define the regularization parameters: set the L2 regularization factor (l2_reg) to 1e-4 and the dropout rate to 0.3.\n",
        "- Create a sequential model using TensorFlow’s Keras API.\n",
        "- Add a dense layer with 32 neurons and ReLU activation, applying L2 regularization to its weights, and set the input shape to match the training data.\n",
        "- Insert a Dropout layer with the specified dropout rate to randomly disable a fraction of the neurons.\n",
        "- Add a second dense layer with 16 neurons and ReLU activation, also applying L2 regularization to its weights.\n",
        "- Follow this with another Dropout layer using the same dropout rate.\n",
        "- Add a final dense layer with 1 neuron and a sigmoid activation function for binary classification output.\n",
        "- Compile the model using the Adam optimizer, binary crossentropy as the loss function, and include accuracy as a metric.\n",
        "- Train the model using the scaled training data and corresponding labels, while validating on the scaled validation data. Set the training to run for 50 epochs with a batch size of 32 and minimal verbosity.\n",
        "- Evaluate the trained model on the validation data to obtain the loss and accuracy.\n",
        "- Confirm that the validation accuracy, when rounded to two decimal places, exceeds 90%."
      ]
    },
    {
      "cell_type": "code",
      "execution_count": null,
      "metadata": {
        "id": "tcXNLHLIVqfn"
      },
      "outputs": [
        {
          "name": "stdout",
          "output_type": "stream",
          "text": [
            "Epoch 1/50\n",
            "\u001b[1m12/12\u001b[0m \u001b[32m━━━━━━━━━━━━━━━━━━━━\u001b[0m\u001b[37m\u001b[0m \u001b[1m3s\u001b[0m 47ms/step - accuracy: 0.5125 - loss: 0.9772 - val_accuracy: 0.6593 - val_loss: 0.6398\n",
            "Epoch 2/50\n",
            "\u001b[1m12/12\u001b[0m \u001b[32m━━━━━━━━━━━━━━━━━━━━\u001b[0m\u001b[37m\u001b[0m \u001b[1m0s\u001b[0m 18ms/step - accuracy: 0.7469 - loss: 0.6573 - val_accuracy: 0.9121 - val_loss: 0.4541\n",
            "Epoch 3/50\n",
            "\u001b[1m12/12\u001b[0m \u001b[32m━━━━━━━━━━━━━━━━━━━━\u001b[0m\u001b[37m\u001b[0m \u001b[1m0s\u001b[0m 15ms/step - accuracy: 0.8140 - loss: 0.4504 - val_accuracy: 0.9121 - val_loss: 0.3653\n",
            "Epoch 4/50\n",
            "\u001b[1m12/12\u001b[0m \u001b[32m━━━━━━━━━━━━━━━━━━━━\u001b[0m\u001b[37m\u001b[0m \u001b[1m0s\u001b[0m 16ms/step - accuracy: 0.8671 - loss: 0.3760 - val_accuracy: 0.9231 - val_loss: 0.3038\n",
            "Epoch 5/50\n",
            "\u001b[1m12/12\u001b[0m \u001b[32m━━━━━━━━━━━━━━━━━━━━\u001b[0m\u001b[37m\u001b[0m \u001b[1m0s\u001b[0m 12ms/step - accuracy: 0.9058 - loss: 0.3237 - val_accuracy: 0.9231 - val_loss: 0.2605\n",
            "Epoch 6/50\n",
            "\u001b[1m12/12\u001b[0m \u001b[32m━━━━━━━━━━━━━━━━━━━━\u001b[0m\u001b[37m\u001b[0m \u001b[1m0s\u001b[0m 20ms/step - accuracy: 0.9296 - loss: 0.2583 - val_accuracy: 0.9231 - val_loss: 0.2321\n",
            "Epoch 7/50\n",
            "\u001b[1m12/12\u001b[0m \u001b[32m━━━━━━━━━━━━━━━━━━━━\u001b[0m\u001b[37m\u001b[0m \u001b[1m0s\u001b[0m 17ms/step - accuracy: 0.9132 - loss: 0.2485 - val_accuracy: 0.9231 - val_loss: 0.2109\n",
            "Epoch 8/50\n",
            "\u001b[1m12/12\u001b[0m \u001b[32m━━━━━━━━━━━━━━━━━━━━\u001b[0m\u001b[37m\u001b[0m \u001b[1m0s\u001b[0m 21ms/step - accuracy: 0.9513 - loss: 0.1920 - val_accuracy: 0.9231 - val_loss: 0.1966\n",
            "Epoch 9/50\n",
            "\u001b[1m12/12\u001b[0m \u001b[32m━━━━━━━━━━━━━━━━━━━━\u001b[0m\u001b[37m\u001b[0m \u001b[1m0s\u001b[0m 20ms/step - accuracy: 0.9193 - loss: 0.2255 - val_accuracy: 0.9451 - val_loss: 0.1871\n",
            "Epoch 10/50\n",
            "\u001b[1m12/12\u001b[0m \u001b[32m━━━━━━━━━━━━━━━━━━━━\u001b[0m\u001b[37m\u001b[0m \u001b[1m0s\u001b[0m 28ms/step - accuracy: 0.9269 - loss: 0.2034 - val_accuracy: 0.9560 - val_loss: 0.1780\n",
            "Epoch 11/50\n",
            "\u001b[1m12/12\u001b[0m \u001b[32m━━━━━━━━━━━━━━━━━━━━\u001b[0m\u001b[37m\u001b[0m \u001b[1m0s\u001b[0m 23ms/step - accuracy: 0.9396 - loss: 0.1639 - val_accuracy: 0.9560 - val_loss: 0.1704\n",
            "Epoch 12/50\n",
            "\u001b[1m12/12\u001b[0m \u001b[32m━━━━━━━━━━━━━━━━━━━━\u001b[0m\u001b[37m\u001b[0m \u001b[1m0s\u001b[0m 19ms/step - accuracy: 0.9569 - loss: 0.1616 - val_accuracy: 0.9560 - val_loss: 0.1650\n",
            "Epoch 13/50\n",
            "\u001b[1m12/12\u001b[0m \u001b[32m━━━━━━━━━━━━━━━━━━━━\u001b[0m\u001b[37m\u001b[0m \u001b[1m0s\u001b[0m 16ms/step - accuracy: 0.9504 - loss: 0.1641 - val_accuracy: 0.9560 - val_loss: 0.1598\n",
            "Epoch 14/50\n",
            "\u001b[1m12/12\u001b[0m \u001b[32m━━━━━━━━━━━━━━━━━━━━\u001b[0m\u001b[37m\u001b[0m \u001b[1m0s\u001b[0m 20ms/step - accuracy: 0.9654 - loss: 0.1265 - val_accuracy: 0.9560 - val_loss: 0.1568\n",
            "Epoch 15/50\n",
            "\u001b[1m12/12\u001b[0m \u001b[32m━━━━━━━━━━━━━━━━━━━━\u001b[0m\u001b[37m\u001b[0m \u001b[1m0s\u001b[0m 26ms/step - accuracy: 0.9560 - loss: 0.1365 - val_accuracy: 0.9560 - val_loss: 0.1543\n",
            "Epoch 16/50\n",
            "\u001b[1m12/12\u001b[0m \u001b[32m━━━━━━━━━━━━━━━━━━━━\u001b[0m\u001b[37m\u001b[0m \u001b[1m0s\u001b[0m 31ms/step - accuracy: 0.9691 - loss: 0.1100 - val_accuracy: 0.9560 - val_loss: 0.1531\n",
            "Epoch 17/50\n",
            "\u001b[1m12/12\u001b[0m \u001b[32m━━━━━━━━━━━━━━━━━━━━\u001b[0m\u001b[37m\u001b[0m \u001b[1m0s\u001b[0m 30ms/step - accuracy: 0.9684 - loss: 0.1145 - val_accuracy: 0.9560 - val_loss: 0.1528\n",
            "Epoch 18/50\n",
            "\u001b[1m12/12\u001b[0m \u001b[32m━━━━━━━━━━━━━━━━━━━━\u001b[0m\u001b[37m\u001b[0m \u001b[1m0s\u001b[0m 28ms/step - accuracy: 0.9667 - loss: 0.1075 - val_accuracy: 0.9670 - val_loss: 0.1520\n",
            "Epoch 19/50\n",
            "\u001b[1m12/12\u001b[0m \u001b[32m━━━━━━━━━━━━━━━━━━━━\u001b[0m\u001b[37m\u001b[0m \u001b[1m0s\u001b[0m 30ms/step - accuracy: 0.9633 - loss: 0.0976 - val_accuracy: 0.9670 - val_loss: 0.1524\n",
            "Epoch 20/50\n",
            "\u001b[1m12/12\u001b[0m \u001b[32m━━━━━━━━━━━━━━━━━━━━\u001b[0m\u001b[37m\u001b[0m \u001b[1m0s\u001b[0m 21ms/step - accuracy: 0.9758 - loss: 0.0860 - val_accuracy: 0.9670 - val_loss: 0.1529\n",
            "Epoch 21/50\n",
            "\u001b[1m12/12\u001b[0m \u001b[32m━━━━━━━━━━━━━━━━━━━━\u001b[0m\u001b[37m\u001b[0m \u001b[1m0s\u001b[0m 15ms/step - accuracy: 0.9643 - loss: 0.1076 - val_accuracy: 0.9670 - val_loss: 0.1542\n",
            "Epoch 22/50\n",
            "\u001b[1m12/12\u001b[0m \u001b[32m━━━━━━━━━━━━━━━━━━━━\u001b[0m\u001b[37m\u001b[0m \u001b[1m0s\u001b[0m 13ms/step - accuracy: 0.9729 - loss: 0.0806 - val_accuracy: 0.9670 - val_loss: 0.1555\n",
            "Epoch 23/50\n",
            "\u001b[1m12/12\u001b[0m \u001b[32m━━━━━━━━━━━━━━━━━━━━\u001b[0m\u001b[37m\u001b[0m \u001b[1m0s\u001b[0m 16ms/step - accuracy: 0.9716 - loss: 0.0770 - val_accuracy: 0.9670 - val_loss: 0.1571\n",
            "Epoch 24/50\n",
            "\u001b[1m12/12\u001b[0m \u001b[32m━━━━━━━━━━━━━━━━━━━━\u001b[0m\u001b[37m\u001b[0m \u001b[1m0s\u001b[0m 16ms/step - accuracy: 0.9777 - loss: 0.0850 - val_accuracy: 0.9670 - val_loss: 0.1575\n",
            "Epoch 25/50\n",
            "\u001b[1m12/12\u001b[0m \u001b[32m━━━━━━━━━━━━━━━━━━━━\u001b[0m\u001b[37m\u001b[0m \u001b[1m0s\u001b[0m 14ms/step - accuracy: 0.9824 - loss: 0.0685 - val_accuracy: 0.9670 - val_loss: 0.1574\n",
            "Epoch 26/50\n",
            "\u001b[1m12/12\u001b[0m \u001b[32m━━━━━━━━━━━━━━━━━━━━\u001b[0m\u001b[37m\u001b[0m \u001b[1m0s\u001b[0m 14ms/step - accuracy: 0.9802 - loss: 0.0820 - val_accuracy: 0.9670 - val_loss: 0.1579\n",
            "Epoch 27/50\n",
            "\u001b[1m12/12\u001b[0m \u001b[32m━━━━━━━━━━━━━━━━━━━━\u001b[0m\u001b[37m\u001b[0m \u001b[1m0s\u001b[0m 16ms/step - accuracy: 0.9853 - loss: 0.0560 - val_accuracy: 0.9670 - val_loss: 0.1591\n",
            "Epoch 28/50\n",
            "\u001b[1m12/12\u001b[0m \u001b[32m━━━━━━━━━━━━━━━━━━━━\u001b[0m\u001b[37m\u001b[0m \u001b[1m0s\u001b[0m 16ms/step - accuracy: 0.9827 - loss: 0.0826 - val_accuracy: 0.9670 - val_loss: 0.1592\n",
            "Epoch 29/50\n",
            "\u001b[1m12/12\u001b[0m \u001b[32m━━━━━━━━━━━━━━━━━━━━\u001b[0m\u001b[37m\u001b[0m \u001b[1m0s\u001b[0m 16ms/step - accuracy: 0.9893 - loss: 0.0686 - val_accuracy: 0.9670 - val_loss: 0.1605\n",
            "Epoch 30/50\n",
            "\u001b[1m12/12\u001b[0m \u001b[32m━━━━━━━━━━━━━━━━━━━━\u001b[0m\u001b[37m\u001b[0m \u001b[1m0s\u001b[0m 14ms/step - accuracy: 0.9730 - loss: 0.0730 - val_accuracy: 0.9670 - val_loss: 0.1604\n",
            "Epoch 31/50\n",
            "\u001b[1m12/12\u001b[0m \u001b[32m━━━━━━━━━━━━━━━━━━━━\u001b[0m\u001b[37m\u001b[0m \u001b[1m0s\u001b[0m 15ms/step - accuracy: 0.9719 - loss: 0.0934 - val_accuracy: 0.9670 - val_loss: 0.1610\n",
            "Epoch 32/50\n",
            "\u001b[1m12/12\u001b[0m \u001b[32m━━━━━━━━━━━━━━━━━━━━\u001b[0m\u001b[37m\u001b[0m \u001b[1m0s\u001b[0m 15ms/step - accuracy: 0.9882 - loss: 0.0673 - val_accuracy: 0.9670 - val_loss: 0.1617\n",
            "Epoch 33/50\n",
            "\u001b[1m12/12\u001b[0m \u001b[32m━━━━━━━━━━━━━━━━━━━━\u001b[0m\u001b[37m\u001b[0m \u001b[1m0s\u001b[0m 16ms/step - accuracy: 0.9820 - loss: 0.0847 - val_accuracy: 0.9670 - val_loss: 0.1619\n",
            "Epoch 34/50\n",
            "\u001b[1m12/12\u001b[0m \u001b[32m━━━━━━━━━━━━━━━━━━━━\u001b[0m\u001b[37m\u001b[0m \u001b[1m0s\u001b[0m 16ms/step - accuracy: 0.9948 - loss: 0.0527 - val_accuracy: 0.9670 - val_loss: 0.1644\n",
            "Epoch 35/50\n",
            "\u001b[1m12/12\u001b[0m \u001b[32m━━━━━━━━━━━━━━━━━━━━\u001b[0m\u001b[37m\u001b[0m \u001b[1m0s\u001b[0m 16ms/step - accuracy: 0.9856 - loss: 0.0565 - val_accuracy: 0.9670 - val_loss: 0.1665\n",
            "Epoch 36/50\n",
            "\u001b[1m12/12\u001b[0m \u001b[32m━━━━━━━━━━━━━━━━━━━━\u001b[0m\u001b[37m\u001b[0m \u001b[1m0s\u001b[0m 17ms/step - accuracy: 0.9788 - loss: 0.0579 - val_accuracy: 0.9670 - val_loss: 0.1679\n",
            "Epoch 37/50\n",
            "\u001b[1m12/12\u001b[0m \u001b[32m━━━━━━━━━━━━━━━━━━━━\u001b[0m\u001b[37m\u001b[0m \u001b[1m0s\u001b[0m 14ms/step - accuracy: 0.9971 - loss: 0.0450 - val_accuracy: 0.9670 - val_loss: 0.1691\n",
            "Epoch 38/50\n",
            "\u001b[1m12/12\u001b[0m \u001b[32m━━━━━━━━━━━━━━━━━━━━\u001b[0m\u001b[37m\u001b[0m \u001b[1m0s\u001b[0m 17ms/step - accuracy: 0.9915 - loss: 0.0601 - val_accuracy: 0.9670 - val_loss: 0.1690\n",
            "Epoch 39/50\n",
            "\u001b[1m12/12\u001b[0m \u001b[32m━━━━━━━━━━━━━━━━━━━━\u001b[0m\u001b[37m\u001b[0m \u001b[1m0s\u001b[0m 16ms/step - accuracy: 0.9831 - loss: 0.0682 - val_accuracy: 0.9670 - val_loss: 0.1680\n",
            "Epoch 40/50\n",
            "\u001b[1m12/12\u001b[0m \u001b[32m━━━━━━━━━━━━━━━━━━━━\u001b[0m\u001b[37m\u001b[0m \u001b[1m0s\u001b[0m 20ms/step - accuracy: 0.9838 - loss: 0.0456 - val_accuracy: 0.9670 - val_loss: 0.1685\n",
            "Epoch 41/50\n",
            "\u001b[1m12/12\u001b[0m \u001b[32m━━━━━━━━━━━━━━━━━━━━\u001b[0m\u001b[37m\u001b[0m \u001b[1m0s\u001b[0m 20ms/step - accuracy: 0.9835 - loss: 0.0525 - val_accuracy: 0.9670 - val_loss: 0.1681\n",
            "Epoch 42/50\n",
            "\u001b[1m12/12\u001b[0m \u001b[32m━━━━━━━━━━━━━━━━━━━━\u001b[0m\u001b[37m\u001b[0m \u001b[1m0s\u001b[0m 22ms/step - accuracy: 0.9886 - loss: 0.0631 - val_accuracy: 0.9670 - val_loss: 0.1671\n",
            "Epoch 43/50\n",
            "\u001b[1m12/12\u001b[0m \u001b[32m━━━━━━━━━━━━━━━━━━━━\u001b[0m\u001b[37m\u001b[0m \u001b[1m0s\u001b[0m 32ms/step - accuracy: 0.9912 - loss: 0.0467 - val_accuracy: 0.9670 - val_loss: 0.1692\n",
            "Epoch 44/50\n",
            "\u001b[1m12/12\u001b[0m \u001b[32m━━━━━━━━━━━━━━━━━━━━\u001b[0m\u001b[37m\u001b[0m \u001b[1m0s\u001b[0m 17ms/step - accuracy: 0.9950 - loss: 0.0381 - val_accuracy: 0.9670 - val_loss: 0.1716\n",
            "Epoch 45/50\n",
            "\u001b[1m12/12\u001b[0m \u001b[32m━━━━━━━━━━━━━━━━━━━━\u001b[0m\u001b[37m\u001b[0m \u001b[1m0s\u001b[0m 16ms/step - accuracy: 0.9896 - loss: 0.0425 - val_accuracy: 0.9670 - val_loss: 0.1736\n",
            "Epoch 46/50\n",
            "\u001b[1m12/12\u001b[0m \u001b[32m━━━━━━━━━━━━━━━━━━━━\u001b[0m\u001b[37m\u001b[0m \u001b[1m0s\u001b[0m 20ms/step - accuracy: 0.9892 - loss: 0.0480 - val_accuracy: 0.9670 - val_loss: 0.1761\n",
            "Epoch 47/50\n",
            "\u001b[1m12/12\u001b[0m \u001b[32m━━━━━━━━━━━━━━━━━━━━\u001b[0m\u001b[37m\u001b[0m \u001b[1m0s\u001b[0m 33ms/step - accuracy: 0.9879 - loss: 0.0399 - val_accuracy: 0.9670 - val_loss: 0.1760\n",
            "Epoch 48/50\n",
            "\u001b[1m12/12\u001b[0m \u001b[32m━━━━━━━━━━━━━━━━━━━━\u001b[0m\u001b[37m\u001b[0m \u001b[1m1s\u001b[0m 36ms/step - accuracy: 0.9867 - loss: 0.0430 - val_accuracy: 0.9670 - val_loss: 0.1776\n",
            "Epoch 49/50\n",
            "\u001b[1m12/12\u001b[0m \u001b[32m━━━━━━━━━━━━━━━━━━━━\u001b[0m\u001b[37m\u001b[0m \u001b[1m0s\u001b[0m 33ms/step - accuracy: 0.9900 - loss: 0.0459 - val_accuracy: 0.9670 - val_loss: 0.1796\n",
            "Epoch 50/50\n",
            "\u001b[1m12/12\u001b[0m \u001b[32m━━━━━━━━━━━━━━━━━━━━\u001b[0m\u001b[37m\u001b[0m \u001b[1m0s\u001b[0m 31ms/step - accuracy: 0.9899 - loss: 0.0329 - val_accuracy: 0.9670 - val_loss: 0.1804\n"
          ]
        },
        {
          "data": {
            "text/plain": [
              "True"
            ]
          },
          "execution_count": 6,
          "metadata": {},
          "output_type": "execute_result"
        }
      ],
      "source": [
        "# CodeGrade step4\n",
        "\n",
        "# Add L2 Regularization and Dropout\n",
        "l2_reg = 1e-4           # L2 regularization strength, small value to penalize large weights\n",
        "dropout_rate = 0.3      # fraction of neurons to drop during training\n",
        "\n",
        "model_reg = tf.keras.Sequential([\n",
        "    layers.Dense(32, activation='relu', kernel_regularizer=regularizers.l2(l2_reg), input_shape=(X_train_scaled.shape[1],)),        # apply L2 regularization to 1st layer\n",
        "    layers.Dropout(dropout_rate),       # drop 30% of neurons during training\n",
        "\n",
        "    layers.Dense(16, activation='relu', kernel_regularizer=regularizers.l2(l2_reg)), # 2nd layer L2 regularization\n",
        "    layers.Dropout(dropout_rate),\n",
        "\n",
        "    layers.Dense(1, activation='sigmoid')       # output layer for binary classification\n",
        "])\n",
        "\n",
        "model_reg.compile(\n",
        "    optimizer='adam',\n",
        "    loss='binary_crossentropy',\n",
        "    metrics=['accuracy']\n",
        ")\n",
        "\n",
        "\n",
        "history_reg = model_reg.fit(\n",
        "    X_train_scaled, y_train_final,\n",
        "    validation_data=(X_val_scaled, y_val),\n",
        "    epochs=50,\n",
        "    batch_size=32,\n",
        "    verbose=1\n",
        ")\n",
        "\n",
        "# Evaluate Regularized Model on Validation\n",
        "val_loss_reg, val_acc_reg = model_reg.evaluate(X_val_scaled, y_val, verbose=0)\n",
        "round(val_acc_reg,2) > .9"
      ]
    },
    {
      "cell_type": "markdown",
      "metadata": {
        "id": "yS6EFV8wVuUr"
      },
      "source": [
        "### Step 5: Evaluate the Best Model on the Test Set and Visualize Performance"
      ]
    },
    {
      "cell_type": "markdown",
      "metadata": {
        "id": "vxnYv3IjT_MD"
      },
      "source": [
        "- Evaluate the regularized model on the test set by calling the model’s evaluate method with the scaled test features (X_test_scaled) and test labels (y_test), and set verbosity to 0 to suppress detailed output.\n",
        "- Capture the resulting test loss and test accuracy in the variables test_loss_reg and test_acc_reg, respectively.\n",
        "- Round the test accuracy (test_acc_reg) to two decimal places.\n",
        "- Check that the rounded test accuracy is greater than 90% (i.e., exceeds 0.9) to ensure the model meets the performance threshold on the test data."
      ]
    },
    {
      "cell_type": "code",
      "execution_count": null,
      "metadata": {
        "id": "KfmCGyJYVv4q"
      },
      "outputs": [
        {
          "name": "stdout",
          "output_type": "stream",
          "text": [
            "\u001b[1m4/4\u001b[0m \u001b[32m━━━━━━━━━━━━━━━━━━━━\u001b[0m\u001b[37m\u001b[0m \u001b[1m0s\u001b[0m 19ms/step - accuracy: 0.9467 - loss: 0.1219\n"
          ]
        },
        {
          "data": {
            "text/plain": [
              "True"
            ]
          },
          "execution_count": 7,
          "metadata": {},
          "output_type": "execute_result"
        }
      ],
      "source": [
        "# CodeGrade step5\n",
        "\n",
        "# Compare Best Model on Test Set\n",
        "# Example: Use the Regularized Model on Test\n",
        "test_loss_reg, test_acc_reg = model_reg.evaluate(X_test_scaled, y_test, verbose=1)      \n",
        "round(test_acc_reg,2) > 0.9"
      ]
    },
    {
      "cell_type": "markdown",
      "metadata": {
        "id": "tTOsQ0GxWctq"
      },
      "source": [
        "Plot Accuracy Over Epochs for the Regularized Model"
      ]
    },
    {
      "cell_type": "code",
      "execution_count": null,
      "metadata": {
        "id": "imH3BaGQWeeY"
      },
      "outputs": [
        {
          "data": {
            "image/png": "[encoded data removed]",
            "text/plain": [
              "<Figure size 800x600 with 1 Axes>"
            ]
          },
          "metadata": {},
          "output_type": "display_data"
        }
      ],
      "source": [
        "# Plot Accuracy Over Epochs for the Regularized Model\n",
        "plt.figure(figsize=(8, 6))\n",
        "plt.plot(history_reg.history['accuracy'], label='Training Accuracy')\n",
        "plt.plot(history_reg.history['val_accuracy'], label='Validation Accuracy')\n",
        "plt.title('Regularized Model: Accuracy Over Epochs')\n",
        "plt.xlabel('Epoch')\n",
        "plt.ylabel('Accuracy')\n",
        "plt.legend()\n",
        "plt.grid(True)\n",
        "plt.show()"
      ]
    },
    {
      "cell_type": "markdown",
      "metadata": {},
      "source": [
        "Training accuracy keeps improving but validation accuracy levels off. This indicates the model is overfitting and memorizing training data instead of generalizing."
      ]
    },
    {
      "cell_type": "code",
      "execution_count": null,
      "metadata": {},
      "outputs": [],
      "source": []
    }
  ],
  "metadata": {
    "colab": {
      "provenance": []
    },
    "kernelspec": {
      "display_name": "base",
      "language": "python",
      "name": "python3"
    },
    "language_info": {
      "codemirror_mode": {
        "name": "ipython",
        "version": 3
      },
      "file_extension": ".py",
      "mimetype": "text/x-python",
      "name": "python",
      "nbconvert_exporter": "python",
      "pygments_lexer": "ipython3",
      "version": "3.13.5"
    }
  },
  "nbformat": 4,
  "nbformat_minor": 0
}
