{
  "cells": [
    {
      "cell_type": "markdown",
      "id": "65571921",
      "metadata": {
        "id": "65571921"
      },
      "source": [
        "# BBC News Classification with BERT: Lab\n",
        "# Solution\n",
        "\n",
        "## Overview\n",
        "As a junior data scientist at NewsInsight, a media analytics company, you've been tasked with building an automated news categorization system. Your team needs to classify incoming news articles into appropriate categories to help journalists, researchers, and business analysts quickly find relevant information.\n",
        "\n",
        "The company receives thousands of articles daily from various sources. Currently, human editors spend significant time manually categorizing these articles, which is time-consuming and inconsistent. Your manager has asked you to develop a machine learning solution that can automatically categorize news articles into predefined categories (business, entertainment, politics, sport, tech).\n",
        "\n",
        "This project will follow the BERT fine-tuning process you've learned:\n",
        "1. Understanding data and defining requirements\n",
        "2. Selecting and preparing the BERT model\n",
        "3. Data preparation and tokenization\n",
        "4. Model architecture design\n",
        "5. Fine-tuning the model\n",
        "6. Evaluation and refinement\n",
        "\n",
        "Successfully implementing this system will significantly improve workflow efficiency, allowing editors to focus on content quality rather than manual categorization.\n",
        "\n",
        "## Part 1: Environment Setup and Data Loading"
      ]
    },
    {
      "cell_type": "code",
      "execution_count": 10,
      "id": "d5d7a44d",
      "metadata": {
        "id": "d5d7a44d"
      },
      "outputs": [],
      "source": [
        "# Import libraries\n",
        "import numpy as np\n",
        "import pandas as pd\n",
        "import matplotlib.pyplot as plt\n",
        "import random\n",
        "import os\n",
        "from sklearn.model_selection import train_test_split\n",
        "from sklearn.metrics import classification_report, confusion_matrix, accuracy_score, ConfusionMatrixDisplay\n",
        "import seaborn as sns\n",
        "\n",
        "# Set random seeds for reproducibility\n",
        "def set_seed(seed_value=42):\n",
        "    random.seed(seed_value)\n",
        "    np.random.seed(seed_value)\n",
        "    os.environ['PYTHONHASHSEED'] = str(seed_value)\n",
        "\n",
        "set_seed()"
      ]
    },
    {
      "cell_type": "code",
      "execution_count": 11,
      "id": "2c989fc2",
      "metadata": {
        "colab": {
          "base_uri": "https://localhost:8080/",
          "height": 206
        },
        "id": "2c989fc2",
        "outputId": "bdc6894b-2eee-4287-966d-841e492d8bb8"
      },
      "outputs": [
        {
          "data": {
            "text/html": [
              "<div>\n",
              "<style scoped>\n",
              "    .dataframe tbody tr th:only-of-type {\n",
              "        vertical-align: middle;\n",
              "    }\n",
              "\n",
              "    .dataframe tbody tr th {\n",
              "        vertical-align: top;\n",
              "    }\n",
              "\n",
              "    .dataframe thead th {\n",
              "        text-align: right;\n",
              "    }\n",
              "</style>\n",
              "<table border=\"1\" class=\"dataframe\">\n",
              "  <thead>\n",
              "    <tr style=\"text-align: right;\">\n",
              "      <th></th>\n",
              "      <th>category</th>\n",
              "      <th>filename</th>\n",
              "      <th>title</th>\n",
              "      <th>content</th>\n",
              "    </tr>\n",
              "  </thead>\n",
              "  <tbody>\n",
              "    <tr>\n",
              "      <th>0</th>\n",
              "      <td>business</td>\n",
              "      <td>001.txt</td>\n",
              "      <td>Ad sales boost Time Warner profit</td>\n",
              "      <td>Quarterly profits at US media giant TimeWarne...</td>\n",
              "    </tr>\n",
              "    <tr>\n",
              "      <th>1</th>\n",
              "      <td>business</td>\n",
              "      <td>002.txt</td>\n",
              "      <td>Dollar gains on Greenspan speech</td>\n",
              "      <td>The dollar has hit its highest level against ...</td>\n",
              "    </tr>\n",
              "    <tr>\n",
              "      <th>2</th>\n",
              "      <td>business</td>\n",
              "      <td>003.txt</td>\n",
              "      <td>Yukos unit buyer faces loan claim</td>\n",
              "      <td>The owners of embattled Russian oil giant Yuk...</td>\n",
              "    </tr>\n",
              "    <tr>\n",
              "      <th>3</th>\n",
              "      <td>business</td>\n",
              "      <td>004.txt</td>\n",
              "      <td>High fuel prices hit BA's profits</td>\n",
              "      <td>British Airways has blamed high fuel prices f...</td>\n",
              "    </tr>\n",
              "    <tr>\n",
              "      <th>4</th>\n",
              "      <td>business</td>\n",
              "      <td>005.txt</td>\n",
              "      <td>Pernod takeover talk lifts Domecq</td>\n",
              "      <td>Shares in UK drinks and food firm Allied Dome...</td>\n",
              "    </tr>\n",
              "  </tbody>\n",
              "</table>\n",
              "</div>"
            ],
            "text/plain": [
              "   category filename                              title  \\\n",
              "0  business  001.txt  Ad sales boost Time Warner profit   \n",
              "1  business  002.txt   Dollar gains on Greenspan speech   \n",
              "2  business  003.txt  Yukos unit buyer faces loan claim   \n",
              "3  business  004.txt  High fuel prices hit BA's profits   \n",
              "4  business  005.txt  Pernod takeover talk lifts Domecq   \n",
              "\n",
              "                                             content  \n",
              "0   Quarterly profits at US media giant TimeWarne...  \n",
              "1   The dollar has hit its highest level against ...  \n",
              "2   The owners of embattled Russian oil giant Yuk...  \n",
              "3   British Airways has blamed high fuel prices f...  \n",
              "4   Shares in UK drinks and food firm Allied Dome...  "
            ]
          },
          "execution_count": 11,
          "metadata": {},
          "output_type": "execute_result"
        }
      ],
      "source": [
        "# Load the data from csv file\n",
        "df = pd.read_csv(\"bbc_news_data.csv\",\n",
        "                 sep=\"\\t\",\n",
        "                 quoting=3,  # 3 = csv.QUOTE_NONE\n",
        "                 on_bad_lines='skip',  # or on_bad_lines='skip' for newer pandas\n",
        "                 engine='python')  # use python engine for flexibility\n",
        "df.head()\n"
      ]
    },
    {
      "cell_type": "code",
      "execution_count": 12,
      "id": "gJUrZ8mk7VMs",
      "metadata": {
        "colab": {
          "base_uri": "https://localhost:8080/"
        },
        "id": "gJUrZ8mk7VMs",
        "outputId": "254e066e-d126-439e-81b2-6451b7784bf9"
      },
      "outputs": [
        {
          "data": {
            "text/plain": [
              "array(['business', 'entertainment', 'politics', 'sport', 'tech'],\n",
              "      dtype=object)"
            ]
          },
          "execution_count": 12,
          "metadata": {},
          "output_type": "execute_result"
        }
      ],
      "source": [
        "df['category'].unique()"
      ]
    },
    {
      "cell_type": "markdown",
      "id": "8b9a4901",
      "metadata": {
        "id": "8b9a4901"
      },
      "source": [
        "## Part 2: Data Exploration and Preprocessing\n",
        "\n",
        "Explore the dataset, displaying basic information and:\n",
        "- Analyze category distribution\n",
        "- Check text length distribution\n",
        "- Train test split data, use 75-25 split"
      ]
    },
    {
      "cell_type": "code",
      "execution_count": 13,
      "id": "83c59aac",
      "metadata": {
        "colab": {
          "base_uri": "https://localhost:8080/",
          "height": 1000
        },
        "id": "83c59aac",
        "outputId": "ce3066c1-af27-4e40-83d0-4a3e78738cea"
      },
      "outputs": [
        {
          "name": "stdout",
          "output_type": "stream",
          "text": [
            "   category filename                              title  \\\n",
            "0  business  001.txt  Ad sales boost Time Warner profit   \n",
            "1  business  002.txt   Dollar gains on Greenspan speech   \n",
            "2  business  003.txt  Yukos unit buyer faces loan claim   \n",
            "3  business  004.txt  High fuel prices hit BA's profits   \n",
            "4  business  005.txt  Pernod takeover talk lifts Domecq   \n",
            "5  business  006.txt   Japan narrowly escapes recession   \n",
            "6  business  007.txt   Jobs growth still slow in the US   \n",
            "7  business  008.txt   India calls for fair trade rules   \n",
            "8  business  009.txt  Ethiopia's crop production up 24%   \n",
            "9  business  010.txt  Court rejects $280bn tobacco case   \n",
            "\n",
            "                                             content  \n",
            "0   Quarterly profits at US media giant TimeWarne...  \n",
            "1   The dollar has hit its highest level against ...  \n",
            "2   The owners of embattled Russian oil giant Yuk...  \n",
            "3   British Airways has blamed high fuel prices f...  \n",
            "4   Shares in UK drinks and food firm Allied Dome...  \n",
            "5   Japan's economy teetered on the brink of a te...  \n",
            "6   The US created fewer jobs than expected in Ja...  \n",
            "7   India, which attends the G7 meeting of seven ...  \n",
            "8   Ethiopia produced 14.27 million tonnes of cro...  \n",
            "9   A US government claim accusing the country's ...  \n",
            "<class 'pandas.core.frame.DataFrame'>\n",
            "RangeIndex: 2225 entries, 0 to 2224\n",
            "Data columns (total 4 columns):\n",
            " #   Column    Non-Null Count  Dtype \n",
            "---  ------    --------------  ----- \n",
            " 0   category  2225 non-null   object\n",
            " 1   filename  2225 non-null   object\n",
            " 2   title     2225 non-null   object\n",
            " 3   content   2225 non-null   object\n",
            "dtypes: object(4)\n",
            "memory usage: 69.7+ KB\n",
            "None\n",
            "       category filename                             title  \\\n",
            "count      2225     2225                              2225   \n",
            "unique        5      511                              2096   \n",
            "top       sport  001.txt  Microsoft seeking spyware trojan   \n",
            "freq        511        5                                 2   \n",
            "\n",
            "                                                  content  \n",
            "count                                                2225  \n",
            "unique                                               2092  \n",
            "top      Microsoft has warned PC users to update their...  \n",
            "freq                                                    2  \n",
            "Average text length: 378.8359550561798\n",
            "Min text length: 84\n",
            "Max text length: 4428\n",
            "category       0\n",
            "filename       0\n",
            "title          0\n",
            "content        0\n",
            "text_length    0\n",
            "dtype: int64\n",
            "Training set size: 1251\n",
            "Validation set size: 417\n",
            "Test set size: 557\n",
            "\n",
            "Category distribution in training set:\n",
            "category\n",
            "sport            287\n",
            "business         286\n",
            "politics         235\n",
            "tech             226\n",
            "entertainment    217\n",
            "Name: count, dtype: int64\n",
            "\n",
            "Category distribution in validation set:\n",
            "category\n",
            "business         96\n",
            "sport            96\n",
            "politics         78\n",
            "tech             75\n",
            "entertainment    72\n",
            "Name: count, dtype: int64\n",
            "\n",
            "Category distribution in test set:\n",
            "category\n",
            "business         128\n",
            "sport            128\n",
            "politics         104\n",
            "tech             100\n",
            "entertainment     97\n",
            "Name: count, dtype: int64\n"
          ]
        },
        {
          "data": {
            "image/png": "[encoded data removed]",
            "text/plain": [
              "<Figure size 1000x500 with 1 Axes>"
            ]
          },
          "metadata": {},
          "output_type": "display_data"
        }
      ],
      "source": [
        "# Explore the first 10 rows\n",
        "print(df.head(10))\n",
        "\n",
        "# Basic info and describe\n",
        "print(df.info())\n",
        "print(df.describe())\n",
        "\n",
        "# Category distribution\n",
        "category_counts = df['category'].value_counts()\n",
        "category_counts\n",
        "\n",
        "# Visualize category distribution\n",
        "sns.barplot(x=category_counts.index, y=category_counts.values)\n",
        "\n",
        "# Text length analysis\n",
        "df['text_length'] = df['content'].apply(lambda x: len(str(x).split()))\n",
        "print(f\"Average text length: {df['text_length'].mean()}\")\n",
        "print(f\"Min text length: {df['text_length'].min()}\")\n",
        "print(f\"Max text length: {df['text_length'].max()}\")\n",
        "\n",
        "# Visualize text length by category\n",
        "df.groupby('category')['text_length'].mean().plot(kind='bar', figsize=(10, 5))\n",
        "plt.title('Average Text Length by Category')\n",
        "\n",
        "# Check for missing values\n",
        "print(df.isnull().sum())\n",
        "\n",
        "# Map category labels to integers for classification\n",
        "categories = list(df['category'].unique())\n",
        "category_mapping = {category: i for i, category in enumerate(categories)}\n",
        "df['label'] = df['category'].map(category_mapping)\n",
        "\n",
        "# Rename content column into text for hugging face\n",
        "df.rename(columns={'content': 'text'}, inplace=True)\n",
        "\n",
        "# Split into train, validation, and test sets, make sure to stratify based on category, keep features and target together for now\n",
        "# First, create train+validation and test sets\n",
        "train_val_df, test_df,  = train_test_split(df, test_size=0.25, random_state=42, stratify=df['category'])\n",
        "# Then split train+validation into separate train and validation sets\n",
        "train_df, val_df = train_test_split(train_val_df, test_size=0.25, random_state=42, stratify=train_val_df['category'])\n",
        "\n",
        "# Extract labels as numpy arrays\n",
        "train_labels = train_df['label'].values\n",
        "val_labels = val_df['label'].values\n",
        "test_labels = test_df['label'].values\n",
        "\n",
        "print(f\"Training set size: {len(train_df)}\")\n",
        "print(f\"Validation set size: {len(val_df)}\")\n",
        "print(f\"Test set size: {len(test_df)}\")\n",
        "\n",
        "# Ensure categories are distributed properly across splits\n",
        "print(\"\\nCategory distribution in training set:\")\n",
        "print(train_df['category'].value_counts())\n",
        "print(\"\\nCategory distribution in validation set:\")\n",
        "print(val_df['category'].value_counts())\n",
        "print(\"\\nCategory distribution in test set:\")\n",
        "print(test_df['category'].value_counts())"
      ]
    },
    {
      "cell_type": "markdown",
      "id": "65db3cf5",
      "metadata": {
        "id": "65db3cf5"
      },
      "source": [
        "## Part 3: Choose Your Model Approach\n",
        "You can implement either the TensorFlow approach OR the Hugging Face approach. Delete the one you do not use.\n",
        "\n",
        "### ------ TensorFlow Approach --------\n",
        "Implement BERT with TensorFlow and TensorFlow Hub\n",
        "- Import required libraries\n",
        "- Select and load a BERT model\n",
        "- Create datasets\n",
        " - Build model architecture\n",
        " - Fine-tune the model\n",
        " - Evaluate performance\n",
        " - Create visuals for train and validation data metrics across epochs"
      ]
    },
    {
      "cell_type": "code",
      "execution_count": 14,
      "id": "75fa516c",
      "metadata": {
        "colab": {
          "base_uri": "https://localhost:8080/"
        },
        "id": "75fa516c",
        "outputId": "249f1230-6d04-4f05-c8c1-1b8798f4d1bc"
      },
      "outputs": [
        {
          "name": "stdout",
          "output_type": "stream",
          "text": [
            "Model: \"model_1\"\n",
            "__________________________________________________________________________________________________\n",
            " Layer (type)                   Output Shape         Param #     Connected to                     \n",
            "==================================================================================================\n",
            " text (InputLayer)              [(None,)]            0           []                               \n",
            "                                                                                                  \n",
            " preprocessing (KerasLayer)     {'input_word_ids':   0           ['text[0][0]']                   \n",
            "                                (None, 128),                                                      \n",
            "                                 'input_type_ids':                                                \n",
            "                                (None, 128),                                                      \n",
            "                                 'input_mask': (Non                                               \n",
            "                                e, 128)}                                                          \n",
            "                                                                                                  \n",
            " BERT_encoder (KerasLayer)      {'encoder_outputs':  28763649    ['preprocessing[0][0]',          \n",
            "                                 [(None, 128, 512),               'preprocessing[0][1]',          \n",
            "                                 (None, 128, 512),                'preprocessing[0][2]']          \n",
            "                                 (None, 128, 512),                                                \n",
            "                                 (None, 128, 512)],                                               \n",
            "                                 'default': (None,                                                \n",
            "                                512),                                                             \n",
            "                                 'pooled_output': (                                               \n",
            "                                None, 512),                                                       \n",
            "                                 'sequence_output':                                               \n",
            "                                 (None, 128, 512)}                                                \n",
            "                                                                                                  \n",
            " dropout_1 (Dropout)            (None, 512)          0           ['BERT_encoder[0][5]']           \n",
            "                                                                                                  \n",
            " classifier (Dense)             (None, 5)            2565        ['dropout_1[0][0]']              \n",
            "                                                                                                  \n",
            "==================================================================================================\n",
            "Total params: 28,766,214\n",
            "Trainable params: 2,565\n",
            "Non-trainable params: 28,763,649\n",
            "__________________________________________________________________________________________________\n",
            "Fine-tuning BERT model...\n",
            "Epoch 1/5\n",
            "39/40 [============================>.] - ETA: 0s - loss: 1.6631 - sparse_categorical_accuracy: 0.2524WARNING:tensorflow:Early stopping conditioned on metric `val_accuracy` which is not available. Available metrics are: loss,sparse_categorical_accuracy,val_loss,val_sparse_categorical_accuracy\n"
          ]
        },
        {
          "name": "stderr",
          "output_type": "stream",
          "text": [
            "WARNING:tensorflow:Early stopping conditioned on metric `val_accuracy` which is not available. Available metrics are: loss,sparse_categorical_accuracy,val_loss,val_sparse_categorical_accuracy\n"
          ]
        },
        {
          "name": "stdout",
          "output_type": "stream",
          "text": [
            "40/40 [==============================] - 6s 99ms/step - loss: 1.6623 - sparse_categorical_accuracy: 0.2534 - val_loss: 1.3909 - val_sparse_categorical_accuracy: 0.4652\n",
            "Epoch 2/5\n",
            "39/40 [============================>.] - ETA: 0s - loss: 1.2844 - sparse_categorical_accuracy: 0.5016WARNING:tensorflow:Early stopping conditioned on metric `val_accuracy` which is not available. Available metrics are: loss,sparse_categorical_accuracy,val_loss,val_sparse_categorical_accuracy\n"
          ]
        },
        {
          "name": "stderr",
          "output_type": "stream",
          "text": [
            "WARNING:tensorflow:Early stopping conditioned on metric `val_accuracy` which is not available. Available metrics are: loss,sparse_categorical_accuracy,val_loss,val_sparse_categorical_accuracy\n"
          ]
        },
        {
          "name": "stdout",
          "output_type": "stream",
          "text": [
            "40/40 [==============================] - 4s 94ms/step - loss: 1.2840 - sparse_categorical_accuracy: 0.5012 - val_loss: 1.0856 - val_sparse_categorical_accuracy: 0.7290\n",
            "Epoch 3/5\n",
            "39/40 [============================>.] - ETA: 0s - loss: 1.0037 - sparse_categorical_accuracy: 0.6827WARNING:tensorflow:Early stopping conditioned on metric `val_accuracy` which is not available. Available metrics are: loss,sparse_categorical_accuracy,val_loss,val_sparse_categorical_accuracy\n"
          ]
        },
        {
          "name": "stderr",
          "output_type": "stream",
          "text": [
            "WARNING:tensorflow:Early stopping conditioned on metric `val_accuracy` which is not available. Available metrics are: loss,sparse_categorical_accuracy,val_loss,val_sparse_categorical_accuracy\n"
          ]
        },
        {
          "name": "stdout",
          "output_type": "stream",
          "text": [
            "40/40 [==============================] - 4s 99ms/step - loss: 1.0029 - sparse_categorical_accuracy: 0.6827 - val_loss: 0.8753 - val_sparse_categorical_accuracy: 0.8177\n",
            "Epoch 4/5\n",
            "39/40 [============================>.] - ETA: 0s - loss: 0.8341 - sparse_categorical_accuracy: 0.7620WARNING:tensorflow:Early stopping conditioned on metric `val_accuracy` which is not available. Available metrics are: loss,sparse_categorical_accuracy,val_loss,val_sparse_categorical_accuracy\n"
          ]
        },
        {
          "name": "stderr",
          "output_type": "stream",
          "text": [
            "WARNING:tensorflow:Early stopping conditioned on metric `val_accuracy` which is not available. Available metrics are: loss,sparse_categorical_accuracy,val_loss,val_sparse_categorical_accuracy\n"
          ]
        },
        {
          "name": "stdout",
          "output_type": "stream",
          "text": [
            "40/40 [==============================] - 4s 100ms/step - loss: 0.8335 - sparse_categorical_accuracy: 0.7626 - val_loss: 0.7362 - val_sparse_categorical_accuracy: 0.8369\n",
            "Epoch 5/5\n",
            "39/40 [============================>.] - ETA: 0s - loss: 0.7093 - sparse_categorical_accuracy: 0.8141WARNING:tensorflow:Early stopping conditioned on metric `val_accuracy` which is not available. Available metrics are: loss,sparse_categorical_accuracy,val_loss,val_sparse_categorical_accuracy\n"
          ]
        },
        {
          "name": "stderr",
          "output_type": "stream",
          "text": [
            "WARNING:tensorflow:Early stopping conditioned on metric `val_accuracy` which is not available. Available metrics are: loss,sparse_categorical_accuracy,val_loss,val_sparse_categorical_accuracy\n"
          ]
        },
        {
          "name": "stdout",
          "output_type": "stream",
          "text": [
            "40/40 [==============================] - 4s 97ms/step - loss: 0.7093 - sparse_categorical_accuracy: 0.8137 - val_loss: 0.6336 - val_sparse_categorical_accuracy: 0.8681\n"
          ]
        }
      ],
      "source": [
        "# Make sure to set legacy Keras to work with TF Hub BERT before you import\n",
        "os.environ['TF_USE_LEGACY_KERAS']= '1'\n",
        "\n",
        "# Import TensorFlow-specific libraries\n",
        "import tensorflow as tf\n",
        "import tensorflow_hub as hub\n",
        "import tensorflow_text as text\n",
        "\n",
        "# Select and load BERT model, smaller BERT model for faster training\n",
        "bert_model_name = 'small_bert/bert_en_uncased_L-4_H-512_A-8'\n",
        "\n",
        "# load preprocessing model and BERT model from tensorflow hub\n",
        "map_name_to_handle = {\n",
        "    'small_bert/bert_en_uncased_L-4_H-512_A-8': 'https://tfhub.dev/tensorflow/small_bert/bert_en_uncased_L-4_H-512_A-8/1'\n",
        "}\n",
        "\n",
        "map_model_to_preprocess = {\n",
        "    'small_bert/bert_en_uncased_L-4_H-512_A-8': 'https://tfhub.dev/tensorflow/bert_en_uncased_preprocess/3'\n",
        "}\n",
        "\n",
        "tfhub_handle_encoder = map_name_to_handle[bert_model_name]\n",
        "tfhub_handle_preprocess = map_model_to_preprocess[bert_model_name]\n",
        "\n",
        "# Create TensorFlow datasets\n",
        "def create_tf_dataset(texts, labels, batch_size=32, shuffle=True):\n",
        "    dataset = tf.data.Dataset.from_tensor_slices((texts, labels))\n",
        "    # shuffle so that model does not overfit\n",
        "    if shuffle:\n",
        "        dataset = dataset.shuffle(len(texts))\n",
        "    dataset = dataset.batch(batch_size)\n",
        "    dataset = dataset.prefetch(tf.data.AUTOTUNE)\n",
        "    return dataset\n",
        "\n",
        "# Convert pandas DataFrames to TensorFlow datasets\n",
        "train_dataset = create_tf_dataset(train_df['text'].values, train_labels)\n",
        "val_dataset = create_tf_dataset(val_df['text'].values, val_labels)\n",
        "# Make sure to not shuffle for test data\n",
        "test_dataset = create_tf_dataset(test_df['text'].values, test_labels, shuffle=False)\n",
        "\n",
        "# Build the BERT model\n",
        "def build_tf_classifier_model():\n",
        "    # Text input\n",
        "    text_input = tf.keras.layers.Input(shape=(), dtype=tf.string, name='text')\n",
        "\n",
        "    # Preprocessing layer\n",
        "    preprocessing_layer = hub.KerasLayer(tfhub_handle_preprocess, name='preprocessing')\n",
        "    encoder_inputs = preprocessing_layer(text_input)\n",
        "\n",
        "    # BERT encoder - set trainable=True for fine-tuning\n",
        "    encoder = hub.KerasLayer(tfhub_handle_encoder, trainable=False, name='BERT_encoder')\n",
        "    outputs = encoder(encoder_inputs)\n",
        "\n",
        "    # Use the pooled output for classification\n",
        "    net = outputs['pooled_output']\n",
        "\n",
        "    # Add dropout for regularization\n",
        "    net = tf.keras.layers.Dropout(0.2)(net)\n",
        "\n",
        "    # Add classification layer (for 5 categories)\n",
        "    net = tf.keras.layers.Dense(5, activation='softmax', name='classifier')(net)\n",
        "\n",
        "    # Create model\n",
        "    model = tf.keras.Model(text_input, net)\n",
        "    return model\n",
        "\n",
        "# Create model\n",
        "tf_classifier_model = build_tf_classifier_model()\n",
        "tf_classifier_model.summary()\n",
        "\n",
        "# Compile the model\n",
        "# Using sparse categorical crossentropy since our labels are integers\n",
        "loss = tf.keras.losses.SparseCategoricalCrossentropy()\n",
        "# Select accuracy as metric\n",
        "metrics = [tf.keras.metrics.SparseCategoricalAccuracy()]\n",
        "\n",
        "# Set up learning rate and optimizer\n",
        "init_lr = .0005\n",
        "optimizer = tf.keras.optimizers.Adam(learning_rate=init_lr)\n",
        "\n",
        "# Compile the model\n",
        "tf_classifier_model.compile(optimizer=optimizer, loss=loss, metrics=metrics)\n",
        "\n",
        "# Set up early stopping callback based on validation accuracy\n",
        "early_stopping = tf.keras.callbacks.EarlyStopping(\n",
        "    monitor='val_accuracy',\n",
        "    patience=3,\n",
        "    restore_best_weights=True)\n",
        "\n",
        "\n",
        "# Train the model for 5 epochs (not enough epochs most likely but to save on time)\n",
        "print('Fine-tuning BERT model...')\n",
        "history = tf_classifier_model.fit(\n",
        "    train_dataset,\n",
        "    validation_data=val_dataset,\n",
        "    epochs=5,\n",
        "    callbacks=[early_stopping])"
      ]
    },
    {
      "cell_type": "code",
      "execution_count": 15,
      "id": "d2ebc4e2",
      "metadata": {
        "colab": {
          "base_uri": "https://localhost:8080/"
        },
        "id": "d2ebc4e2",
        "outputId": "cd40ea0e-7435-4ffb-c9eb-79698616386c"
      },
      "outputs": [
        {
          "name": "stdout",
          "output_type": "stream",
          "text": [
            "18/18 [==============================] - 1s 69ms/step - loss: 0.6260 - sparse_categorical_accuracy: 0.8725\n",
            "Test accuracy (TensorFlow): 0.873\n",
            "18/18 [==============================] - 1s 70ms/step\n",
            "Test precision (TensorFlow): 0.880\n",
            "Test recall (TensorFlow): 0.873\n",
            "Test F1 score (TensorFlow): 0.873\n"
          ]
        }
      ],
      "source": [
        "from sklearn.metrics import precision_score, recall_score, f1_score\n",
        "\n",
        "# Evaluate model on testing data\n",
        "test_loss, test_accuracy = tf_classifier_model.evaluate(test_dataset)\n",
        "print(f'Test accuracy (TensorFlow): {test_accuracy:.3f}')\n",
        "\n",
        "# Step 2: Get predictions\n",
        "y_pred_probs = tf_classifier_model.predict(test_dataset)\n",
        "y_pred = tf.argmax(y_pred_probs, axis=1).numpy()\n",
        "\n",
        "# Step 3: Get true labels\n",
        "y_true = [label.numpy() for _, label in test_dataset.unbatch()]\n",
        "\n",
        "# Step 4: Calculate precision\n",
        "test_precision = precision_score(y_true, y_pred, average='weighted')\n",
        "test_recall = recall_score(y_true, y_pred, average='weighted')\n",
        "test_f1 = f1_score(y_true, y_pred, average='weighted')\n",
        "\n",
        "print(f'Test precision (TensorFlow): {test_precision:.3f}')\n",
        "print(f'Test recall (TensorFlow): {test_recall:.3f}')\n",
        "print(f'Test F1 score (TensorFlow): {test_f1:.3f}')"
      ]
    },
    {
      "cell_type": "code",
      "execution_count": 16,
      "id": "Jpo2S6gu52Gt",
      "metadata": {
        "colab": {
          "base_uri": "https://localhost:8080/"
        },
        "id": "Jpo2S6gu52Gt",
        "outputId": "8f47a463-ccad-4634-d929-40d6255f63b8"
      },
      "outputs": [
        {
          "name": "stdout",
          "output_type": "stream",
          "text": [
            "1/1 [==============================] - 0s 237ms/step\n",
            "('business', 0.33463260531425476)\n",
            "1/1 [==============================] - 0s 25ms/step\n",
            "('sport', 0.6393533945083618)\n",
            "1/1 [==============================] - 0s 25ms/step\n",
            "('politics', 0.34128764271736145)\n"
          ]
        }
      ],
      "source": [
        "def predict_article_category(text, model=tf_classifier_model):\n",
        "    prediction = model.predict([text])[0]\n",
        "    predicted_class_id = np.argmax(prediction)\n",
        "    predicted_category = categories[predicted_class_id]\n",
        "    confidence = float(prediction[predicted_class_id])\n",
        "    return predicted_category, confidence\n",
        "\n",
        "sample_text = \"\"\"President Donald Trump announced Thursday that the United States and China have formally signed a trade agreement, bringing an end to months of negotiations. The deal cements the informal understanding reached earlier during talks in Geneva, marking a significant step in stabilizing trade relations between the two countries. We just signed with China yesterday, Trump said during a briefing at the White House, though he did not provide further details. The White House Council of Economic Advisers chairman Stephen Miran told Yahoo Finance on Thursday that he expects the Trump administration to extend the tariff pause for countries negotiating in good faith. I mean, you don't blow up a deal that's that's in process and making really good faith, sincere, authentic progress by dropping a tariff bomb in it, Miran told Yahoo Finance's Brian Sozzi. In recent weeks, President Trump and administration officials have signaled a willingness to roll back the self-imposed tariff deadline of July 9 as pressure builds for talks to turn into pacts. From Canada to Japan, key trade deals are struggling to get over the finish line with just two weeks to go. Trump and officials have warned that he could soon simply tell countries their tariff rates, raising questions about the status of negotiations. Miran said that he doesn't see the aggregate tariff rate falling materially below the 10% level in the long run, but some countries may negotiate more favorable duties while others will see a return of the steeper \"Liberation Day\" tariffs.So far, Trump has firmed up a trade deal with the United Kingdom. In Canada, Prime Minister Mark Carney's government threatened to hike tariffs by late July on US imports of steel and aluminum, after Trump ballooned US levies on those metals. The countries are aiming for a deal by mid-July. The European Union has also vowed to retaliate if the US sticks with its baseline 10% tariffs, according to a report in Bloomberg. Trump has threatened tariffs of up to 50% on EU imports.\"\"\"\n",
        "sample_text2 = \"\"\"Fleming, a forward from Saint Joseph's, averaged 14.7 points, 8.5 rebounds and 1.5 blocks last season, ranking in the top four in the Atlantic 10 in rebounds and blocks.\n",
        "\n",
        "Among the familiar names going early in the second round were Broome; Creighton center Ryan Kalkbrenner, the four-time Big East Defensive Player of Year, who was selected one pick earlier by the Charlotte Hornets at No. 34; and Marquette All-American Kam Jones, whose rights were acquired by the Eastern Conference champion Indiana Pacers after he was taken 38th by the San Antonio Spurs.\n",
        "\n",
        "Charlotte also took Sion James at No. 33, and the Cleveland Cavaliers picked Tyrese Proctor at 49, giving Duke all five of its starters being taken after Cooper Flagg, Kon Knueppel and Khaman Maluach went in the top 10.\n",
        "\n",
        "The Dallas Mavericks, who selected Flagg with the No. 1 pick Wednesday, did not have a selection when Round 2 began. They had the option to try to trade in, and a number of other teams moved around as the draft went on.\n",
        "\n",
        "The Orlando Magic were one of them, acquiring the draft rights to French forward Noah Penda at No. 32 from the Boston Celtics in exchange for Nos. 46 and 57, a second-round pick in 2026 and another in 2027. Orlando still owns four first-round picks and nine second-rounders over the next seven years.\n",
        "\n",
        "The 6-foot-8, 225-pound Penda offers inside-out versatility and defensive potential. The 20-year-old averaged 10.3 points, 5.5 rebounds and 2.6 assists in 33 games last year in France's top league.\n",
        "\n",
        "The Los Angeles Lakers also moved up, agreeing to acquire the rights to Adou Thiero, the 36th pick from Arkansas, from the Timberwolves in exchange for the No. 45 pick and cash. Because the Lakers sent out cash in the deal, they will be required to stay below the second apron next season.\n",
        "\n",
        "The league began using the two-night format last year, believing the event was ending too late when all 60 picks, along with approving trades, were being done in one night.\n",
        "\n",
        "Teams like the new system, with the ability to catch their breath and evaluate after the first round, but the players' side doesn't enjoy the potentially lengthy wait for those who are on the fringe of the first round but then have to wait another night if they tumble into the second.\n",
        "\n",
        "The draft had 59 picks this time, with the New York Knicks having been penalized their second-round selection for tampering by negotiating with Jalen Brunson too soon before eventually signing the guard away from Dallas in 2022.\n",
        "\n",
        "The NBA points to the success of players such as Brunson, who became an All-NBA selection in New York, and three-time MVP Nikola Jokic of the Denver Nuggets when touting the types of difference-makers who could come out of the second round.\n",
        "\n",
        "Broome might become one of those players. The runner-up to Flagg for The Associated Press men's college basketball national player of the year award was banged-up late in the season after leading the Tigers to the Final Four, and that might have led to some poor testing at the NBA combine.\n",
        "\n",
        "But Broome has believed he was an NBA player ever since his Morehead State team played against powerhouse Kentucky earlier in his career and he held his own. He believes he can do the same when he gets to camp with Joel Embiid and the 76ers.\"\"\"\n",
        "sample_text3 = \"\"\"The US district judge Vince Chhabria, in San Francisco, said in his decision on the Meta case that the authors had not presented enough evidence that the technology company’s AI would cause “market dilution” by flooding the market with work similar to theirs. As a consequence Meta’s use of their work was judged a “fair use” – a legal doctrine that allows use of copyright protected work without permission – and no copyright liability applied.\n",
        "\n",
        "However, the ruling offered hope for American creative professionals who argue that training AI models on their work without permission is illegal.\n",
        "\n",
        "Chhabria said using copyrighted work without permission to train large language models – the core technology behind chatbots like ChatGPT – would be unlawful in “many circumstances”, splitting with another federal judge in San Francisco who found on Monday in a separate lawsuit that Anthropic’s AI training made “fair use” of copyrighted materials.\n",
        "\n",
        "Chhabria also indicated the creative industries could launch further suits.\n",
        "\n",
        "“This ruling does not stand for the proposition that Meta’s use of copyrighted materials to train its language models is lawful,” he wrote.\n",
        "\n",
        "Chhabria dismissed as “nonsense” Meta’s claim that the public interest would be “badly disserved” if AI developers were blocked from using copyright-protected works freely.\n",
        "\n",
        "In his conclusion, Chhabria expressed sympathy for the argument that LLMs take authors’ work and then turn it against them.\n",
        "\n",
        "He wrote: “No matter how transformative LLM training may be, it’s hard to imagine that it can be fair use to use copyrighted books to develop a tool to make billions or trillions of dollars while enabling the creation of a potentially endless stream of competing works that could significantly harm the market for those books.”\n",
        "\n",
        "The doctrine of fair use allows the use of copyrighted works without the copyright owner’s permission in some circumstances and is a key defence for the tech companies.\n",
        "\n",
        "\"\"\"\n",
        "print(predict_article_category(sample_text))\n",
        "print(predict_article_category(sample_text2))\n",
        "print(predict_article_category(sample_text3))\n",
        "\n"
      ]
    },
    {
      "cell_type": "markdown",
      "id": "5f7b84ef",
      "metadata": {
        "id": "5f7b84ef"
      },
      "source": [
        "## Part 4: Model Analysis and Inference\n",
        "Analyze model performance on testing data\n",
        "- Create confusion matrix visualization\n",
        "- Analyze misclassifications\n",
        "- Identify strengths and weaknesses\n",
        "\n",
        "### Tensorflow Model"
      ]
    },
    {
      "cell_type": "code",
      "execution_count": 17,
      "id": "8d5691ba",
      "metadata": {
        "colab": {
          "base_uri": "https://localhost:8080/",
          "height": 1000
        },
        "id": "8d5691ba",
        "outputId": "0fa7759f-c11a-41ad-c98c-02ed5ce2249a"
      },
      "outputs": [
        {
          "name": "stdout",
          "output_type": "stream",
          "text": [
            "18/18 [==============================] - 1s 71ms/step\n"
          ]
        },
        {
          "data": {
            "text/plain": [
              "<Figure size 1000x800 with 0 Axes>"
            ]
          },
          "metadata": {},
          "output_type": "display_data"
        },
        {
          "data": {
            "image/png": "[encoded data removed]",
            "text/plain": [
              "<Figure size 640x480 with 2 Axes>"
            ]
          },
          "metadata": {},
          "output_type": "display_data"
        },
        {
          "name": "stdout",
          "output_type": "stream",
          "text": [
            "\n",
            "Classification Report:\n",
            "               precision    recall  f1-score   support\n",
            "\n",
            "     business       0.75      0.92      0.83       128\n",
            "entertainment       0.93      0.92      0.92        97\n",
            "     politics       0.88      0.75      0.81       104\n",
            "        sport       0.97      0.91      0.94       128\n",
            "         tech       0.89      0.84      0.87       100\n",
            "\n",
            "     accuracy                           0.87       557\n",
            "    macro avg       0.88      0.87      0.87       557\n",
            " weighted avg       0.88      0.87      0.87       557\n",
            "\n",
            "\n",
            "Model Strengths and Weaknesses:\n",
            "\n",
            "Strengths:\n",
            "- Overall accuracy: 0.8725\n",
            "- Best performing category: sport\n",
            "\n",
            "Weaknesses:\n",
            "- Worst performing category: politics\n"
          ]
        },
        {
          "data": {
            "image/png": "[encoded data removed]",
            "text/plain": [
              "<Figure size 1200x600 with 1 Axes>"
            ]
          },
          "metadata": {},
          "output_type": "display_data"
        }
      ],
      "source": [
        "# Generate predictions for the test set\n",
        "test_predictions = tf_classifier_model.predict(test_dataset)\n",
        "y_pred = tf.argmax(test_predictions, axis=1).numpy()\n",
        "\n",
        "# Get true labels from testing data\n",
        "y_true = [labels.numpy() for _, labels in test_dataset.unbatch()]\n",
        "\n",
        "# Create and visualize the confusion matrix\n",
        "cm = confusion_matrix(y_true, y_pred)\n",
        "plt.figure(figsize=(10, 8))\n",
        "disp = ConfusionMatrixDisplay(confusion_matrix=cm, display_labels=categories)\n",
        "disp.plot(cmap='Blues', values_format='d')\n",
        "plt.title('Confusion Matrix for BBC News Classification (TensorFlow)')\n",
        "plt.grid(False)\n",
        "plt.show()\n",
        "\n",
        "# Create classification report\n",
        "report = classification_report(y_true, y_pred, target_names=categories, output_dict=True)\n",
        "print(\"\\nClassification Report:\")\n",
        "print(classification_report(y_true, y_pred, target_names=categories))\n",
        "\n",
        "# Identify strengths and weaknesses\n",
        "print(\"\\nModel Strengths and Weaknesses:\")\n",
        "\n",
        "# Calculate per-class metrics (use classification report)\n",
        "per_class_metrics = {category: {\n",
        "    'precision': report[category]['precision'],\n",
        "    'recall': report[category]['recall'],\n",
        "    'f1-score': report[category]['f1-score'],\n",
        "    'support': report[category]['support']\n",
        "} for category in categories}\n",
        "\n",
        "# Find best and worst performing categories\n",
        "f1_scores = {cat: metrics['f1-score'] for cat, metrics in per_class_metrics.items()}\n",
        "best_category = max(f1_scores.items(), key=lambda x: x[1])\n",
        "worst_category = min(f1_scores.items(), key=lambda x: x[1])\n",
        "\n",
        "print(f\"\\nStrengths:\")\n",
        "print(f\"- Overall accuracy: {report['accuracy']:.4f}\")\n",
        "print(f\"- Best performing category: {best_category[0]}\")\n",
        "print(f\"\\nWeaknesses:\")\n",
        "print(f\"- Worst performing category: {worst_category[0]}\")\n",
        "\n",
        "# Visualize per-class performance\n",
        "plt.figure(figsize=(12, 6))\n",
        "categories_indices = range(len(categories))\n",
        "width = 0.25\n",
        "\n",
        "plt.bar([i - width for i in categories_indices],\n",
        "        [per_class_metrics[cat]['precision'] for cat in categories],\n",
        "        width=width, label='Precision')\n",
        "plt.bar(categories_indices,\n",
        "        [per_class_metrics[cat]['recall'] for cat in categories],\n",
        "        width=width, label='Recall')\n",
        "plt.bar([i + width for i in categories_indices],\n",
        "        [per_class_metrics[cat]['f1-score'] for cat in categories],\n",
        "        width=width, label='F1-Score')\n",
        "\n",
        "plt.xlabel('Category')\n",
        "plt.ylabel('Score')\n",
        "plt.title('Performance Metrics by Category')\n",
        "plt.xticks(categories_indices, categories, rotation=45)\n",
        "plt.legend()\n",
        "plt.tight_layout()\n",
        "plt.show()"
      ]
    },
    {
      "cell_type": "code",
      "execution_count": 18,
      "id": "9115cc66",
      "metadata": {
        "colab": {
          "base_uri": "https://localhost:8080/"
        },
        "id": "9115cc66",
        "outputId": "41122db8-9915-4c4f-a8f7-c0637c757d2b"
      },
      "outputs": [
        {
          "name": "stdout",
          "output_type": "stream",
          "text": [
            "\n",
            "Testing inference on sample articles:\n",
            "1/1 [==============================] - 0s 24ms/step\n",
            "\n",
            "Sample 1:\n",
            "Text: The tech giant announced the release of their new smartphone that features advanced AI capabilities ...\n",
            "Predicted category: tech (confidence: 0.4910)\n",
            "All category confidences:\n",
            "  - tech: 0.4910\n",
            "  - business: 0.2804\n",
            "  - entertainment: 0.0944\n",
            "  - politics: 0.0698\n",
            "  - sport: 0.0643\n",
            "1/1 [==============================] - 0s 25ms/step\n",
            "\n",
            "Sample 2:\n",
            "Text: The football team secured their victory in the final minutes with a spectacular goal. The win puts t...\n",
            "Predicted category: sport (confidence: 0.7175)\n",
            "All category confidences:\n",
            "  - sport: 0.7175\n",
            "  - tech: 0.1607\n",
            "  - business: 0.0427\n",
            "  - politics: 0.0402\n",
            "  - entertainment: 0.0390\n",
            "1/1 [==============================] - 0s 24ms/step\n",
            "\n",
            "Sample 3:\n",
            "Text: Stock markets plummeted following the central bank's announcement of interest rate increases. Invest...\n",
            "Predicted category: business (confidence: 0.5782)\n",
            "All category confidences:\n",
            "  - business: 0.5782\n",
            "  - tech: 0.2400\n",
            "  - politics: 0.0764\n",
            "  - sport: 0.0586\n",
            "  - entertainment: 0.0468\n",
            "1/1 [==============================] - 0s 25ms/step\n",
            "\n",
            "Sample 4:\n",
            "Text: The new film starring the award-winning actress has received critical acclaim at the international f...\n",
            "Predicted category: entertainment (confidence: 0.4159)\n",
            "All category confidences:\n",
            "  - entertainment: 0.4159\n",
            "  - tech: 0.2652\n",
            "  - business: 0.1877\n",
            "  - politics: 0.0705\n",
            "  - sport: 0.0607\n",
            "1/1 [==============================] - 0s 26ms/step\n",
            "\n",
            "Sample 5:\n",
            "Text: The government announced new policies regarding digital privacy and data protection. Opposition part...\n",
            "Predicted category: business (confidence: 0.3251)\n",
            "All category confidences:\n",
            "  - business: 0.3251\n",
            "  - politics: 0.3201\n",
            "  - tech: 0.2394\n",
            "  - sport: 0.0656\n",
            "  - entertainment: 0.0497\n"
          ]
        }
      ],
      "source": [
        "# Create a function for model inference on new articles\n",
        "def predict_article_category(text, model=tf_classifier_model):\n",
        "    \"\"\"\n",
        "    Predict the category of a news article using the fine-tuned model.\n",
        "\n",
        "    Args:\n",
        "        text (str): The text of the news article\n",
        "        model: The fine-tuned TensorFlow model\n",
        "\n",
        "    Returns:\n",
        "        dict: Prediction results including category and confidence scores\n",
        "    \"\"\"\n",
        "    # Make prediction\n",
        "    prediction = model.predict([text])[0]\n",
        "\n",
        "    # Get the predicted category and confidence\n",
        "    predicted_class_id = np.argmax(prediction)\n",
        "    predicted_category = categories[predicted_class_id]\n",
        "    confidence = float(prediction[predicted_class_id])\n",
        "\n",
        "    # Get confidence for all categories\n",
        "    category_confidences = {categories[i]: float(prediction[i]) for i in range(len(categories))}\n",
        "\n",
        "    # Sort categories by confidence (descending)\n",
        "    sorted_categories = sorted(category_confidences.items(), key=lambda x: x[1], reverse=True)\n",
        "\n",
        "    return {\n",
        "        'text': text[:100] + '...' if len(text) > 100 else text,\n",
        "        'predicted_category': predicted_category,\n",
        "        'confidence': confidence,\n",
        "        'all_confidences': sorted_categories\n",
        "    }\n",
        "\n",
        "# Test the inference function with example articles\n",
        "sample_articles = [\n",
        "    \"The tech giant announced the release of their new smartphone that features advanced AI capabilities and improved battery life. The product will be available in stores next month.\",\n",
        "    \"The football team secured their victory in the final minutes with a spectacular goal. The win puts them at the top of the league table.\",\n",
        "    \"Stock markets plummeted following the central bank's announcement of interest rate increases. Investors are concerned about the impact on economic growth.\",\n",
        "    \"The new film starring the award-winning actress has received critical acclaim at the international film festival. Critics praised the innovative cinematography.\",\n",
        "    \"The government announced new policies regarding digital privacy and data protection. Opposition parties have criticized the measures as inadequate.\"\n",
        "]\n",
        "\n",
        "print(\"\\nTesting inference on sample articles:\")\n",
        "for i, article in enumerate(sample_articles):\n",
        "    result = predict_article_category(article)\n",
        "    print(f\"\\nSample {i+1}:\")\n",
        "    print(f\"Text: {result['text']}\")\n",
        "    print(f\"Predicted category: {result['predicted_category']} (confidence: {result['confidence']:.4f})\")\n",
        "    print(\"All category confidences:\")\n",
        "    for category, conf in result['all_confidences']:\n",
        "        print(f\"  - {category}: {conf:.4f}\")"
      ]
    },
    {
      "cell_type": "markdown",
      "id": "18ab4efb",
      "metadata": {
        "id": "18ab4efb"
      },
      "source": [
        "# Part 5: Conclusion and Discussion\n",
        "Summarize your findings\n",
        "- What was the final accuracy and other metrics?\n",
        "Final accuracy was 0.87, precision was 0.87, recall was 0.87 and F1 was 0.87\n",
        "- What categories were easiest/hardest to classify?\n",
        "Sports was the easiest category to classify, while politics was the hardest to classify.\n",
        "- What challenges did you encounter?\n",
        "The model sometimes struggles with overlap between the categories.\n",
        "- How might you improve the model further?\n",
        "Additional training, data will be needed to improve further. Hugging face transformer could be used"
      ]
    },
    {
      "cell_type": "markdown",
      "id": "d724021e",
      "metadata": {},
      "source": []
    },
    {
      "cell_type": "markdown",
      "id": "3bc2fb62",
      "metadata": {},
      "source": []
    }
  ],
  "metadata": {
    "accelerator": "GPU",
    "colab": {
      "gpuType": "T4",
      "provenance": []
    },
    "kernelspec": {
      "display_name": "ds-env",
      "language": "python",
      "name": "python3"
    },
    "language_info": {
      "codemirror_mode": {
        "name": "ipython",
        "version": 3
      },
      "file_extension": ".py",
      "mimetype": "text/x-python",
      "name": "python",
      "nbconvert_exporter": "python",
      "pygments_lexer": "ipython3",
      "version": "3.10.18"
    }
  },
  "nbformat": 4,
  "nbformat_minor": 5
}
